{
 "cells": [
  {
   "cell_type": "code",
   "execution_count": 141,
   "metadata": {},
   "outputs": [],
   "source": [
    "import pandas as pd\n",
    "import numpy as np\n",
    "import matplotlib.pyplot as plt\n",
    "import nltk\n",
    "from nltk.corpus import stopwords\n",
    "from nltk.stem import PorterStemmer, WordNetLemmatizer\n",
    "from deep_translator import GoogleTranslator\n"
   ]
  },
  {
   "cell_type": "code",
   "execution_count": 189,
   "metadata": {},
   "outputs": [
    {
     "name": "stdout",
     "output_type": "stream",
     "text": [
      "<class 'pandas.core.frame.DataFrame'>\n",
      "RangeIndex: 4645 entries, 0 to 4644\n",
      "Data columns (total 10 columns):\n",
      " #   Column          Non-Null Count  Dtype \n",
      "---  ------          --------------  ----- \n",
      " 0   REVIEW ID       4645 non-null   int64 \n",
      " 1   SOURCE          4645 non-null   object\n",
      " 2   REVIEW BY       4643 non-null   object\n",
      " 3   REVIEW DATE     4645 non-null   object\n",
      " 4   REVIEW MONTH    4645 non-null   object\n",
      " 5   REVIEW YEAR     4645 non-null   int64 \n",
      " 6   REVIEW SUBJECT  2771 non-null   object\n",
      " 7   text            4645 non-null   object\n",
      " 8   REVIEW RATING   4645 non-null   int64 \n",
      " 9   REVIEW TYPE     4645 non-null   object\n",
      "dtypes: int64(3), object(7)\n",
      "memory usage: 363.0+ KB\n"
     ]
    }
   ],
   "source": [
    "iskcon = pd.read_csv('/Users/sonali/Desktop/Okstate/BAN 5743/Week11/Iskcon_data.csv')\n",
    "iskcon.info()"
   ]
  },
  {
   "cell_type": "code",
   "execution_count": 190,
   "metadata": {},
   "outputs": [
    {
     "data": {
      "text/plain": [
       "1     \" Wow ! What a beautiful place \" Iscon temple ...\n",
       "3     \"Hare Rama Hare Rama Rama Rama Hare Hare, Hare...\n",
       "5     \"Management system is nice.., each time we vis...\n",
       "6     \"The discipline, cleanliness and the ambiance ...\n",
       "9     . MAINTENANCE SUPERB. Feel like you are in the...\n",
       "10    ...iskcon dwarka ......Yaha mandir k andar bhi...\n",
       "Name: text, dtype: object"
      ]
     },
     "execution_count": 190,
     "metadata": {},
     "output_type": "execute_result"
    }
   ],
   "source": [
    "iskcon['text'][[1,3,5,6,9,10]]"
   ]
  },
  {
   "cell_type": "code",
   "execution_count": 147,
   "metadata": {},
   "outputs": [],
   "source": [
    "iskcon['text_translated'] = iskcon['text'].apply(lambda x : GoogleTranslator(source='auto', target='en').translate(x))\n"
   ]
  },
  {
   "cell_type": "code",
   "execution_count": 201,
   "metadata": {},
   "outputs": [
    {
     "name": "stdout",
     "output_type": "stream",
     "text": [
      "<class 'pandas.core.frame.DataFrame'>\n",
      "RangeIndex: 4645 entries, 0 to 4644\n",
      "Data columns (total 10 columns):\n",
      " #   Column          Non-Null Count  Dtype \n",
      "---  ------          --------------  ----- \n",
      " 0   REVIEW ID       4645 non-null   int64 \n",
      " 1   SOURCE          4645 non-null   object\n",
      " 2   REVIEW BY       4643 non-null   object\n",
      " 3   REVIEW DATE     4645 non-null   object\n",
      " 4   REVIEW MONTH    4645 non-null   object\n",
      " 5   REVIEW YEAR     4645 non-null   int64 \n",
      " 6   REVIEW SUBJECT  2771 non-null   object\n",
      " 7   text            4645 non-null   object\n",
      " 8   REVIEW RATING   4645 non-null   int64 \n",
      " 9   REVIEW TYPE     4645 non-null   object\n",
      "dtypes: int64(3), object(7)\n",
      "memory usage: 363.0+ KB\n"
     ]
    }
   ],
   "source": [
    "iskcon.info()"
   ]
  },
  {
   "cell_type": "code",
   "execution_count": 204,
   "metadata": {},
   "outputs": [],
   "source": [
    "iskcon.to_csv('/Users/sonali/Desktop/Okstate/BAN 5743/iskcon_translated.csv')\n"
   ]
  },
  {
   "cell_type": "code",
   "execution_count": 283,
   "metadata": {},
   "outputs": [
    {
     "data": {
      "text/plain": [
       "942    Good\n",
       "Name: text_translated, dtype: object"
      ]
     },
     "execution_count": 283,
     "metadata": {},
     "output_type": "execute_result"
    }
   ],
   "source": [
    "translated = pd.read_csv('/Users/sonali/Desktop/Okstate/BAN 5743/Week11/iskcon_translated.csv')\n",
    "translated['text_translated'][[942]]"
   ]
  },
  {
   "cell_type": "code",
   "execution_count": 252,
   "metadata": {},
   "outputs": [
    {
     "name": "stdout",
     "output_type": "stream",
     "text": [
      "<class 'pandas.core.frame.DataFrame'>\n",
      "Int64Index: 4644 entries, 0 to 4644\n",
      "Data columns (total 12 columns):\n",
      " #   Column           Non-Null Count  Dtype \n",
      "---  ------           --------------  ----- \n",
      " 0   Unnamed: 0       4644 non-null   int64 \n",
      " 1   REVIEW ID        4644 non-null   int64 \n",
      " 2   SOURCE           4644 non-null   object\n",
      " 3   REVIEW BY        4642 non-null   object\n",
      " 4   REVIEW DATE      4644 non-null   object\n",
      " 5   REVIEW MONTH     4644 non-null   object\n",
      " 6   REVIEW YEAR      4644 non-null   int64 \n",
      " 7   REVIEW SUBJECT   2771 non-null   object\n",
      " 8   text             4644 non-null   object\n",
      " 9   REVIEW RATING    4644 non-null   int64 \n",
      " 10  REVIEW TYPE      4644 non-null   object\n",
      " 11  text_translated  4644 non-null   object\n",
      "dtypes: int64(4), object(8)\n",
      "memory usage: 600.7+ KB\n"
     ]
    }
   ],
   "source": [
    "translated.info()"
   ]
  },
  {
   "cell_type": "code",
   "execution_count": 284,
   "metadata": {},
   "outputs": [],
   "source": [
    "translated.dropna(subset='text_translated', axis=0,inplace=True)"
   ]
  },
  {
   "cell_type": "code",
   "execution_count": 285,
   "metadata": {},
   "outputs": [
    {
     "name": "stderr",
     "output_type": "stream",
     "text": [
      "/var/folders/1q/qj77hns50_n2lj1c72ffdt9r0000gn/T/ipykernel_28488/3188112865.py:3: FutureWarning: The default value of regex will change from True to False in a future version.\n",
      "  translated['text_translated'] = translated['text_translated'].str.replace(patterndigits,'')\n",
      "/var/folders/1q/qj77hns50_n2lj1c72ffdt9r0000gn/T/ipykernel_28488/3188112865.py:5: FutureWarning: The default value of regex will change from True to False in a future version.\n",
      "  translated['text_translated'] = translated['text_translated'].str.replace(patternpunc,'')\n"
     ]
    },
    {
     "data": {
      "text/plain": [
       "1     wow beautiful place iscon temple ambiance temp...\n",
       "3     hare rama hare rama rama rama hare hare hare k...\n",
       "5     management system nice time visit temple enjoy...\n",
       "6            discipline cleanliness ambiance maintained\n",
       "9     maintenance superb feel hill peaceful atmosphe...\n",
       "10    iskcon dwarka mandir aandar stall laga prasad ...\n",
       "Name: text_translated, dtype: object"
      ]
     },
     "execution_count": 285,
     "metadata": {},
     "output_type": "execute_result"
    }
   ],
   "source": [
    "translated['text_translated'] = translated['text_translated'].apply(lambda x : \" \".join(x.lower() for x in x.split()))\n",
    "patterndigits = '\\\\b[0-9]+\\\\b'\n",
    "translated['text_translated'] = translated['text_translated'].str.replace(patterndigits,'')\n",
    "patternpunc = '[^\\w\\s]'\n",
    "translated['text_translated'] = translated['text_translated'].str.replace(patternpunc,'')\n",
    "stop = stopwords.words('hinglish')\n",
    "translated['text_translated'] = translated['text_translated'].apply(lambda x: \" \".join(x for x in x.split() if x not in stop))\n",
    "lemma = WordNetLemmatizer()\n",
    "translated['text_translated'] = translated['text_translated'].apply(lambda x: \" \".join(lemma.lemmatize(x) for x in x.split()))\n",
    "translated['text_translated'][[1,3,5,6,9,10]]"
   ]
  },
  {
   "cell_type": "code",
   "execution_count": 211,
   "metadata": {},
   "outputs": [
    {
     "name": "stderr",
     "output_type": "stream",
     "text": [
      "/var/folders/1q/qj77hns50_n2lj1c72ffdt9r0000gn/T/ipykernel_28488/760274138.py:3: FutureWarning: The default value of regex will change from True to False in a future version.\n",
      "  iskcon['text'] = iskcon['text'].str.replace(patterndigits,'')\n",
      "/var/folders/1q/qj77hns50_n2lj1c72ffdt9r0000gn/T/ipykernel_28488/760274138.py:5: FutureWarning: The default value of regex will change from True to False in a future version.\n",
      "  iskcon['text'] = iskcon['text'].str.replace(patternpunc,'')\n"
     ]
    }
   ],
   "source": [
    "iskcon['text'] = iskcon['text'].apply(lambda x : \" \".join(x.lower() for x in x.split()))\n",
    "patterndigits = '\\\\b[0-9]+\\\\b'\n",
    "iskcon['text'] = iskcon['text'].str.replace(patterndigits,'')\n",
    "patternpunc = '[^\\w\\s]'\n",
    "iskcon['text'] = iskcon['text'].str.replace(patternpunc,'')\n",
    "stop = stopwords.words('hinglish')\n",
    "iskcon['text'] = iskcon['text'].apply(lambda x: \" \".join(x for x in x.split() if x not in stop))\n",
    "lemma = WordNetLemmatizer()\n",
    "iskcon['text'] = iskcon['text'].apply(lambda x: \" \".join(lemma.lemmatize(x) for x in x.split()))"
   ]
  },
  {
   "cell_type": "code",
   "execution_count": 286,
   "metadata": {},
   "outputs": [],
   "source": [
    "from sklearn.feature_extraction.text import CountVectorizer\n",
    "vectorizer = CountVectorizer()\n",
    "vectorizer_trans = CountVectorizer()"
   ]
  },
  {
   "cell_type": "code",
   "execution_count": 297,
   "metadata": {},
   "outputs": [
    {
     "name": "stdout",
     "output_type": "stream",
     "text": [
      "['00am', '00pm', '100', '1000rupee', '1000th', '100rs', '105rs', '10rupees', '11am', '12us', '13th', '14th', '150add', '15am', '15am1pm', '15pm', '15yrs', '17m', '1990s', '1997th', '19th', '1hr', '1nce', '1off', '1pm', '1st', '1stcrowd', '2030hrs', '20pm', '20th', '25th', '26th', '29th', '2hours', '2hrs', '2nd', '2pm', '300inr', '300r', '300rupee', '30am', '30km', '30pm', '30rs', '30th', '30us', '3a', '3d', '3hrs', '3km', '3o', '3pmif', '3rd', '400rs', '40min', '40rs', '45mins', '4am', '4d', '4pm', '4th', '4ths', '50rs', '56bhog', '5am', '5hrs', '5km', '5m', '5pm', '5star', '5th', '6pm', '6th', '78e78a19e', '7d', '7pm', '7th', '8am', '8pm', '90', '9pm', '9th', '__', 'aa', 'aaarti', 'aagama', 'aage', 'aahe', 'aandar', 'aaradhya', 'aarathi', 'aarathy', 'aarati', 'aaratis', 'aart', 'aarthi', 'aarthipooja', 'aarti', 'aartiits', 'aartis', 'aback', 'abbreviation', 'abgeebn', 'abhay', 'abhishake', 'abhishek', 'abhisheka', 'abhishekam', 'abhishekham', 'abide', 'ability', 'abode', 'abondoned', 'abroad', 'abruptly', 'absence', 'absolute', 'absolutely', 'absorb', 'absorbed', 'absoutely', 'absurd', 'abundance', 'abundant', 'abusing', 'ac', 'accccordingly', 'accept', 'acceptable', 'accepted', 'accepting', 'access', 'accessed', 'accessibility', 'accessible', 'accessibly', 'accessory', 'accident', 'accomdate', 'accomidation', 'accommodate', 'accommodation', 'accomodation', 'accomodative', 'accompanied', 'accordance', 'accordinglyfor', 'accosted', 'account', 'accounting', 'accumulated', 'aced', 'acharya', 'ache', 'achhe', 'achieve', 'acounted', 'acquire', 'acquired', 'acre', 'act', 'action', 'active', 'activity', 'actual', 'adapted', 'add', 'added', 'addend', 'adding', 'addition', 'additional', 'additionally', 'address', 'adequate', 'adherence', 'adjacent', 'adjoining', 'adjusted', 'adlabs', 'administered', 'administrated', 'administration', 'administrationparking', 'administrationthere', 'administrator', 'admins', 'admirable', 'admirably', 'admiration', 'admire', 'admiring', 'admission', 'admit', 'admittance', 'adobe', 'adorable', 'adoring', 'adorned', 'adorning', 'adornment', 'adorns', 'adult', 'adultsall', 'advance', 'advantage', 'adventure', 'advice', 'advisable', 'advise', 'advised', 'advises', 'advisor', 'advocate', 'aerial', 'aesthetic', 'aesthetically', 'afar', 'affair', 'affecting', 'affectingthere', 'affection', 'affectionate', 'affiliated', 'affinity', 'afford', 'affordable', 'aford', 'afraid', 'afresh', 'aft', 'afterall', 'afterhari', 'afternoon', 'afterward', 'againa', 'againhare', 'againwill', 'agama', 'agarbathis', 'agarbatti', 'agarbattis', 'age', 'aged', 'ageold', 'aggressively', 'agitate', 'ago', 'agomon', 'agrahara', 'agree', 'agreed', 'ahamedabadmumbaidelhichennaibengaluru', 'ahead', 'ahmadabad', 'ahmedabad', 'aim', 'air', 'airport', 'airportrailway', 'airwaysthe', 'airy', 'ajmeras', 'aka', 'akhyaya', 'akin', 'akristo', 'akshara', 'akshardham', 'akshay', 'akshaya', 'akshayapatra', 'akshaypatra', 'akshsy', 'akshya', 'akward', 'ala', 'alacarte', 'alacrate', 'alankara', 'alankaram', 'alert', 'alife', 'alike', 'alingwith', 'alive', 'allfamily', 'alll', 'allocated', 'allot', 'allour', 'allover', 'allowed', 'allowedstrict', 'allowing', 'allthere', 'allways', 'almighty', 'alongiwth', 'alongwith', 'aloo', 'aloowing', 'alos', 'aloud', 'alowed', 'alowmidhidmid', 'alsothe', 'altar', 'alter', 'alternate', 'alternately', 'altitude', 'altogether', 'alumnus', 'amar', 'amaze', 'amazed', 'amazing', 'amazingfeeling', 'amazinghare', 'amazingly', 'amazingone', 'amazingthere', 'amazingyou', 'ambiance', 'ambiancelovely', 'ambience', 'ambienceentry', 'ambiencetheir', 'ambient', 'amd', 'amenitieseven', 'amenity', 'american', 'americansand', 'amezing', 'amidst', 'aminities', 'amiss', 'amnesty', 'amount', 'amphitheater', 'amphitheatre', 'amphitheatreanimation', 'ample', 'amra', 'amrutam', 'amuse', 'amused', 'amusement', 'amusing', 'analyse', 'anand', 'ance', 'ancient', 'ande', 'andor', 'ang', 'angle', 'angular', 'animal', 'animate', 'animated', 'animation', 'anjaneya', 'anjeneya', 'anjennaya', 'anna', 'annadan', 'annadana', 'annadanam', 'annadhana', 'annadhanam', 'annaprasadam', 'annasantharpane', 'annex', 'anniversary', 'annoyed', 'annoying', 'annual', 'answer', 'answered', 'ant', 'anti', 'antique', 'anxiety', 'anxious', 'anymore', 'anyones', 'anytime', 'apartment', 'apartthis', 'apiece', 'aplenty', 'aplomb', 'apologise', 'appa', 'apparel', 'apparent', 'apparently', 'appeal', 'appealing', 'appearance', 'appears', 'appease', 'appetite', 'applicable', 'applied', 'applies', 'apply', 'appointment', 'appreciable', 'appreciableearly', 'appreciate', 'appreciated', 'appreciating', 'appreciation', 'appreciative', 'approach', 'approachable', 'approached', 'approachesthe', 'approaching', 'appropriate', 'appropriately', 'approve', 'approx', 'approximately', 'apreseat', 'april', 'aprox', 'apss', 'aptly', 'ar', 'arathi', 'arati', 'aratik', 'aratipowerful', 'aratis', 'arcade', 'arch', 'archaeological', 'archana', 'architect', 'architected', 'architectural', 'architecturally', 'architecture', 'architecturebut', 'architectureclean', 'architectured', 'architectureinside', 'architecturelot', 'architecturethe', 'architecturethis', 'architecure', 'architecutre', 'archyou', 'ardent', 'area', 'areafoods', 'areal', 'areamany', 'areapoor', 'areathough', 'areayou', 'arena', 'arial', 'arjun', 'arjuna', 'arm', 'army', 'aro', 'aroma', 'aromatic', 'arou', 'aroundgo', 'arouses', 'arrange', 'arranged', 'arrangement', 'arrangemtns', 'array', 'arriv', 'arrival', 'arrive', 'arrived', 'art', 'artefact', 'arthi', 'arthiyou', 'arti', 'article', 'artifact', 'artificial', 'artificiality', 'artis', 'artisansuch', 'artistic', 'artwork', 'ascend', 'ascending', 'ascent', 'ashamed', 'ashok', 'ashram', 'ashtami', 'asia', 'asked', 'asks', 'aslo', 'aspect', 'aspirant', 'assailed', 'assemble', 'assignment', 'assist', 'assistant', 'assisted', 'assisting', 'assit', 'associate', 'associated', 'association', 'assume', 'assumption', 'assured', 'astami', 'astonished', 'astonishing', 'astonishingly', 'aswamemust', 'atall', 'ate', 'atheist', 'atheistby', 'atire', 'atit', 'atlast', 'atleast', 'atleat', 'atlist', 'atma', 'atmiosphere', 'atmoshere', 'atmosphere', 'atmospherealways', 'atmospherebest', 'atmospherelot', 'atmospherethe', 'atmospheric', 'atop', 'atractive', 'atrium', 'atrocious', 'attached', 'attachment', 'attack', 'attain', 'attempt', 'atten', 'attend', 'attendance', 'attendant', 'attended', 'attendee', 'attending', 'attention', 'attire', 'attireno', 'attitude', 'attract', 'attracted', 'attracting', 'attraction', 'attractionone', 'attractive', 'attractiveb', 'attractively', 'attractiveness', 'attracts', 'audible', 'audio', 'audiocds', 'auditing', 'auditorium', 'auditoriumthe', 'aug', 'aug20145', 'august', 'aunt', 'aura', 'auspicious', 'ausum', 'authentic', 'authenticity', 'author', 'authority', 'authoritybangalore', 'auticious', 'auto', 'autoand', 'autobus', 'automatically', 'automised', 'automspheair', 'autosbusescabs', 'avail', 'availability', 'availabl', 'available', 'availableample', 'availablecharity', 'availabledifferent', 'availableenjoy', 'availablegood', 'availablein', 'availablemust', 'availableone', 'availablephotography', 'availableresturant', 'availablevery', 'availaple', 'availed', 'avataar', 'avatar', 'avathar', 'avathars', 'ave', 'average', 'averse', 'avid', 'avilabalefood', 'avoid', 'avoided', 'avoiding', 'avotar', 'avtar', 'avtara', 'await', 'awaited', 'awaiting', 'awaits', 'awakening', 'awaliable', 'aware', 'awareness', 'awasome', 'away', 'aways', 'awaythe', 'awe', 'aweinspiring', 'awesom', 'awesome', 'awesomea', 'awesomefull', 'awesomei', 'awesomeness', 'awesomenice', 'awesomeu', 'awesomeyou', 'awesomn', 'awestruck', 'awkward', 'awosme', 'awsome', 'ayurvedic', 'aztec', 'ba', 'baby', 'bacause', 'back', 'backer', 'backgound', 'background', 'backit', 'backpack', 'backside', 'backward', 'badam', 'badhyo', 'badrinath', 'bag', 'bagavad', 'bagavadgita', 'bagavat', 'baggage', 'bagspencilscompact', 'baigan', 'bail', 'baisnav', 'bajan', 'bajanas', 'bajans', 'baji', 'bajjis', 'bak', 'baked', 'bakery', 'bakeryeatery', 'bakeshop', 'bakthas', 'bakthi', 'balaji', 'balajisri', 'balance', 'balaraamaalso', 'balaram', 'balarama', 'balaramsri', 'balcony', 'balm', 'balram', 'balrama', 'balramanitai', 'banagaluru', 'banana', 'bandhu', 'bandra', 'bang', 'bangaaaallore', 'bangali', 'bangalider', 'bangalira', 'bangalor', 'bangalore', 'bangalorea', 'bangalorean', 'bangaloreand', 'bangaloreans', 'bangaloreas', 'bangaloregood', 'bangalorei', 'bangaloreif', 'bangaloreindiacan', 'bangaloreit', 'bangalorekarnatakaindia', 'bangaloreknown', 'bangalorelocated', 'bangaloreloved', 'bangaloreno', 'bangaloreone', 'bangaloreshould', 'bangaloresomething', 'bangaloresri', 'bangalorethat', 'bangalorethe', 'bangaloretheir', 'bangalorethis', 'bangalorevery', 'bangalorevibrant', 'bangalorewithout', 'bangaloreyou', 'bangalroe', 'bangaluru', 'bangeluruwell', 'bangla', 'bangladesh', 'banglaore', 'banglore', 'bangloreans', 'banglorejust', 'bangluru', 'banister', 'banned', 'bannerghatta', 'banquet', 'bar', 'barack', 'bare', 'barefoot', 'barefooted', 'barely', 'barfi', 'bargain', 'bark', 'barren', 'barricade', 'barricaded', 'barrier', 'barriered', 'basavangudi', 'based', 'basement', 'basic', 'basically', 'basis', 'basisno', 'basket', 'bat', 'bath', 'bathroom', 'bazaar', 'bazaarlike', 'bbsr', 'bcos', 'bcz', 'bday', 'beach', 'beacon', 'beacuse', 'bead', 'bear', 'bearer', 'beat', 'beating', 'beatyfull', 'beauti', 'beautiful', 'beautifulbut', 'beautifuldont', 'beautifuleverything', 'beautifulit', 'beautifull', 'beautifully', 'beautifulnext', 'beautifulsadly', 'beautifulserene', 'beautifulthe', 'beauty', 'beautyful', 'beautyfulmany', 'beautythe', 'bechhe', 'becoz', 'bed', 'bedsheet', 'beeds', 'befitting', 'beforegreat', 'beggar', 'begin', 'beginning', 'behave', 'behaved', 'behavednice', 'behaving', 'behavior', 'behaviour', 'behold', 'being', 'beingspritiual', 'beit', 'belief', 'believe', 'believed', 'believer', 'believing', 'bell', 'belonging', 'belongs', 'beloved', 'belssing', 'benares', 'bench', 'benchmark', 'bend', 'beneath', 'benefit', 'bengal', 'bengali', 'bengalore', 'bengaloru', 'bengaluru', 'bengalurubangalore', 'bengaluruit', 'bengalurus', 'bengluru', 'bengularans', 'benguluru', 'besi', 'besthad', 'besties', 'bestows', 'bestworth', 'besutiful', 'bet', 'betterthe', 'beutifull', 'beverage', 'beveragesno', 'beware', 'bewitched', 'bg', 'bhabei', 'bhagat', 'bhagavad', 'bhagavadgeeta', 'bhagavadgeetha', 'bhagavadgita', 'bhagavan', 'bhagavanbangloorewonder', 'bhagavat', 'bhagavatam', 'bhagavatgita', 'bhagavatham', 'bhagawad', 'bhagawan', 'bhagawat', 'bhagvad', 'bhagvan', 'bhagvat', 'bhagvatam', 'bhagvathgeetha', 'bhagwad', 'bhagwan', 'bhagwat', 'bhagwatgita', 'bhajan', 'bhajana', 'bhajans', 'bhajansand', 'bhajansis', 'bhajanspraises', 'bhajansshould', 'bhajee', 'bhaji', 'bhajias', 'bhajji', 'bhajna', 'bhajon', 'bhakan', 'bhakhti', 'bhakt', 'bhakta', 'bhaktas', 'bhakthi', 'bhakti', 'bhaktilike', 'bhaktivedanta', 'bhakto', 'bhakts', 'bhalo', 'bhanjans', 'bharat', 'bhargava', 'bharot', 'bharote', 'bharoter', 'bhavan', 'bhavas', 'bhavya', 'bhawan', 'bhkthi', 'bhog', 'bhoghats', 'bhogmeals', 'bhojan', 'bhubaneshwar', 'bhubaneswar', 'bi', 'biased', 'bibhag', 'big', 'bigger', 'biggest', 'bigi', 'bigif', 'bigu', 'bikash', 'bike', 'bill', 'billion', 'bin', 'biography', 'birag', 'bird', 'birla', 'birth', 'birthday', 'birthplace', 'biryani', 'biscuit', 'bisoy', 'biswajeet', 'bit', 'bite', 'bitter', 'blame', 'blanket', 'blazer', 'blend', 'blended', 'bless', 'blessed', 'blesses', 'blessfulamazing', 'blessing', 'blessingsyou', 'blind', 'blindly', 'bling', 'bliss', 'blissamazing', 'blissful', 'blissfull', 'blisspersonifiedmy', 'block', 'blocking', 'blogging', 'blor', 'blore', 'blow', 'blowing', 'blr', 'blue', 'bluntly', 'bluo', 'blur', 'blush', 'bmtc', 'bmtclocal', 'board', 'boarding', 'boast', 'body', 'boggling', 'boisterous', 'bold', 'boll', 'bols', 'bomanahalli', 'bombay', 'bonanza', 'bone', 'bonger', 'bongo', 'bonus', 'boo', 'book', 'booked', 'booking', 'booklet', 'booklive', 'bookscd', 'booksclotherseatablesphotos', 'bookshop', 'booksitems', 'booksmagazines', 'bookspooja', 'bookstall', 'bookstoys', 'boot', 'booth', 'bored', 'boring', 'boringthere', 'born', 'boro', 'borong', 'borrow', 'borrowing', 'borth', 'bos', 'bose', 'bosobas', 'boston', 'bot', 'botanical', 'bother', 'bothered', 'bothering', 'bottle', 'bottom', 'bottomless', 'bought', 'boulder', 'boundary', 'bountiful', 'bowl', 'bowled', 'bowling', 'bowlshaped', 'box', 'brabhupadas', 'brahmacharis', 'brahmotsava', 'brain', 'branch', 'brand', 'branded', 'branding', 'brasil', 'brass', 'brave', 'brazil', 'brazilian', 'breadrolls', 'break', 'breakfast', 'breakfastthe', 'breaking', 'breakneck', 'breath', 'breathing', 'breathtaken', 'breathtaking', 'breathtakingly', 'breazzy', 'breeze', 'breezy', 'bribery', 'bridge', 'brigade', 'bright', 'brighten', 'brightens', 'brightness', 'brilliance', 'brilliant', 'brilliantly', 'brindavan', 'bring', 'bringing', 'brings', 'brinjal', 'british', 'britisher', 'broadcast', 'broken', 'bronze', 'brother', 'brotherhoodlots', 'brought', 'browse', 'brunch', 'brundawanam', 'bu', 'buck', 'bucket', 'bud', 'buddha', 'buddhism', 'budget', 'buffet', 'buffetnot', 'build', 'builder', 'building', 'built', 'builtdoing', 'buisness', 'bull', 'bullet', 'bumper', 'bumpy', 'bunch', 'bunked', 'bureaucratic', 'burger', 'burn', 'burst', 'bus', 'busier', 'busiest', 'business', 'businesslike', 'busmetrocab', 'buster', 'bustle', 'bustling', 'busy', 'buttermilk', 'button', 'buy', 'buying', 'buyingdining', 'buyusualy', 'buzz', 'buzzing', 'bye', 'bypass', 'cab', 'cacophany', 'cafe', 'cafetaria', 'cafeteria', 'cafeteriacanteen', 'cake', 'cakeof', 'cakesamosamilk', 'calamity', 'calander', 'calcutta', 'calendar', 'calender', 'call', 'called', 'calling', 'callout', 'calm', 'calmer', 'calmeverytym', 'calming', 'calmly', 'calmness', 'calmquitedevotional', 'calmweekends', 'cam', 'camera', 'camerabags', 'camers', 'camp', 'campaigning', 'camphor', 'campus', 'campuswith', 'can', 'candlesthe', 'candy', 'cane', 'canmust', 'canopy', 'canteen', 'canteenthey', 'cantonment', 'capacity', 'capitalistic', 'capola', 'captivated', 'captivates', 'captivating', 'captured', 'capturing', 'car', 'carbike', 'carbonate', 'card', 'cardomam', 'care', 'cared', 'career', 'careerstheir', 'careful', 'carefully', 'carelessness', 'careyoull', 'caring', 'carparking', 'carpet', 'carpeted', 'carried', 'carry', 'carrying', 'carryits', 'cartaxi', 'carte', 'cartoon', 'carved', 'carving', 'case', 'cash', 'cashing', 'casing', 'caste', 'casteforeigners', 'catch', 'catching', 'category', 'catered', 'catering', 'caters', 'cathedral', 'cattle', 'caught', 'caused', 'cautious', 'cchange', 'cd', 'cdscommercialization', 'ceiling', 'celebrate', 'celebrated', 'celebrates', 'celebration', 'celebrationwhere', 'cell', 'cellphone', 'center', 'centerally', 'centeric', 'centerpiece', 'centersetc', 'central', 'centrally', 'centre', 'centreplace', 'centrum', 'century', 'ceremonial', 'ceremony', 'chaats', 'chacotic', 'chaged', 'chain', 'chair', 'chaitanya', 'chaitanyas', 'chaitanyauseally', 'challenge', 'challenged', 'challenging', 'chamber', 'chance', 'chanchal', 'chandara', 'chandelier', 'chandra', 'chandrasri', 'chandrodaya', 'change', 'changed', 'changing', 'channel', 'chant', 'chanted', 'chanthare', 'chanting', 'chantinghari', 'chantting', 'chaos', 'chaotic', 'chappal', 'chappals', 'chappan', 'character', 'characteristic', 'characterized', 'charade', 'charanaravinda', 'charge', 'charged', 'charging', 'chariot', 'charisma', 'charismatic', 'charitable', 'charity', 'charm', 'charmed', 'charming', 'chasing', 'chasm', 'chat', 'chatterjee', 'chatts', 'cheap', 'cheaper', 'cheated', 'cheating', 'check', 'checked', 'checking', 'checkout', 'checkpoint', 'checkup', 'cheese', 'chennai', 'cherish', 'cherished', 'cherishing', 'cherry', 'chhara', 'chhere', 'child', 'childhood', 'childrena', 'childrens', 'childrensit', 'chillest', 'chilling', 'chiming', 'china', 'chinese', 'chit', 'chitranna', 'chnaged', 'choice', 'choicest', 'choose', 'choosing', 'chord', 'chore', 'chorestraffic', 'chose', 'chosen', 'choturdike', 'christian', 'chug', 'church', 'churidars', 'churn', 'cig', 'cigarette', 'cinema', 'cinnamon', 'circle', 'circuit', 'circuitous', 'circumstance', 'circumventing', 'citizen', 'citizensthese', 'cittácome', 'city', 'citya', 'cityhare', 'cityit', 'citywell', 'cityyoull', 'civil', 'civilization', 'civilized', 'clad', 'claim', 'claimed', 'clam', 'clamn', 'clan', 'clarity', 'clark', 'clash', 'class', 'classic', 'classlaudable', 'classy', 'clausterphobic', 'cle', 'clean', 'cleanall', 'cleanbeware', 'cleancan', 'cleandharshan', 'cleaned', 'cleaner', 'cleanest', 'cleanfood', 'cleangift', 'cleangreat', 'cleaniliness', 'cleaning', 'cleanliness', 'cleanlinessbest', 'cleanly', 'cleanness', 'cleanorganised', 'cleansri', 'cleansuperb', 'cleanyou', 'clear', 'clearance', 'clevely', 'click', 'clicking', 'client', 'climate', 'climb', 'climbed', 'climbing', 'clinical', 'cloak', 'cloakroom', 'close', 'closeby', 'closed', 'closely', 'closeness', 'closer', 'closest', 'closing', 'closure', 'cloth', 'clothers', 'clothes', 'clothesits', 'clothing', 'cloud', 'clove', 'club', 'clue', 'clutter', 'cnt', 'coal', 'coastal', 'coconut', 'code', 'coffee', 'coffeecake', 'cognitive', 'coincidentally', 'colaba', 'cold', 'collage', 'colleague', 'collect', 'collectable', 'collectible', 'collecting', 'collection', 'college', 'collogues', 'color', 'colored', 'colorful', 'coloring', 'colossal', 'colosus', 'colour', 'coloured', 'colourful', 'colstly', 'column', 'colurs', 'combination', 'combine', 'combined', 'combining', 'combo', 'comer', 'comercialised', 'comfort', 'comfortable', 'comfortably', 'comfortbale', 'comforting', 'coming', 'command', 'commemoration', 'commendable', 'comment', 'commentary', 'commented', 'commentthe', 'commerce', 'commercial', 'commercialas', 'commercialing', 'commercialisation', 'commercialised', 'commercialisedbut', 'commercialism', 'commercialization', 'commercializationbut', 'commercialize', 'commercialized', 'commercializedthey', 'commercializing', 'commercially', 'commercialoutlets', 'commercialyou', 'commericialised', 'commerlisled', 'comming', 'commitment', 'committee', 'commodity', 'common', 'commonly', 'commotion', 'communal', 'community', 'commute', 'commuter', 'company', 'comparable', 'comparative', 'comparatively', 'compare', 'compared', 'comparing', 'compassion', 'compelled', 'compete', 'compiled', 'complain', 'complaining', 'complaint', 'complaintsthats', 'complement', 'comples', 'complete', 'completed', 'completely', 'completing', 'complex', 'complexity', 'complexmall', 'complexsituated', 'complexthe', 'complexthere', 'complicated', 'complied', 'complimentary', 'composes', 'composing', 'compound', 'comprised', 'comprises', 'compromise', 'compulsary', 'compulsion', 'compulsorily', 'compulsory', 'con', 'conceived', 'concentrate', 'concentrated', 'concentrating', 'concentration', 'concept', 'conceptcheck', 'conception', 'concern', 'concerned', 'concession', 'concierge', 'concious', 'concluded', 'concluding', 'concrete', 'condemn', 'condition', 'conditioned', 'conduct', 'conducted', 'conference', 'confid', 'confidence', 'confirm', 'confiscated', 'confusing', 'confusion', 'congested', 'congestion', 'conmercialisation', 'connect', 'connected', 'connecting', 'connection', 'connectivity', 'connects', 'connoisseur', 'consciouness', 'conscious', 'consciousness', 'consciousnesswell', 'conservatively', 'consider', 'considerable', 'considerate', 'consideration', 'considered', 'considering', 'consist', 'consisting', 'consists', 'consort', 'constant', 'constantly', 'constricted', 'construct', 'constructed', 'constructing', 'construction', 'constucted', 'consultation', 'consume', 'consumed', 'consumer', 'consuming', 'contact', 'contagious', 'contain', 'contained', 'contains', 'contemplation', 'contemporary', 'content', 'continue', 'continuous', 'continuously', 'continuouslythe', 'contour', 'contradictory', 'contrary', 'contrast', 'contribute', 'contributed', 'contributes', 'contributing', 'contribution', 'control', 'controllari', 'controlled', 'controversy', 'convenience', 'convenient', 'conveniently', 'conventional', 'convergence', 'convert', 'converted', 'conveyance', 'conveying', 'conveys', 'convince', 'convinced', 'convinient', 'cook', 'cookbook', 'cooked', 'cooker', 'cooking', 'cooky', 'cool', 'coolcalm', 'cooler', 'coolest', 'cooling', 'coolmost', 'coolness', 'cooperative', 'coordinate', 'coordinated', 'cord', 'cordial', 'cordon', 'core', 'corn', 'corner', 'cornpuff', 'corollary', 'corporate', 'correct', 'correctly', 'corridor', 'corruption', 'cosmopolitan', 'cost', 'costing', 'costlier', 'costly', 'costlynow', 'costotherwise', 'costoverall', 'costume', 'costumesclothes', 'count', 'counter', 'countereverything', 'counterlibrary', 'countersthey', 'counting', 'countless', 'country', 'couple', 'coupled', 'coupon', 'couponcameras', 'course', 'court', 'courteous', 'courtier', 'courtyard', 'cover', 'covered', 'coveredmen', 'covering', 'cow', 'cowdy', 'coworkers', 'coz', 'craft', 'crafted', 'craftsman', 'craftsmanship', 'crammed', 'cramped', 'crampy', 'crate', 'crave', 'craving', 'crazy', 'cream', 'create', 'created', 'creates', 'creating', 'creation', 'creativity', 'credit', 'creed', 'creep', 'cresendofollow', 'cricket', 'criminal', 'crishna', 'criticism', 'crore', 'cross', 'crossed', 'crossing', 'crotasty', 'croud', 'crowd', 'crowded', 'crowdedstill', 'crowdedvery', 'crowding', 'crowdy', 'crowed', 'crown', 'crucial', 'crumbles', 'crunchy', 'cry', 'crystal', 'csr', 'cubbon', 'cud', 'cuddling', 'cuisine', 'cult', 'cultivation', 'cultural', 'culturally', 'culture', 'culturebut', 'culturethe', 'culturlal', 'cum', 'cumbersome', 'cup', 'curd', 'curio', 'curiosity', 'curious', 'currently', 'curried', 'curry', 'curse', 'curtious', 'custom', 'customer', 'cut', 'cute', 'cutting', 'cycle', 'da', 'dad', 'daily', 'dailyall', 'dailyenvironment', 'dairy', 'dal', 'dam', 'damn', 'damodar', 'dance', 'dancequiet', 'dancevast', 'dancing', 'dancingkrishna', 'dare', 'dark', 'darsan', 'darshan', 'darshana', 'darshanam', 'darshanarati', 'darshanhope', 'darshani', 'darshanone', 'darshanpooja', 'darshanrs', 'darshans', 'darshanthere', 'darshanthis', 'darshini', 'darshna', 'darsnam', 'darwazaas', 'dasa', 'dasaand', 'dasas', 'dasi', 'dasoha', 'dat', 'date', 'dated', 'dating', 'daughter', 'dawn', 'day', 'daylight', 'dayone', 'daysnice', 'daythats', 'daythe', 'daytime', 'dayvery', 'dazzling', 'ddayal', 'deal', 'dear', 'death', 'debit', 'dec', 'decade', 'december', 'decent', 'decently', 'decide', 'decided', 'deciplaned', 'decision', 'decked', 'declare', 'decline', 'decor', 'decorate', 'decorated', 'decoratedspecially', 'decoratedthere', 'decorating', 'decoration', 'decorative', 'decoratives', 'decorum', 'decrease', 'decsribe', 'dedicated', 'dedicating', 'dedication', 'deem', 'deen', 'deep', 'deepak', 'deeper', 'deeply', 'deeposthava', 'deepotsav', 'deepotsava', 'deewoty', 'defferent', 'definately', 'define', 'definetely', 'definetly', 'definite', 'definitely', 'definition', 'definittely', 'degree', 'deicated', 'deity', 'deityamong', 'deityif', 'deja', 'dekhamust', 'dekhlen', 'dekhte', 'dekko', 'delay', 'delectable', 'delegance', 'delegate', 'delegation', 'delhi', 'deli', 'deliberately', 'delicacy', 'delicious', 'deliciously', 'delight', 'delighted', 'delightful', 'delightfully', 'delivered', 'delivering', 'delivers', 'delivery', 'demand', 'demeaning', 'den', 'dense', 'densely', 'depart', 'dependent', 'depending', 'depends', 'depicted', 'depicting', 'depiction', 'depicts', 'deposit', 'depositcollection', 'deposited', 'depositing', 'depot', 'depressed', 'depressing', 'depression', 'depth', 'der', 'dere', 'dervices', 'descend', 'descended', 'descibe', 'desciples', 'describe', 'described', 'describing', 'descriptive', 'desert', 'deserved', 'deserves', 'deserving', 'desi', 'design', 'designated', 'designed', 'designedattracts', 'designer', 'desirable', 'desire', 'desired', 'desk', 'desperate', 'desperately', 'despite', 'dessert', 'destination', 'destitute', 'destresser', 'destroy', 'detachment', 'detail', 'detector', 'determined', 'detract', 'dev', 'devasthanam', 'develop', 'developed', 'developing', 'development', 'develops', 'devgan', 'devi', 'devin', 'devine', 'devitional', 'devoid', 'devonatioal', 'devoshanal', 'devote', 'devoted', 'devotee', 'devoteeship', 'devoteespeaceful', 'devoteesseeing', 'devoteesthey', 'devoteesvisitors', 'devoteeyou', 'devotes', 'devoties', 'devoting', 'devotion', 'devotional', 'devotionala', 'devotionality', 'devottees', 'devotthama', 'devout', 'dey', 'dhadibhavi', 'dhaiva', 'dhanam', 'dharma', 'dharmadhikaris', 'dharmer', 'dharmesh', 'dharmo', 'dharon', 'dharoner', 'dharsan', 'dharshan', 'dharshana', 'dhire', 'dhokla', 'dhol', 'dhongso', 'dhoni', 'dhore', 'dhoti', 'dhotisthe', 'dhupa', 'dhwaja', 'dhwajastambha', 'dhyaan', 'dialogue', 'diamond', 'diary', 'dicipline', 'didsaw', 'die', 'diet', 'dieties', 'diety', 'dietys', 'diff', 'differ', 'difference', 'different', 'differentiate', 'differently', 'difffr', 'difficult', 'difficultwe', 'difficulty', 'diffrent', 'digital', 'dignity', 'diiferent', 'diligence', 'dim', 'dimension', 'diminishes', 'dine', 'dining', 'diningits', 'diningwhile', 'dinner', 'dip', 'dipping', 'direct', 'directed', 'direction', 'directly', 'directlyu', 'dirt', 'dirty', 'dis', 'disability', 'disabled', 'disapointing', 'disappoint', 'disappointed', 'disappointing', 'disappointment', 'disbursal', 'discarded', 'disciple', 'discipline', 'disciplined', 'disciplinesituated', 'discomfort', 'discount', 'discounted', 'discourse', 'discover', 'discovering', 'discovery', 'discreetly', 'discriminating', 'discsringscloths', 'discus', 'discussion', 'disgusted', 'disgusting', 'dish', 'dishesfor', 'dislike', 'disliked', 'dismantled', 'disney', 'disneyesque', 'disneyland', 'disperse', 'display', 'displayed', 'disposable', 'dispute', 'disputed', 'dissapeared', 'dissatisfaction', 'dissolved', 'dissonance', 'distance', 'distinct', 'distinguishes', 'distract', 'distraction', 'distracts', 'distressed', 'distressful', 'distribute', 'distributed', 'distributing', 'distribution', 'district', 'disturb', 'disturbed', 'disturbs', 'dive', 'diverse', 'diversification', 'diversity', 'diverted', 'divide', 'divided', 'diviine', 'divine', 'divinely', 'divineness', 'divinessworth', 'divinethe', 'divinity', 'divinitychant', 'divinityi', 'division', 'divisive', 'divotees', 'divotional', 'divya', 'diwali', 'diyas', 'dliuting', 'dnt', 'doable', 'dog', 'doll', 'dollar', 'dom', 'dome', 'domination', 'don', 'donate', 'donated', 'donation', 'donationpurchase', 'donationsbut', 'donationsthats', 'doneyou', 'donna', 'donor', 'donot', 'donut', 'door', 'dosa', 'dosas', 'dossa', 'dotted', 'double', 'doubt', 'downhill', 'downpoint', 'downside', 'downstairs', 'downtown', 'dozen', 'drag', 'drama', 'drammatic', 'draped', 'drashan', 'dravidian', 'draw', 'drawback', 'drawing', 'drawn', 'dream', 'dreems', 'drenched', 'dress', 'dressed', 'dressedyou', 'dressesdecoration', 'dressing', 'dressradha', 'dried', 'drill', 'drink', 'drinking', 'dripping', 'drive', 'driver', 'driveritll', 'driving', 'drizzle', 'droning', 'drop', 'dropped', 'dropping', 'drowned', 'dry', 'dto', 'due', 'duing', 'dump', 'dumping', 'dupatta', 'duplicate', 'durga', 'durng', 'durshsn', 'dusk', 'dusshera', 'dust', 'dustbin', 'dusty', 'duty', 'dvd', 'dvotees', 'dwaja', 'dwajastambha', 'dwapara', 'dwar', 'dwaraka', 'dwarakeshwar', 'dwarka', 'dwell', 'dynamic', 'dz', 'eace', 'eager', 'eagerly', 'ear', 'earlier', 'earliest', 'early', 'earn', 'earnings', 'earth', 'earthhare', 'eas', 'ease', 'easier', 'easily', 'east', 'easy', 'eat', 'eatable', 'eatablemerchandise', 'eatbecause', 'eateriesone', 'eatery', 'eathigher', 'eating', 'eatingshopping', 'eatout', 'eatrates', 'eatrey', 'eats', 'eautiful', 'ebong', 'echo', 'echoing', 'eco', 'economical', 'economically', 'ecstacy', 'ecstasy', 'ecstatic', 'eder', 'edese', 'edible', 'edifice', 'educated', 'educating', 'education', 'educative', 'effect', 'effected', 'effection', 'effective', 'efficiency', 'efficient', 'efficiently', 'effort', 'egg', 'eggless', 'eggthis', 'ekadashi', 'ekadasiso', 'ekhane', 'ekhon', 'ekjon', 'ekoda', 'ekotha', 'eksomoy', 'elaborate', 'elaborately', 'elder', 'elderly', 'electric', 'electrical', 'electronic', 'elegant', 'elegantly', 'element', 'elevated', 'elevates', 'elevating', 'elevation', 'elevator', 'elf', 'elicit', 'eligant', 'eligible', 'eliminate', 'elite', 'eloquence', 'emanates', 'embarrassing', 'embassy', 'embedded', 'embellished', 'embossed', 'embrace', 'embraced', 'emerge', 'emon', 'emonbhabe', 'emonta', 'emotion', 'emotional', 'empathetic', 'emphasis', 'emple', 'employee', 'employeesvolunteers', 'employment', 'emporium', 'empty', 'en', 'enabled', 'enables', 'enarby', 'encased', 'enchant', 'enchanted', 'enchantic', 'enchanting', 'enchantment', 'encounter', 'encourag', 'encourage', 'encouraged', 'encouraging', 'end', 'endeavor', 'ended', 'ending', 'endless', 'endure', 'energetic', 'energize', 'energized', 'energy', 'energygo', 'enfield', 'enforced', 'engage', 'engaged', 'engineering', 'england', 'english', 'englishhindi', 'englishvery', 'engraved', 'enhance', 'enigmatic', 'enjoi', 'enjoy', 'enjoyable', 'enjoyed', 'enjoyes', 'enjoying', 'enjoyment', 'enjoymentmotivation', 'enjoys', 'enjoythe', 'enlighten', 'enlightened', 'enlightening', 'enlightenment', 'enlivening', 'enormity', 'enormous', 'enothing', 'enquire', 'enquirer', 'enquries', 'enrich', 'enriching', 'enrichment', 'enrol', 'enroll', 'enroute', 'enshrine', 'enshrined', 'ensure', 'ensured', 'ensures', 'ensuring', 'enter', 'enteranything', 'enterd', 'entered', 'entering', 'enterprise', 'enters', 'entertaining', 'entertainment', 'enthralled', 'enthusiastic', 'entire', 'entirely', 'entirety', 'entitled', 'entitles', 'entrace', 'entrance', 'entranceits', 'entranceprasad', 'entre', 'entrust', 'entrusted', 'entry', 'enviornmentthe', 'environment', 'environmentnear', 'environmentneed', 'environmentradhe', 'environmentsimply', 'environmentvery', 'environs', 'envt', 'epic', 'episode', 'equal', 'equally', 'equipment', 'equipped', 'equivalent', 'equivally', 'er', 'era', 'erokom', 'escalator', 'escape', 'escaping', 'escort', 'escorted', 'ese', 'eskoncompared', 'esp', 'especially', 'espionagehah', 'essence', 'essential', 'essentially', 'establish', 'established', 'establishing', 'establishment', 'estatic', 'estimated', 'eta', 'etai', 'etcalso', 'etcbeautiful', 'etchoweverto', 'etcit', 'etcluxuriously', 'etcmaking', 'etcone', 'etcoutside', 'etcthere', 'etcthey', 'eternal', 'eternally', 'eternity', 'ethereal', 'ethnic', 'etics', 'etiquette', 'eto', 'ets', 'euphoria', 'europe', 'european', 'evaporated', 'eve', 'evening', 'eveningiskcon', 'eveningit', 'eveningonce', 'event', 'eventhough', 'eventually', 'everyday', 'everydayeven', 'everydaysandhyarati', 'everyones', 'everyonethe', 'everyplace', 'everythinga', 'everythings', 'everytime', 'everytym', 'everywhereadditionally', 'everywheregood', 'eveybody', 'evidence', 'evident', 'evoke', 'evolved', 'evolving', 'exact', 'exaggerate', 'exaggerated', 'exaggeration', 'example', 'exceeded', 'exceeds', 'excellant', 'excellence', 'excellent', 'excellenthad', 'excellently', 'exception', 'exceptional', 'exceptionally', 'excessive', 'excited', 'exciting', 'exclusive', 'exclusively', 'excursion', 'excuse', 'executed', 'executive', 'exelant', 'exemplary', 'exercise', 'exhausted', 'exhausting', 'exhibition', 'exhilarating', 'exist', 'existence', 'existing', 'exists', 'exit', 'exited', 'exithas', 'exiting', 'exitingthey', 'exorbitantly', 'exp', 'expand', 'expanse', 'expansion', 'expansive', 'expat', 'expect', 'expectation', 'expected', 'expecting', 'expects', 'expens', 'expensive', 'expensiveif', 'experiance', 'experience', 'experienceat', 'experiencebeauty', 'experienced', 'experiencedo', 'experiencegod', 'experiencegreat', 'experiencei', 'experiencenice', 'experienceprashad', 'experiencequite', 'experiencerecomended', 'experiencethe', 'experiencethis', 'experiencevery', 'experiencewill', 'experiencing', 'experiment', 'experince', 'expert', 'expierience', 'expirence', 'explain', 'explained', 'explaining', 'explains', 'explanation', 'explicit', 'exploitation', 'explore', 'exploring', 'exposed', 'exposure', 'express', 'expressed', 'exquisite', 'exquisitely', 'extended', 'extensionbuilt', 'extensive', 'extent', 'exterior', 'extra', 'extraordinary', 'extravagance', 'extravagant', 'extravisited', 'extreme', 'extremely', 'eye', 'eyecatching', 'eyesfor', 'f5', 'fabric', 'fabulas', 'fabulous', 'facade', 'facadei', 'face', 'facebook', 'faced', 'facet', 'facilitates', 'facilitating', 'facilitiy', 'facility', 'facilitythe', 'facing', 'fact', 'factor', 'factory', 'fail', 'failed', 'fails', 'fair', 'fairly', 'faith', 'faithful', 'faithfully', 'fall', 'falling', 'family', 'familyfrinds', 'familyi', 'familyreally', 'familyshouldnt', 'familysingle', 'familythe', 'famous', 'fan', 'fanatic', 'fancy', 'fantastic', 'fantastici', 'fantasy', 'farce', 'fare', 'faronly', 'fascinated', 'fascinating', 'fashion', 'fast', 'faster', 'fastrack', 'fasttrack', 'fat', 'father', 'faucet', 'fav', 'favor', 'favorable', 'favorite', 'favoriteample', 'favour', 'favourit', 'favourite', 'façade', 'fear', 'feargreat', 'fearing', 'feast', 'feasting', 'feature', 'featured', 'featuring', 'feb', 'february', 'fed', 'fee', 'feeafter', 'feed', 'feedback', 'feeding', 'feel', 'feeling', 'feelingexperience', 'feelinghave', 'feelingstake', 'feetbasically', 'fell', 'felling', 'felt', 'female', 'fence', 'fenced', 'feom', 'ferried', 'ferry', 'fertile', 'fervor', 'fervour', 'festival', 'festive', 'festivity', 'fewer', 'fi', 'field', 'fifty', 'figure', 'figured', 'figurine', 'figuring', 'fil', 'fill', 'filled', 'filling', 'film', 'filter', 'final', 'finally', 'financial', 'find', 'finding', 'fine', 'finedine', 'finedining', 'finely', 'fineness', 'finest', 'finger', 'finish', 'finished', 'finishing', 'fire', 'firework', 'firm', 'firmly', 'firstly', 'firsttime', 'fish', 'fit', 'fity', 'fixed', 'flag', 'flagpost', 'flashless', 'flashy', 'flat', 'flauting', 'flavor', 'flavour', 'fledged', 'fleet', 'fleged', 'flight', 'flip', 'float', 'flock', 'flocked', 'flocking', 'flood', 'flooded', 'floor', 'floored', 'flooring', 'floorranging', 'floorwith', 'floral', 'flourished', 'flow', 'flowas', 'flower', 'flowershear', 'flowing', 'flown', 'fly', 'flyover', 'fnb', 'fo', 'focus', 'focused', 'focusing', 'folk', 'follow', 'follower', 'fond', 'food', 'foodbest', 'foodcourt', 'fooddy', 'foodgood', 'foodhigher', 'foodie', 'foodleftovers', 'foodno', 'foodprasadam', 'foodpuffs', 'foodsat', 'foodsnacks', 'foodsthe', 'foodstuff', 'fool', 'foood', 'foot', 'football', 'footed', 'footfall', 'footwear', 'forbid', 'forbidden', 'force', 'forced', 'forceful', 'forcefully', 'forcible', 'forcibly', 'forcing', 'forehead', 'foreign', 'foreigner', 'foresaw', 'foresee', 'forever', 'forget', 'forgettable', 'forgive', 'forgiveness', 'forgot', 'foriegners', 'forigner', 'form', 'formal', 'formality', 'formed', 'formerly', 'forprofit', 'fortnight', 'fortunate', 'fortunately', 'fortune', 'forward', 'fot', 'found', 'foundation', 'founded', 'founder', 'founderacarya', 'fount', 'fountain', 'foyer', 'fr', 'fracas', 'fragnance', 'frame', 'francisco', 'frankly', 'freak', 'free', 'freediscount', 'freedom', 'freely', 'freeserving', 'freethe', 'french', 'frequent', 'frequently', 'frequents', 'fresco', 'fresh', 'freshening', 'freshest', 'freshly', 'freshness', 'fri', 'friday', 'fried', 'friend', 'friendi', 'friendly', 'friendsa', 'friendship', 'friendsthe', 'friendwanna', 'frinds', 'frisking', 'frnds', 'frnz', 'fro', 'frod', 'frolic', 'fromthe', 'front', 'frown', 'fruit', 'fruitful', 'frustrated', 'frustrating', 'fry', 'ft', 'fulfill', 'fulfilling', 'fulfillingthe', 'fulfilment', 'full', 'fullday', 'fullest', 'fully', 'fun', 'function', 'functional', 'functionality', 'functionsweddings', 'fund', 'fundamental', 'funded', 'fungus', 'funny', 'furnished', 'fusion', 'fussy', 'future', 'gaainradhey', 'gadget', 'gain', 'gained', 'gajastumba', 'gallery', 'gamer', 'gamut', 'gandhi', 'ganesha', 'gap', 'garb', 'garbage', 'garbha', 'garbhgriha', 'garda', 'garden', 'gardener', 'gardenfountains', 'garish', 'garland', 'garlic', 'garliconion', 'garlicwhich', 'garment', 'garuda', 'garudadev', 'garudadeva', 'gatchigachi', 'gate', 'gatethe', 'gather', 'gathered', 'gathering', 'gaudiya', 'gauntlet', 'gaur', 'gaura', 'gaurai', 'gauranga', 'gaushala', 'gave', 'gawking', 'gazing', 'gbc', 'ge', 'geeta', 'geetha', 'geeting', 'gem', 'gender', 'general', 'generally', 'generate', 'generated', 'generates', 'generation', 'generous', 'generously', 'genius', 'gent', 'gentleman', 'gently', 'gentry', 'genuine', 'genuinely', 'geographics', 'gesture', 'getaway', 'gh', 'ghat', 'ghee', 'ghoshala', 'giant', 'gift', 'giftshop', 'gigantic', 'gila', 'gimks', 'giong', 'giridharji', 'girl', 'girlfriend', 'gita', 'give', 'giveaway', 'givin', 'giving', 'glad', 'glade', 'glamorous', 'glamour', 'glan', 'glance', 'glass', 'glimpse', 'glitter', 'glittery', 'glitz', 'global', 'globally', 'globe', 'gloomy', 'glorified', 'glorious', 'glory', 'glorykrishna', 'glow', 'glowing', 'glued', 'goal', 'goand', 'gobi', 'god', 'goddess', 'goddseees', 'godhare', 'godhead', 'godi', 'godif', 'godit', 'godits', 'godkrishna', 'godliness', 'godly', 'godmarble', 'godmy', 'godslot', 'godspujaprasadclean', 'godsremains', 'gogood', 'goid', 'goin', 'going', 'goinginside', 'gokrishna', 'gokulam', 'gokulashtami', 'gokulastami', 'gold', 'goldembossed', 'golden', 'goldplated', 'goloka', 'gonei', 'gonna', 'goo', 'good', 'goodalso', 'goodeateries', 'goodfood', 'goodif', 'goodmany', 'goodplacegoodlightingnatureveryniceplace', 'goodprasad', 'goodthe', 'goodvisited', 'goody', 'google', 'goosebump', 'gopal', 'gopeace', 'gopies', 'gopinath', 'gopuram', 'gopurams', 'gopuramstowersi', 'gorgeous', 'gori', 'gorib', 'goswami', 'gothere', 'gotra', 'gotta', 'gouranga', 'government', 'govery', 'govind', 'govinda', 'govindalord', 'govindas', 'govt', 'gowrasha', 'gowshalas', 'gping', 'gps', 'grab', 'grace', 'graceful', 'gracefuli', 'gracious', 'graciously', 'grad', 'gradually', 'graduate', 'grand', 'grandest', 'grandeur', 'grandeurit', 'grandly', 'grandson', 'granit', 'granite', 'grate', 'grateful', 'gratifyinggiving', 'gratitude', 'gravity', 'greanary', 'grear', 'great', 'greater', 'greathe', 'greatif', 'greatly', 'greatness', 'green', 'greenery', 'greenerythe', 'greeted', 'grief', 'grihotyag', 'grime', 'grind', 'grip', 'gripe', 'grocery', 'grohon', 'grossly', 'ground', 'group', 'grown', 'growth', 'grt', 'grtits', 'gruha', 'guaranga', 'guaranteed', 'guard', 'guarded', 'gud', 'gudur', 'guess', 'guest', 'guidance', 'guide', 'guided', 'guiding', 'gujarati', 'gulab', 'gullibles', 'guru', 'gurudwara', 'guruji', 'gurum', 'guruvayurappan', 'guruwere', 'gurvayurappan', 'gutaka', 'guy', 'ha', 'habit', 'habituated', 'hah', 'haha', 'haiagr', 'hail', 'hair', 'haivo', 'half', 'halfaday', 'halfanhour', 'halfday', 'haligo', 'hall', 'halldarbar', 'hallmy', 'hallserves', 'hallthe', 'halo', 'halt', 'halwa', 'hand', 'handcraft', 'handcrafted', 'handcut', 'handed', 'handel', 'handful', 'handicap', 'handicapped', 'handicraft', 'handicraftspaintings', 'handle', 'handled', 'handling', 'handout', 'handover', 'handycam', 'hang', 'hanging', 'hangout', 'hanuman', 'hanumantha', 'haoya', 'happen', 'happened', 'happening', 'happiee', 'happily', 'happiness', 'happinesspeace', 'happpyyyyy', 'happy', 'happyif', 'hara', 'hararhis', 'harass', 'harati', 'haray', 'hard', 'hardsell', 'hardship', 'hare', 'harehare', 'harekrishan', 'harekrishna', 'harekrishnaharekrishnakrishnakrishnaharehare', 'haremaha', 'hareramaharekrishna', 'harethe', 'hari', 'haribol', 'haridwar', 'harinaam', 'harinama', 'hariye', 'harldy', 'harm', 'harmonious', 'harmony', 'hasahasi', 'hasselling', 'hassle', 'hasty', 'hat', 'hate', 'hated', 'haunt', 'haunting', 'hav', 'havethe', 'havoc', 'hawker', 'hazardous', 'hdg', 'head', 'headache', 'heading', 'healing', 'heals', 'health', 'healthy', 'hear', 'heard', 'heared', 'hearing', 'hears', 'heart', 'hearta', 'heartily', 'heartwarming', 'heat', 'heater', 'heaven', 'heaven1st', 'heavenbrindavan', 'heavenly', 'heavily', 'heaving', 'heavy', 'hectaresbut', 'hectic', 'heighe', 'heigher', 'height', 'heighten', 'heightso', 'held', 'helds', 'hell', 'help', 'helped', 'helpful', 'helpfulphoto', 'helping', 'herculean', 'herded', 'herecannot', 'herehare', 'hereif', 'hereit', 'herekirtan', 'herelovely', 'herenice', 'herepeople', 'hereques', 'herestress', 'herethe', 'herewe', 'heritage', 'heshe', 'heshell', 'hesitant', 'hesitate', 'heterogeneous', 'hey', 'hhgfj', 'hidden', 'hifi', 'high', 'highenergy', 'higher', 'highest', 'highit', 'highlight', 'highlighting', 'highly', 'highreach', 'highrise', 'hight', 'hill', 'hillcomplex', 'hillnear', 'hillock', 'hillocknicely', 'hillok', 'hillside', 'hillthis', 'hilltop', 'hillview', 'hilly', 'hillyland', 'hindi', 'hindrance', 'hindrancehighly', 'hindsight', 'hindu', 'hinduism', 'hinduistic', 'hindusim', 'hint', 'hippy', 'hire', 'hired', 'hiring', 'hisebe', 'historic', 'historical', 'history', 'hit', 'hitech', 'hiteck', 'hk', 'hoardes', 'hobe', 'hoben', 'hochche', 'hold', 'holding', 'hole', 'holi', 'holiday', 'holidayfestival', 'holiest', 'holiness', 'holistic', 'holistically', 'holly', 'holo', 'holy', 'home', 'homely', 'hometown', 'hon', 'honest', 'honestly', 'honey', 'honour', 'hood', 'hop', 'hope', 'hoped', 'hoping', 'hopkins', 'hoppins', 'horn', 'horrible', 'hospital', 'hospitality', 'host', 'hot', 'hotand', 'hotel', 'hotelier', 'hou', 'hour', 'hoursduring', 'hoursit', 'hoursnice', 'house', 'housed', 'housekeeping', 'housing', 'hoy', 'hoye', 'hoyto', 'hr', 'hre', 'hsbc', 'httpwwwiskconbangaloreorg', 'httpwwwtripadvisorinshowuserreviewsg297628d325162r267906277iskcon_sri_radha_krishna_chandra_templebengaluru_bangalore_karnatakahtml', 'httpwwwtripadvisorinshowuserreviewsg297628d325162r268431918iskcon_sri_radha_krishna_chandra_templebengaluru_bangalore_karnatakahtml', 'httpwwwtripadvisorinshowuserreviewsg297628d325162r268985029iskcon_sri_radha_krishna_chandra_templebengaluru_bangalore_karnatakahtml', 'httpwwwtripadvisorinshowuserreviewsg297628d325162r269916283iskcon_sri_radha_krishna_chandra_templebengaluru_bangalore_karnatakahtml', 'httpwwwtripadvisorinshowuserreviewsg297628d325162r270136639iskcon_sri_radha_krishna_chandra_templebengaluru_bangalore_karnatakahtml', 'httpwwwtripadvisorinshowuserreviewsg297628d325162r270544744iskcon_sri_radha_krishna_chandra_templebengaluru_bangalore_karnatakahtml', 'httpwwwtripadvisorinshowuserreviewsg297628d325162r270892247iskcon_sri_radha_krishna_chandra_templebengaluru_bangalore_karnatakahtml', 'httpwwwtripadvisorinshowuserreviewsg297628d325162r271055165iskcon_sri_radha_krishna_chandra_templebengaluru_bangalore_karnatakahtml', 'httpwwwtripadvisorinshowuserreviewsg297628d325162r271250909iskcon_sri_radha_krishna_chandra_templebengaluru_bangalore_karnatakahtml', 'httpwwwtripadvisorinshowuserreviewsg297628d325162r271253223iskcon_sri_radha_krishna_chandra_templebengaluru_bangalore_karnatakahtml', 'httpwwwtripadvisorinshowuserreviewsg297628d325162r284223841iskcon_sri_radha_krishna_chandra_templebengaluru_bangalore_karnatakahtml', 'httpwwwtripadvisorinshowuserreviewsg297628d325162r286574815iskcon_sri_radha_krishna_chandra_templebengaluru_bangalore_karnatakahtml', 'httpwwwtripadvisorinshowuserreviewsg297628d325162r286598629iskcon_sri_radha_krishna_chandra_templebengaluru_bangalore_karnatakahtml', 'httpwwwtripadvisorinshowuserreviewsg297628d325162r287018802iskcon_sri_radha_krishna_chandra_templebengaluru_bangalore_karnatakahtml', 'httpwwwtripadvisorinshowuserreviewsg297628d325162r287031228iskcon_sri_radha_krishna_chandra_templebengaluru_bangalore_karnatakahtml', 'httpwwwtripadvisorinshowuserreviewsg297628d325162r287034482iskcon_sri_radha_krishna_chandra_templebengaluru_bangalore_karnatakahtml', 'httpwwwtripadvisorinshowuserreviewsg297628d325162r287057381iskcon_sri_radha_krishna_chandra_templebengaluru_bangalore_karnatakahtml', 'httpwwwtripadvisorinshowuserreviewsg297628d325162r287118382iskcon_sri_radha_krishna_chandra_templebengaluru_bangalore_karnatakahtml', 'httpwwwtripadvisorinshowuserreviewsg297628d325162r287204462iskcon_sri_radha_krishna_chandra_templebengaluru_bangalore_karnatakahtml', 'httpwwwtripadvisorinshowuserreviewsg297628d325162r287800036iskcon_sri_radha_krishna_chandra_templebengaluru_bangalore_karnatakahtml', 'httpwwwtripadvisorinshowuserreviewsg297628d325162r288446989iskcon_sri_radha_krishna_chandra_templebengaluru_bangalore_karnatakahtml', 'httpwwwtripadvisorinshowuserreviewsg297628d325162r289058095iskcon_sri_radha_krishna_chandra_templebengaluru_bangalore_karnatakahtml', 'httpwwwtripadvisorinshowuserreviewsg297628d325162r289092871iskcon_sri_radha_krishna_chandra_templebengaluru_bangalore_karnatakahtml', 'httpwwwtripadvisorinshowuserreviewsg297628d325162r289459579iskcon_sri_radha_krishna_chandra_templebengaluru_bangalore_karnatakahtml', 'httpwwwtripadvisorinshowuserreviewsg297628d325162r290721585iskcon_sri_radha_krishna_chandra_templebengaluru_bangalore_karnatakahtml', 'httpwwwtripadvisorinshowuserreviewsg297628d325162r291518137iskcon_sri_radha_krishna_chandra_templebengaluru_bangalore_karnatakahtml', 'httpwwwtripadvisorinshowuserreviewsg297628d325162r291989617iskcon_sri_radha_krishna_chandra_templebengaluru_bangalore_karnatakahtml', 'httpwwwtripadvisorinshowuserreviewsg297628d325162r292610932iskcon_sri_radha_krishna_chandra_templebengaluru_bangalore_karnatakahtml', 'httpwwwtripadvisorinshowuserreviewsg297628d325162r293163240iskcon_sri_radha_krishna_chandra_templebengaluru_bangalore_karnatakahtml', 'httpwwwtripadvisorinshowuserreviewsg297628d325162r294588255iskcon_sri_radha_krishna_chandra_templebengaluru_bangalore_karnatakahtml', 'httpwwwtripadvisorinshowuserreviewsg297628d325162r294621124iskcon_sri_radha_krishna_chandra_templebengaluru_bangalore_karnatakahtml', 'httpwwwtripadvisorinshowuserreviewsg297628d325162r294689597iskcon_sri_radha_krishna_chandra_templebengaluru_bangalore_karnatakahtml', 'httpwwwtripadvisorinshowuserreviewsg297628d325162r294851599iskcon_sri_radha_krishna_chandra_templebengaluru_bangalore_karnatakahtml', 'httpwwwtripadvisorinshowuserreviewsg297628d325162r295738156iskcon_sri_radha_krishna_chandra_templebengaluru_bangalore_karnatakahtml', 'httpwwwtripadvisorinshowuserreviewsg297628d325162r297086055iskcon_sri_radha_krishna_chandra_templebengaluru_bangalore_karnatakahtml', 'httpwwwtripadvisorinshowuserreviewsg297628d325162r298657260iskcon_sri_radha_krishna_chandra_templebengaluru_bangalore_karnatakahtml', 'httpwwwtripadvisorinshowuserreviewsg297628d325162r298692877iskcon_sri_radha_krishna_chandra_templebengaluru_bangalore_karnatakahtml', 'httpwwwtripadvisorinshowuserreviewsg297628d325162r299097288iskcon_sri_radha_krishna_chandra_templebengaluru_bangalore_karnatakahtml', 'httpwwwtripadvisorinshowuserreviewsg297628d325162r299780214iskcon_sri_radha_krishna_chandra_templebengaluru_bangalore_karnatakahtml', 'httpwwwtripadvisorinshowuserreviewsg297628d325162r301072489iskcon_sri_radha_krishna_chandra_templebengaluru_bangalore_karnatakahtml', 'httpwwwtripadvisorinshowuserreviewsg297628d325162r301327282iskcon_sri_radha_krishna_chandra_templebengaluru_bangalore_karnatakahtml', 'httpwwwtripadvisorinshowuserreviewsg297628d325162r301345468iskcon_sri_radha_krishna_chandra_templebengaluru_bangalore_karnatakahtml', 'httpwwwtripadvisorinshowuserreviewsg297628d325162r301350026iskcon_sri_radha_krishna_chandra_templebengaluru_bangalore_karnatakahtml', 'httpwwwtripadvisorinshowuserreviewsg297628d325162r301483299iskcon_sri_radha_krishna_chandra_templebengaluru_bangalore_karnatakahtml', 'httpwwwtripadvisorinshowuserreviewsg297628d325162r301696907iskcon_sri_radha_krishna_chandra_templebengaluru_bangalore_karnatakahtml', 'httpwwwtripadvisorinshowuserreviewsg297628d325162r301795525iskcon_sri_radha_krishna_chandra_templebengaluru_bangalore_karnatakahtml', 'httpwwwtripadvisorinshowuserreviewsg297628d325162r301854694iskcon_sri_radha_krishna_chandra_templebengaluru_bangalore_karnatakahtml', 'httpwwwtripadvisorinshowuserreviewsg297628d325162r301866783iskcon_sri_radha_krishna_chandra_templebengaluru_bangalore_karnatakahtml', 'httpwwwtripadvisorinshowuserreviewsg297628d325162r302128533iskcon_sri_radha_krishna_chandra_templebengaluru_bangalore_karnatakahtml', 'httpwwwtripadvisorinshowuserreviewsg297628d325162r302455674iskcon_sri_radha_krishna_chandra_templebengaluru_bangalore_karnatakahtml', 'httpwwwtripadvisorinshowuserreviewsg297628d325162r302726462iskcon_sri_radha_krishna_chandra_templebengaluru_bangalore_karnatakahtml', 'httpwwwtripadvisorinshowuserreviewsg297628d325162r303062414iskcon_sri_radha_krishna_chandra_templebengaluru_bangalore_karnatakahtml', 'httpwwwtripadvisorinshowuserreviewsg297628d325162r303154997iskcon_sri_radha_krishna_chandra_templebengaluru_bangalore_karnatakahtml', 'httpwwwtripadvisorinshowuserreviewsg297628d325162r303631487iskcon_sri_radha_krishna_chandra_templebengaluru_bangalore_karnatakahtml', 'httpwwwtripadvisorinshowuserreviewsg297628d325162r305023182iskcon_sri_radha_krishna_chandra_templebengaluru_bangalore_karnatakahtml', 'httpwwwtripadvisorinshowuserreviewsg297628d325162r305698989iskcon_sri_radha_krishna_chandra_templebengaluru_bangalore_karnatakahtml', 'httpwwwtripadvisorinshowuserreviewsg297628d325162r315100688iskcon_sri_radha_krishna_chandra_templebengaluru_bangalore_karnatakahtml', 'httpwwwtripadvisorinshowuserreviewsg297628d325162r315501517iskcon_sri_radha_krishna_chandra_templebengaluru_bangalore_karnatakahtml', 'httpwwwtripadvisorinshowuserreviewsg297628d325162r316022434iskcon_sri_radha_krishna_chandra_templebengaluru_bangalore_karnatakahtml', 'httpwwwtripadvisorinshowuserreviewsg297628d325162r316497982iskcon_sri_radha_krishna_chandra_templebengaluru_bangalore_karnatakahtml', 'httpwwwtripadvisorinshowuserreviewsg297628d325162r317057861iskcon_sri_radha_krishna_chandra_templebengaluru_bangalore_karnatakahtml', 'httpwwwtripadvisorinshowuserreviewsg297628d325162r317321892iskcon_sri_radha_krishna_chandra_templebengaluru_bangalore_karnatakahtml', 'httpwwwtripadvisorinshowuserreviewsg297628d325162r317900592iskcon_sri_radha_krishna_chandra_templebengaluru_bangalore_karnatakahtml', 'httpwwwtripadvisorinshowuserreviewsg297628d325162r318265969iskcon_sri_radha_krishna_chandra_templebengaluru_bangalore_karnatakahtml', 'httpwwwtripadvisorinshowuserreviewsg297628d325162r319228085iskcon_sri_radha_krishna_chandra_templebengaluru_bangalore_karnatakahtml', 'httpwwwtripadvisorinshowuserreviewsg297628d325162r320062759iskcon_sri_radha_krishna_chandra_templebengaluru_bangalore_karnatakahtml', 'httpwwwtripadvisorinshowuserreviewsg297628d325162r320985441iskcon_sri_radha_krishna_chandra_templebengaluru_bangalore_karnatakahtml', 'httpwwwtripadvisorinshowuserreviewsg297628d325162r321828655iskcon_sri_radha_krishna_chandra_templebengaluru_bangalore_karnatakahtml', 'httpwwwtripadvisorinshowuserreviewsg297628d325162r322333121iskcon_sri_radha_krishna_chandra_templebengaluru_bangalore_karnatakahtml', 'httpwwwtripadvisorinshowuserreviewsg297628d325162r322535115iskcon_sri_radha_krishna_chandra_templebengaluru_bangalore_karnatakahtml', 'httpwwwtripadvisorinshowuserreviewsg297628d325162r322829706iskcon_sri_radha_krishna_chandra_templebengaluru_bangalore_karnatakahtml', 'hub', 'huge', 'hugely', 'hugetemple', 'huhgh', 'human', 'humanity', 'humble', 'humbled', 'humbling', 'humbly', 'humming', 'hummm', 'humongous', 'hundred', 'hundy', 'hunger', 'hungry', 'hurdle', 'hurry', 'hurrying', 'hurrypnext', 'hurt', 'husband', 'hush', 'hustle', 'hustler', 'hustling', 'hv', 'hyderabad', 'hydrogenated', 'hyeginethere', 'hygeni', 'hygenic', 'hygiene', 'hygienethanks', 'hygienic', 'hygienically', 'hygine', 'hyginic', 'hymn', 'hyms', 'hype', 'hyped', 'iam', 'iaschaotic', 'ice', 'icecream', 'icecreamcool', 'ichcha', 'icon', 'iconic', 'icy', 'id', 'iddli', 'idea', 'ideal', 'ideally', 'identification', 'identified', 'identify', 'identity', 'idiot', 'idle', 'idli', 'idlis', 'idol', 'idolsbooks', 'idolsphotos', 'idolstatute', 'ignore', 'ignoring', 'iim', 'iisc', 'iit', 'ikea', 'ikon', 'ill', 'illegal', 'illuminated', 'illustrated', 'im', 'image', 'imagica', 'imagination', 'imaginativepastry', 'imagine', 'imagined', 'imaging', 'imagining', 'imbibe', 'imformation', 'imhovisited', 'immaculate', 'immediate', 'immediately', 'immense', 'immensely', 'immerse', 'immersed', 'immersion', 'impact', 'impactfull', 'impart', 'impeccable', 'impeccably', 'implemented', 'implementing', 'importance', 'important', 'importantly', 'imposed', 'imposing', 'impossible', 'impoverishes', 'impress', 'impressed', 'impression', 'impressive', 'improve', 'improved', 'improvement', 'improves', 'improving', 'in2005', 'inaugurated', 'inbetween', 'incarnation', 'incase', 'incense', 'incents', 'inceptionplace', 'inch', 'incident', 'incite', 'inclination', 'inclined', 'includding', 'include', 'included', 'includes', 'including', 'inclusion', 'inclusive', 'incomparable', 'incomplete', 'incomplte', 'incorporates', 'incorrect', 'increase', 'increased', 'increasing', 'incredible', 'incredibly', 'ind', 'indeed', 'indefinable', 'independence', 'independent', 'indescribable', 'india', 'indiagood', 'indian', 'indiano', 'indiasituated', 'indiathis', 'indira', 'individual', 'individually', 'indoors', 'induce', 'inducing', 'indulge', 'industrialised', 'industry', 'infact', 'infamous', 'infant', 'infectious', 'infinite', 'inflated', 'influence', 'info', 'information', 'informative', 'informed', 'infra', 'infrastrature', 'infrastructure', 'infrastructureone', 'infrim', 'infront', 'infuse', 'infuses', 'ingenious', 'ingram', 'ingredient', 'ingrejder', 'ingrejra', 'inherent', 'inhouse', 'inhowever', 'ini', 'inisde', 'initial', 'initially', 'initiate', 'initiated', 'initiating', 'initiation', 'initiative', 'inject', 'inlaws', 'inmate', 'innovative', 'innumerable', 'inout', 'inquire', 'inr', 'inr300', 'inr50', 'insanity', 'inschut', 'inside', 'insight', 'insightful', 'insisted', 'inspirational', 'inspire', 'inspired', 'inspiring', 'inspite', 'installed', 'instant', 'instantly', 'instead', 'institute', 'instituted', 'institution', 'institutionwith', 'instruction', 'instructionsyukta', 'instrument', 'int', 'intact', 'integrity', 'intended', 'intense', 'intensified', 'intensity', 'intent', 'intentionally', 'interact', 'interaction', 'interactive', 'interest', 'interested', 'interesting', 'interestingto', 'interior', 'internal', 'international', 'internationally', 'interpretation', 'intertwining', 'interval', 'intervention', 'inthey', 'intimidated', 'intimidating', 'intothe', 'intouring', 'intricate', 'intricately', 'intriguing', 'introduced', 'introducing', 'introduction', 'introspection', 'introspectionthe', 'invaluable', 'inventory', 'investment', 'invitation', 'invite', 'invited', 'invoke', 'involve', 'involved', 'involvemen', 'involving', 'inyourface', 'iota', 'irabaradittu', 'irresistible', 'irrespective', 'irritated', 'irritates', 'irritating', 'isaiah', 'isare', 'isckon', 'isckonhe', 'iscon', 'isconthe', 'isconwhat', 'ish', 'ishes', 'isjust', 'isk', 'iskcon', 'iskcona', 'iskconclean', 'iskcongood', 'iskconi', 'iskconites', 'iskon', 'iskoni', 'iskons', 'iskont', 'iskonthx', 'islamic', 'isolated', 'ison', 'issue', 'issued', 'ist', 'istkon', 'italian', 'itbuilt', 'item', 'itemfood', 'itemsgood', 'itemsother', 'itemsrestaurants', 'itemsvisited', 'itespecially', 'iti', 'itinerary', 'itinerarythere', 'itis', 'itlook', 'itnice', 'itselfcool', 'itselfhare', 'itsuch', 'itthere', 'itthis', 'itthough', 'ituated', 'itvery', 'itwe', 'ive', 'iz', 'jaap', 'jacuzzi', 'jagadgurum', 'jaganath', 'jagannath', 'jagath', 'jagathguru', 'jaggery', 'jagha', 'jai', 'jai_shree_radhe_krishana', 'jail', 'jain', 'jalebi', 'jalebibhajji', 'jalebis', 'jalevi', 'jalthi', 'jam', 'jammun', 'jamun', 'jamuns', 'jan', 'janam', 'janamashtami', 'janamashtmi', 'janamastami', 'janamastmi', 'janamshtmi', 'janm', 'janma', 'janmashtamai', 'janmashtami', 'janmashtshi', 'janmastami', 'janmastamis', 'janmasthami', 'january', 'jap', 'japa', 'japamala', 'japan', 'japanese', 'jarring', 'jate', 'jaw', 'jay', 'jayanagar', 'jayanthi', 'jayanti', 'jean', 'jennifer', 'jesus', 'jeta', 'jewel', 'jewellery', 'jewelry', 'jhulan', 'jhulanseva', 'ji', 'jibon', 'jibone', 'jijes', 'jn', 'job', 'jogote', 'join', 'joint', 'jolly', 'joma', 'jomi', 'jonnoi', 'jostling', 'jot', 'journey', 'joy', 'joyful', 'joymind', 'joyous', 'jq', 'jsrk', 'jst', 'jucie', 'judge', 'juhu', 'juice', 'july', 'julyaug', 'jump', 'junction', 'june', 'junk', 'jus', 'justifiablethis', 'justified', 'justifies', 'justify', 'juxtaposition', 'kachodi', 'kachoree', 'kachori', 'kalash', 'kalasha', 'kali', 'kalian', 'kaliyuga', 'kalm', 'kamanahalli', 'kana', 'kanakapura', 'kanakpura', 'kanha', 'kannada', 'kanpur', 'karate', 'karnataka', 'karon', 'kartik', 'kartika', 'kataben', 'keen', 'keeper', 'keeping', 'keepsake', 'keertans', 'keerthanas', 'kefort', 'kemfort', 'kempagowdamajestic', 'kempakowda', 'kempegowda', 'keno', 'keogh', 'keptthe', 'kerala', 'kesar', 'kesari', 'keshava', 'key', 'keychains', 'kfc', 'khaman', 'khao', 'khara', 'kheer', 'kheto', 'khicdi', 'khichadi', 'khichdi', 'khichidi', 'khichrdi', 'khichrdiwhich', 'khichri', 'khisdi', 'khub', 'kibhabe', 'kichadi', 'kichdi', 'kichhu', 'kichhui', 'kichidi', 'kichu', 'kid', 'kidsfriends', 'kidsthere', 'kidsthis', 'kill', 'kilometer', 'kilometre', 'kina', 'kind', 'kinda', 'kindly', 'kindness', 'king', 'kinshasa', 'kintu', 'kiosk', 'kiratns', 'kirshna', 'kirshnaits', 'kirtan', 'kirtana', 'kirtans', 'kirthan', 'kishan', 'kishna', 'kitchen', 'kitchenakshayapatra', 'kitchenit', 'kitchenthough', 'kitchidi', 'kitsch', 'kitscy', 'kittuulord', 'km', 'knack', 'knee', 'knew', 'knick', 'knitted', 'knob', 'knowing', 'knowledge', 'knowledgeable', 'knowledgemust', 'kocated', 'kolkata', 'kolkatavisited', 'kom', 'kono', 'koramangala', 'korar', 'korbe', 'korben', 'kore', 'korechhe', 'korechhilen', 'korechhilo', 'korlen', 'korte', 'koste', 'koster', 'kotha', 'kothagulo', 'koti', 'koushol', 'kovil', 'kriahna', 'krihsna', 'krish', 'krisha', 'krishan', 'krishana', 'krishanonly', 'krishn', 'krishna', 'krishna_bengaluru', 'krishnaaa', 'krishnaall', 'krishnaan', 'krishnaand', 'krishnaapart', 'krishnaasthami', 'krishnaawesome', 'krishnabalarama', 'krishnabalaramsri', 'krishnabalram', 'krishnabalrama', 'krishnachandra', 'krishnachanting', 'krishnafood', 'krishnagood', 'krishnahare', 'krishnahari', 'krishnai', 'krishnain', 'krishnais', 'krishnait', 'krishnajai', 'krishnakrishna', 'krishnaleela', 'krishnalord', 'krishnam', 'krishnaom', 'krishnapoojas', 'krishnaprnam', 'krishnaradhavenkateshwara', 'krishnashtamican', 'krishnastami', 'krishnatemples', 'krishnathe', 'krishnathis', 'krishnavery', 'krishnawe', 'krishnawell', 'krishnawith', 'krishnna', 'krisna', 'krisnahare', 'krshna', 'krsigna', 'krsna', 'krushna', 'ksr', 'ktk', 'kudos', 'kulfi', 'kurnool', 'kurta', 'kurthas', 'kurti', 'la', 'labeled', 'labelled', 'lacarte', 'lack', 'lacking', 'laddoo', 'laddoos', 'laddos', 'laddu', 'laddus', 'laden', 'ladoo', 'ladoos', 'lady', 'lag', 'laga', 'laid', 'lake', 'lakh', 'lakshmi', 'lalbag', 'lalbagh', 'lamb', 'laminated', 'lamp', 'land', 'landed', 'landless', 'landmark', 'landscape', 'landscaped', 'landscaping', 'lane', 'langar', 'language', 'languagesfree', 'languagesworth', 'languajes', 'lap', 'laptop', 'lara', 'large', 'largest', 'largets', 'lassi', 'last', 'lasted', 'lasting', 'lastly', 'late', 'latest', 'launch', 'laundry', 'lavish', 'law', 'lawn', 'laxmi', 'lay', 'layer', 'layered', 'laying', 'layout', 'lazy', 'leacve', 'lead', 'leaded', 'leadership', 'leading', 'leaf', 'leaflet', 'league', 'lean', 'learn', 'learned', 'learning', 'learnt', 'leave', 'leaving', 'leben', 'lecdivinitá', 'lecture', 'led', 'ledger', 'ledus', 'leela', 'leelabhumi', 'leelas', 'left', 'leg', 'legend', 'legendary', 'legging', 'leisure', 'leisurely', 'lemon', 'lend', 'length', 'lengthy', 'lens', 'lesser', 'lesson', 'let', 'letdown', 'lett', 'letting', 'level', 'levela', 'levelfloor', 'levelsthen', 'levelsvisit', 'levy', 'liberal', 'library', 'licking', 'lie', 'life', 'lifei', 'lifeif', 'lifeits', 'lifeossumfeeling', 'lifestyle', 'lifetime', 'lifetimei', 'lifetoo', 'lift', 'liftfood', 'light', 'lighted', 'lighter', 'lighting', 'lightly', 'lightning', 'lik', 'like', 'likeeenjoy', 'likerudrakshasidols', 'liking', 'lilalu', 'limit', 'limited', 'limiting', 'limitless', 'line', 'linear', 'lined', 'linegreat', 'lineup', 'lingering', 'lingers', 'lining', 'lip', 'list', 'listen', 'listened', 'listening', 'listens', 'listining', 'lit', 'literally', 'literature', 'littering', 'littlebit', 'live', 'lively', 'livelylot', 'living', 'load', 'loaded', 'loan', 'local', 'localfriendly', 'locality', 'locally', 'located', 'locateparking', 'locatins', 'location', 'locationif', 'lock', 'locked', 'locker', 'lodging', 'logical', 'logistics', 'loiter', 'loitering', 'lok', 'loka', 'loker', 'lokera', 'london', 'lonely', 'long', 'longer', 'longh', 'lookat', 'looked', 'lookout', 'loooong', 'loop', 'loophole', 'loosing', 'lord', 'lorda', 'lordganesha', 'lordkrishna', 'lordship', 'lordvery', 'lose', 'losing', 'loss', 'lost', 'lot', 'loteveryone', 'lotorganic', 'lotus', 'loud', 'loudly', 'loudspeaker', 'lovable', 'love', 'loveable', 'loved', 'lovely', 'lover', 'lovevisiting', 'loving', 'lovvvvllllyyyy', 'low', 'lowcost', 'lowell', 'lower', 'lowest', 'lowjust', 'lowly', 'lthough', 'luck', 'luckily', 'lucky', 'luggage', 'lukin', 'lunch', 'lunchdinner', 'lunghi', 'lungi', 'lure', 'lush', 'luv', 'luved', 'luxurious', 'luxury', 'lyric', 'ma', 'maalas', 'machh', 'machher', 'machine', 'mad', 'madanamohana', 'maddening', 'made', 'madedecorated', 'madenning', 'madethe', 'madhava', 'madhavan', 'madhu', 'madhyome', 'madira', 'madness', 'magazine', 'magic', 'magical', 'magically', 'magnanimity', 'magnetic', 'magnetism', 'magnificant', 'magnificen', 'magnificence', 'magnificent', 'magnificiece', 'magnificient', 'magnificiently', 'magnificnet', 'magnitude', 'maha', 'mahabharata', 'mahabharatabhagavatahistoryand', 'mahagrand', 'mahal', 'mahalakshmi', 'mahalaksmipuram', 'mahalashmi', 'mahalaskhmi', 'mahalaxmi', 'mahalkshmi', 'mahamangalarati', 'mahamantra', 'mahamatra', 'mahaprabhu', 'mahaprabhur', 'mahaprabhus', 'mahaprasad', 'mahaprasadam', 'mahavishnu', 'mahlakshmi', 'maiantained', 'mail', 'maim', 'mainta', 'maintain', 'maintainability', 'maintaind', 'maintained', 'maintainedalso', 'maintainedbeautiful', 'maintainedcleancalm', 'maintainedgood', 'maintainedi', 'maintainedit', 'maintainedmultiple', 'maintainedneat', 'maintainedorganized', 'maintainedtraditional', 'maintainedvery', 'maintainedwear', 'maintainedwith', 'maintainedyou', 'maintaining', 'maintains', 'maintanance', 'maintanence', 'maintenance', 'maintend', 'majesctic', 'majestic', 'majestically', 'majesty', 'major', 'majorly', 'make', 'maker', 'making', 'makkanchor', 'mala', 'malas', 'malayalam', 'male', 'mall', 'malleshwaram', 'malleswaram', 'malleswaran', 'mallmust', 'mallorion', 'mallpoa', 'mallshop', 'mallthere', 'mallyeshwanthpur', 'malpua', 'malpuas', 'mammoth', 'man', 'manage', 'manageable', 'manageableonce', 'managed', 'managedthe', 'managedthough', 'manageits', 'management', 'manager', 'managerreceptionist', 'manages', 'managing', 'managment', 'manchurian', 'mandapam', 'mandatorily', 'mandatory', 'mandir', 'mandiri', 'mandirs', 'mangal', 'mangala', 'mangalaarati', 'mangalarati', 'manged', 'mangla', 'manhandling', 'manka', 'mankind', 'mann', 'manner', 'mannered', 'mannerit', 'mannerrecommend', 'mantap', 'mantapas', 'manthra', 'manthras', 'mantra', 'mantrahare', 'mantraits', 'mantri', 'manual', 'manufacturedprepared', 'manus', 'map', 'mapped', 'marble', 'march', 'marched', 'marchit', 'marginally', 'mark', 'marked', 'market', 'marketing', 'marketlesser', 'marketplace', 'marred', 'marriage', 'married', 'marvel', 'marvellous', 'marvelous', 'marvelpeaceful', 'marvelthe', 'mary', 'mash', 'mass', 'massive', 'mast', 'master', 'masterpiece', 'mata', 'match', 'material', 'matha', 'mathapitha', 'mathura', 'matra', 'matter', 'matting', 'max', 'maximum', 'maya', 'mayapur', 'mayapurwest', 'maze', 'mcdo', 'meal', 'mean', 'meandering', 'meaning', 'meaningful', 'meant', 'meantime', 'measure', 'mechanism', 'mediate', 'mediation', 'medical', 'medicate', 'medicinal', 'medicine', 'meditate', 'meditateand', 'meditatereflect', 'meditates', 'meditatesee', 'meditating', 'meditation', 'meditationbest', 'meditative', 'medium', 'meet', 'meeting', 'mega', 'mei', 'mele', 'melee', 'mellowing', 'melodious', 'melody', 'member', 'membersdevotees', 'membership', 'membersvisitors', 'membersvolunteers', 'memento', 'memoir', 'memorabilia', 'memorable', 'memorableinside', 'memory', 'men', 'mental', 'mentally', 'mention', 'mentioned', 'menu', 'mer', 'merchandise', 'merchandising', 'merchandize', 'merciful', 'mercy', 'mesmerised', 'mesmerises', 'mesmerising', 'mesmerisingeven', 'mesmerize', 'mesmerized', 'mesmerizes', 'mesmerizing', 'mesmerizingforeigners', 'mesmirising', 'mess', 'message', 'messier', 'met', 'metal', 'metallic', 'meter', 'method', 'meticulously', 'metro', 'metromahalakshmi', 'metrothe', 'metrowell', 'mg', 'mgmt', 'mi', 'mid', 'midas', 'midday', 'middle', 'middleman', 'midst', 'mile', 'milk', 'milkafter', 'million', 'min', 'mind', 'minda', 'mindbody', 'minddevine', 'minded', 'mindful', 'mindgood', 'mindif', 'mindit', 'mindits', 'mindthere', 'mine', 'mini', 'minimized', 'minimum', 'minitheater', 'minor', 'minus', 'minute', 'minutely', 'minutelythere', 'mirror', 'misbehaves', 'miserably', 'mish', 'mismanagement', 'mismatch', 'misplace', 'miss', 'missawesome', 'missed', 'missfor', 'missing', 'mission', 'missnicely', 'mistake', 'mistaken', 'misuse', 'mithai', 'mithais', 'mithra', 'mix', 'mixed', 'mixture', 'mn', 'mnc', 'mobile', 'mode', 'modecharming', 'model', 'moderate', 'moderately', 'modern', 'modernday', 'modernised', 'modernity', 'moderniz', 'modernization', 'modernized', 'modernlooking', 'modest', 'modhye', 'modified', 'modren', 'moksha', 'mom', 'moment', 'momentarily', 'momentos', 'mon', 'monday', 'mone', 'monetary', 'money', 'moneymaking', 'moneymoneymoney', 'moneynothing', 'moneythere', 'monitored', 'monk', 'month', 'monthie', 'monthly', 'monument', 'monumental', 'mood', 'moolavar0', 'moon', 'moorthy', 'moorti', 'moortis', 'morality', 'morden', 'mordern', 'morestill', 'moreyou', 'morning', 'morninglong', 'morninglovely', 'mortise', 'mosque', 'mother', 'motichur', 'motif', 'motivate', 'motivated', 'motivation', 'motivational', 'motive', 'motorbike', 'mountain', 'mouth', 'mouthwatering', 'move', 'moved', 'movement', 'movementculture', 'movie', 'moving', 'mr', 'mrp', 'muchhjai', 'muchinfact', 'multi', 'multimedia', 'multiple', 'multiplex', 'multistoried', 'multitude', 'mumbai', 'mumbaibut', 'munch', 'mundu', 'mural', 'murari', 'murmur', 'murmuring', 'murthi', 'murthis', 'murthy', 'murti', 'murtis', 'museum', 'mush', 'music', 'musical', 'musician', 'muslimbuti', 'musta', 'mustdo', 'mustdoonce', 'mustgreat', 'mustindia', 'mustsee', 'mustsees', 'mustvisit', 'myriad', 'myrmidon', 'mysore', 'mysorei', 'mystic', 'mystical', 'mystifying', 'mystism', 'mythological', 'mythology', 'mythsbuilding', 'naam', 'nabadwip', 'nadia', 'nadiya', 'nadu', 'nagar', 'nair', 'naivety', 'nama', 'namah', 'namas', 'name', 'named', 'namkheen', 'namma', 'namo', 'nan', 'narashima', 'narasimha', 'narasimhadeva', 'narasimhar', 'narasimhasri', 'narasimhasrila', 'narasimhaswamy', 'narasimhavenkateswar', 'narasimma', 'narasingha', 'narayana', 'narayanay', 'narayanaya', 'narishma', 'narrow', 'nars', 'narshimha', 'narsimha', 'narsingh', 'nath', 'national', 'native', 'natural', 'naturally', 'nature', 'navigate', 'navratri', 'nchanting', 'nearanddear', 'nearby', 'nearest', 'nearing', 'neat', 'neater', 'neatly', 'neatness', 'neatnesscalm', 'necessarily', 'nectar', 'needed', 'needy', 'needythats', 'neet', 'negative', 'negligible', 'negotiate', 'neighborhood', 'neoclassical', 'nerve', 'nest', 'nethra', 'network', 'neverending', 'neverthelessattention', 'ney', 'nfl', 'ng', 'ngo', 'nibble', 'nic', 'nice', 'niceee', 'nicei', 'niceits', 'nicely', 'nicelyhere', 'niceneatness', 'nicer', 'niceso', 'nicest', 'nicethe', 'nick', 'nicly', 'nicr', 'nidhya', 'night', 'nightmare', 'nikhil', 'nilen', 'nirvana', 'nitaa', 'nitai', 'nitayi', 'nite', 'nitya', 'nityananda', 'nityanandasrinivasa', 'niwas', 'niyechhilen', 'njoy', 'noble', 'nocellon', 'noise', 'noisy', 'nolittle', 'nominal', 'nominalthanks', 'nonbeleiver', 'nonbeliever', 'nonhindu', 'nonhindus', 'nonholidays', 'nonlocalites', 'nononsense', 'nonpeak', 'nonveg', 'noodle', 'noof', 'nook', 'noon', 'norm', 'normal', 'nort', 'north', 'northern', 'northindian', 'northsouth', 'nose', 'note', 'notebook', 'noted', 'notice', 'noticed', 'notified', 'noting', 'notion', 'notwhether', 'notwithstanding', 'nourished', 'nourishes', 'november', 'nowadays', 'nri', 'nrisimha', 'nrsimha', 'nt', 'nuch', 'num', 'number', 'numberhowever', 'numero', 'numerous', 'nutrition', 'nutritional', 'nutritious', 'nyc', 'nyce', 'nycly', 'nãohá', 'oasis', 'obama', 'obeisance', 'obeisanceworship', 'obesity', 'obhishaap', 'object', 'objective', 'obligated', 'obosthar', 'observance', 'observation', 'observe', 'observes', 'observing', 'obstacle', 'obtain', 'obvious', 'occasion', 'occasional', 'occasionally', 'occassion', 'occassions', 'occation', 'occations', 'occupies', 'occupy', 'occur', 'oclock', 'october', 'octobervery', 'odd', 'odia', 'ofcourse', 'offend', 'offended', 'offer', 'offered', 'offering', 'offerrings', 'office', 'officeif', 'official', 'officially', 'ofrajajinagar', 'oftenly', 'ohhh', 'oil', 'oilfats', 'oilsfats', 'oily', 'ola', 'olauber', 'older', 'oldest', 'oldie', 'olways', 'olympian', 'om', 'omg', 'omnipresent', 'ona', 'onc', 'oncalm', 'oncehare', 'oncehighly', 'onceinalifetime', 'onceone', 'onceprasadam', 'onceull', 'onducted', 'onebyone', 'onek', 'onekei', 'onereading', 'oneself', 'oneway', 'oneyou', 'onion', 'online', 'onlyif', 'onno', 'onoverall', 'onradhey', 'onsite', 'onwards', 'ony', 'oodles', 'open', 'opened', 'opening', 'openning', 'operates', 'operating', 'operation', 'operator', 'opinion', 'opportunity', 'opposed', 'opposite', 'oppurtunity', 'opt', 'opted', 'option', 'optional', 'optionsespecially', 'optionsno', 'opulence', 'opulent', 'or', 'ordeal', 'order', 'orderliness', 'orderlly', 'orderly', 'ordinary', 'org', 'organaised', 'organic', 'organically', 'organisation', 'organised', 'organisedclean', 'organisedin', 'organisedremember', 'organisedwill', 'organization', 'organize', 'organized', 'organizedbut', 'organizedinside', 'organizer', 'organizing', 'orginal', 'orien', 'orientatedas', 'orientation', 'oriented', 'orientedvisit', 'origin', 'original', 'originally', 'orion', 'ornament', 'ornamental', 'ornate', 'orth', 'orthodox', 'osikar', 'osm', 'ossam', 'ossameveryone', 'osssumamazing', 'otherside', 'othersthe', 'otherworldly', 'oti', 'otibahito', 'outdoor', 'outdoors', 'outer', 'outfit', 'outing', 'outingsthere', 'outlet', 'outline', 'outlook', 'outofthisworld', 'outreach', 'outsideif', 'outsideits', 'outsider', 'outskirt', 'outsourced', 'outstanding', 'outstandinga', 'outthats', 'outto', 'overal', 'overall', 'overalll', 'overawed', 'overbearing', 'overboard', 'overcome', 'overcommercialisation', 'overcrowded', 'overdo', 'overdone', 'overdose', 'overeat', 'overenthusiastic', 'overhypeddo', 'overlook', 'overlooking', 'overly', 'overnight', 'overpoweringly', 'overprice', 'overpriced', 'overseas', 'oversee', 'overseer', 'overshadowed', 'overthe', 'overtly', 'overwhelming', 'owesome', 'owned', 'owner', 'ox', 'paan', 'paatra', 'pace', 'pacific', 'pack', 'package', 'packed', 'packedup', 'packet', 'pad', 'pada', 'padha', 'paens', 'pagoda', 'paid', 'paidif', 'paidwhich', 'pain', 'painful', 'painhappen', 'painted', 'painting', 'paintingscarvings', 'paintingthe', 'paintingyou', 'pair', 'pajama', 'pakodas', 'pakodasveg', 'pakora', 'pakori', 'palace', 'palaki', 'palatable', 'palatial', 'palceclean', 'pale', 'palki', 'pallaki', 'pamper', 'pan', 'panathi', 'panca', 'panda', 'pandava', 'pandit', 'pandits', 'paneer', 'panel', 'pani', 'panihati', 'panoramic', 'pant', 'pantstrousers', 'papad', 'paper', 'paradise', 'paramapurusha', 'paramount', 'paraphernalia', 'parappana', 'parbe', 'parcel', 'pardon', 'pare', 'paren', 'parent', 'parentas', 'parentsit', 'pari', 'park', 'parked', 'parkin', 'parkind', 'parking', 'parmatma', 'parsad', 'parsadam', 'parshad', 'part', 'partake', 'parthasarathi', 'participant', 'participate', 'participated', 'participating', 'participation', 'particular', 'particularly', 'partner', 'partone', 'party', 'pas', 'pasadam', 'pass', 'passage', 'passageway', 'passed', 'passing', 'passion', 'passport', 'past', 'pastime', 'pastri', 'pastry', 'path', 'pathetic', 'patheticthey', 'pathra', 'pathway', 'patience', 'patiencej', 'patient', 'patiently', 'patra', 'patras', 'patre', 'patron', 'patronized', 'patrs', 'pattern', 'pav', 'paved', 'pavement', 'pay', 'payconflicting', 'paying', 'payment', 'payne', 'paytm', 'peaaceful', 'peace', 'peacea', 'peacedarshan', 'peaceful', 'peacefulbut', 'peacefulgreat', 'peacefulhowever', 'peacefull', 'peacefully', 'peacefullyvery', 'peacefulness', 'peacefulnice', 'peacefulone', 'peacefulthat', 'peacefulthe', 'peacefulwe', 'peacego', 'peacehowever', 'peaceit', 'peaceplace', 'peacesorry', 'peacethere', 'peacewhere', 'peacewith', 'peacfull', 'peacueful', 'peafull', 'peak', 'pearl', 'peculiar', 'pediatric', 'pedicab', 'peenya', 'peep', 'peer', 'pelen', 'pen', 'pencil', 'pendrives', 'penniless', 'penny', 'people', 'peoplealso', 'peoplebhakts', 'peoplegreat', 'peoplephysically', 'peoplesvolunteers', 'peoplethe', 'pepole', 'percent', 'perception', 'perched', 'perechhilen', 'perf', 'perfect', 'perfection', 'perfectly', 'perforce', 'perform', 'performance', 'performed', 'performing', 'perhistoric', 'period', 'perm', 'permanent', 'permit', 'permitted', 'person', 'personal', 'personality', 'personally', 'personaly', 'persongrate', 'personhad', 'personnel', 'personthe', 'perspective', 'pertaining', 'perturbed', 'perumal', 'pet', 'petal', 'peter', 'phi', 'philanthropic', 'philigrims', 'philosophical', 'philosophy', 'pho', 'phoenix', 'phone', 'photo', 'photograhy', 'photograph', 'photographed', 'photographic', 'photographing', 'photography', 'photosreplicas', 'physical', 'physically', 'pic', 'pick', 'picked', 'picking', 'pickpocket', 'pickpocketing', 'picnic', 'picsselling', 'picture', 'picturesbest', 'picturesque', 'picturised', 'piece', 'pieceful', 'piety', 'pilgrim', 'pilgrimage', 'piligrim', 'piligrimage', 'pillar', 'pilotage', 'pin', 'pious', 'piped', 'pipeline', 'piping', 'piqued', 'pitch', 'pitching', 'pizza', 'pk', 'pl', 'plac', 'place', 'placea', 'placeall', 'placebhakti', 'placeespecially', 'placeexperience', 'placefeel', 'placefeeling', 'placefirst', 'placegod', 'placegood', 'placehad', 'placehare', 'placehas', 'placehuge', 'placei', 'placein', 'placeinside', 'placeit', 'placeits', 'placelove', 'placement', 'placemuch', 'placemust', 'placemy', 'placenear', 'placenice', 'placenot', 'placeone', 'placepeace', 'placepeacefull', 'placeplease', 'placepositive', 'placequiet', 'placereminds', 'placeseveral', 'placeshopping', 'placesits', 'placespectacular', 'placetemple', 'placethan', 'placethe', 'placethen', 'placethere', 'placethis', 'placethose', 'placeto', 'placevery', 'placevisited', 'placewe', 'placeworth', 'placeyou', 'placidly', 'placing', 'plain', 'plan', 'plane', 'planed', 'planet', 'planetarium', 'planing', 'planned', 'planning', 'planningsaturdays', 'plant', 'plastic', 'plate', 'plateau', 'plated', 'platform', 'plating', 'platted', 'play', 'played', 'playing', 'plaza', 'pleasant', 'pleasantly', 'pleasantthe', 'pleased', 'pleasent', 'pleasing', 'pleasure', 'pleasuredefinitely', 'plenty', 'plese', 'plesent', 'plethora', 'ploy', 'pls', 'plum', 'plumcake', 'plus', 'plying', 'plz', 'pm', 'pmbuses', 'pmit', 'pmtemple', 'pmyou', 'pocket', 'pocl', 'poem', 'poignant', 'point', 'pointchanting', 'pointing', 'policy', 'polish', 'polished', 'polite', 'politely', 'politethere', 'political', 'politics', 'pollution', 'poly', 'pomp', 'pond', 'ponder', 'pongal', 'pony', 'pooja', 'poojaaarti', 'poojaarchana', 'poojari', 'poojas', 'poojasaarathis', 'poojasit', 'poor', 'poorly', 'popping', 'popular', 'popularity', 'popularize', 'popularly', 'populated', 'population', 'porch', 'poribar', 'poribarer', 'porridge', 'port', 'portal', 'portion', 'portraied', 'portrait', 'poschim', 'pose', 'posh', 'position', 'positive', 'positively', 'positivism', 'positivist', 'positivity', 'possibility', 'possible', 'possiblethere', 'possiblewill', 'possibly', 'post', 'poster', 'posterity', 'pot', 'potent', 'potential', 'poverty', 'power', 'powerful', 'poweryou', 'ppl', 'ppls', 'pra', 'praasadms', 'prabhopadaji', 'prabhu', 'prabhupad', 'prabhupada', 'prabhupadabalarama', 'prabhupadar', 'prabhupadas', 'prabhupadathe', 'prabhupadharekrishna', 'prabhus', 'prabupada', 'prabupadaradhakrishna', 'practical', 'practice', 'practiced', 'practicing', 'practise', 'practised', 'pradadam', 'pradasam', 'prahalad', 'prahalada', 'prahaladha', 'prahallad', 'prahlad', 'prahlada', 'praise', 'praising', 'prasaad', 'prasaadam', 'prasaadham', 'prasad', 'prasada', 'prasadam', 'prasadamfood', 'prasadami', 'prasadamone', 'prasadampongal', 'prasadamremnants', 'prasadams', 'prasadamthere', 'prasadamvery', 'prasadan', 'prasadas', 'prasadbooksclothesfood', 'prasadcoconut', 'prasadevery', 'prasadfood', 'prasadham', 'prasadhams', 'prasadm', 'prasadma', 'prasadom', 'prasads', 'prasadthere', 'prasdamsvery', 'prashad', 'prashada', 'prashadams', 'prashadas', 'prathishta', 'pratidasa', 'pratishtas', 'pray', 'praybut', 'praycleansurrounded', 'prayed', 'prayer', 'prayerdont', 'praying', 'preaching', 'preachingslearnings', 'precious', 'precision', 'predefined', 'predetermined', 'predictably', 'predominantly', 'prefer', 'preferable', 'preferably', 'prefered', 'preference', 'preferred', 'preformed', 'prejudice', 'preliminary', 'premesis', 'premices', 'premier', 'premise', 'premisesexcellent', 'premisesits', 'premisesselling', 'premisesvery', 'premisis', 'premium', 'prepaid', 'preparation', 'prepare', 'prepared', 'preparing', 'preperations', 'prescints', 'prescribed', 'presence', 'present', 'presentation', 'president', 'presiding', 'press', 'pressed', 'pressure', 'pressuretheir', 'pressurised', 'presume', 'pretty', 'prevading', 'prevailing', 'prevails', 'prevailsall', 'prevalent', 'previously', 'prey', 'price', 'priced', 'pricefree', 'priceless', 'pricemust', 'pricethere', 'pricevarieties', 'pricewe', 'pricey', 'pricing', 'pricyou', 'pride', 'priest', 'priligrim', 'prime', 'primitive', 'principle', 'print', 'printed', 'prior', 'prioritize', 'priority', 'prison', 'pristine', 'privacy', 'private', 'privelege', 'privilege', 'privileged', 'pro', 'probably', 'problem', 'problemgod', 'problemhuge', 'problemsas', 'procedure', 'proceed', 'proceeding', 'proceeds', 'process', 'procession', 'prochar', 'procharer', 'prochur', 'produced', 'producing', 'product', 'professional', 'professionalism', 'professionally', 'professionallyyou', 'profit', 'profitable', 'profound', 'program', 'programes', 'programme', 'progress', 'prohibited', 'prohibitedbut', 'prohibitted', 'project', 'projecting', 'prominent', 'promise', 'promote', 'promoted', 'promotes', 'promoting', 'prompt', 'promptly', 'propagating', 'proper', 'properly', 'property', 'proportionally', 'propose', 'proselyting', 'prospective', 'prosperity', 'protect', 'protected', 'protection', 'protective', 'protector', 'proti', 'protraits', 'proud', 'proudly', 'proved', 'provide', 'provided', 'providing', 'providsing', 'provision', 'provokes', 'provoking', 'proximity', 'psthey', 'pub', 'public', 'publication', 'published', 'puff', 'puja', 'pujabhakti', 'pujaris', 'pujas', 'puliogare', 'pull', 'pulled', 'pump', 'pun', 'punctuality', 'punctually', 'pune', 'punished', 'pur', 'puram', 'purana', 'purbe', 'purbo', 'purchase', 'purchased', 'purchaseorganic', 'purchaserent', 'purchasing', 'pure', 'purely', 'purenesspeacefulsrila', 'purification', 'purifies', 'purify', 'puris', 'purity', 'purpose', 'purposeas', 'purposethe', 'purse', 'push', 'pushed', 'pushing', 'pushpanjali', 'pushy', 'put', 'putting', 'pvr', 'pvt', 'pyramid', 'qline', 'quaes', 'quaint', 'quaity', 'qualify', 'quality', 'quantity', 'quarter', 'qued', 'quench', 'queques', 'query', 'ques', 'quest', 'question', 'questioned', 'queue', 'queued', 'queuesdid', 'queuethe', 'queueyou', 'queuing', 'quick', 'quicker', 'quickly', 'quiet', 'quietening', 'quieter', 'quietly', 'quietness', 'quirt', 'quit', 'qulity', 'quoted', 'quotienthuge', 'r300', 'raadhaa', 'raag', 'raam', 'raama', 'race', 'rack', 'radh', 'radha', 'radhaand', 'radhadevi', 'radhaji', 'radhakishan', 'radhakrisha', 'radhakrishna', 'radhakrishnakrishna', 'radhakrishnan', 'radharani', 'radharanis', 'radharanithe', 'radhastami', 'radhayatra', 'radhe', 'radheits', 'radhekrishna', 'radhes', 'radheshyam', 'radhey', 'radhhe', 'radhika', 'radiates', 'radical', 'radius', 'ragas', 'rail', 'railing', 'railway', 'rain', 'raincoat', 'rained', 'raining', 'rainy', 'raise', 'raised', 'raising', 'rajah', 'rajaji', 'rajajinagar', 'rajajinagarhad', 'rajajinagari', 'rajajinagarit', 'rajajinager', 'rajasthani', 'rajbhog', 'rajinagar', 'rajneesh', 'rale', 'ram', 'rama', 'rama__', 'ramadanramayana', 'ramagovinda', 'ramahare', 'ramaits', 'ramam', 'ramamust', 'raman', 'ramarama', 'ramayana', 'rame', 'ramhare', 'ramp', 'ramram', 'randomly', 'range', 'ranging', 'rani', 'ranking', 'rao', 'rapid', 'rapture', 'rare', 'rarely', 'rarity', 'rasagola', 'rasam', 'rasgulla', 'rasgullas', 'rash', 'rat', 'rate', 'rated', 'rateone', 'ratesmust', 'rath', 'rating', 'ration', 'rational', 'rauss', 'ravishing', 'reaally', 'reach', 'reachable', 'reached', 'reaching', 'reachtemple', 'read', 'reading', 'ready', 'real', 'realise', 'realised', 'realising', 'realistic', 'realize', 'realized', 'realli', 'reallly', 'reallyastonishingt', 'reallyyy', 'realm', 'realted', 'realy', 'reason', 'reasonable', 'reasonbl', 'reativly', 'recedes', 'receipt', 'receive', 'received', 'receives', 'recent', 'recently', 'reception', 'recess', 'recharge', 'recharged', 'recipe', 'recitation', 'recite', 'reciting', 'recognise', 'recognize', 'recomended', 'recommend', 'recommendation', 'recommended', 'recommends', 'reconstruction', 'record', 'recorded', 'recording', 'redeem', 'redefined', 'reduce', 'reduced', 'reeking', 'reenergize', 'refer', 'reference', 'referred', 'reflect', 'reflecting', 'reflection', 'reflects', 'refresh', 'refreshed', 'refreshing', 'refreshingdessert', 'refreshment', 'refugee', 'refugeeder', 'refugeera', 'refugi', 'refugira', 'refund', 'refundable', 'refuse', 'refused', 'refusing', 'regimentation', 'region', 'regional', 'register', 'registering', 'regret', 'regular', 'regularly', 'regulat', 'regulated', 'regulation', 'reinforce', 'reinstate', 'reituls', 'rejoice', 'rejuvenate', 'rejuvenated', 'rejuvenates', 'rejuvenating', 'rejuvenation', 'relat', 'relate', 'related', 'relating', 'relationship', 'relative', 'relatively', 'relativesin', 'relax', 'relaxation', 'relaxed', 'relaxedcrowd', 'relaxend', 'relaxing', 'relaxingit', 'relaxly', 'relaxpeople', 'relay', 'release', 'relegious', 'relentless', 'relevance', 'reliable', 'relief', 'reliefshanti', 'relieved', 'reliever', 'relieving', 'religion', 'religious', 'religiouscultural', 'religiousif', 'religiously', 'religiousmay', 'religiousspiritual', 'religiouswhatever', 'religon', 'relished', 'relived', 'relocated', 'remain', 'remained', 'remains', 'remark', 'remarkable', 'remember', 'remembering', 'reminded', 'reminds', 'remove', 'removed', 'renamed', 'render', 'rendering', 'renowned', 'rent', 'rental', 'rented', 'renting', 'reopens', 'repeat', 'repeated', 'repeating', 'repetitive', 'replace', 'replica', 'replicate', 'reply', 'repose', 'repository', 'representative', 'represented', 'representing', 'represents', 'reputethe', 'request', 'requesting', 'require', 'required', 'requirement', 'requires', 'requiring', 'resatuarnt', 'resaurant', 'reservation', 'residence', 'resident', 'residential', 'residentstourists', 'resides', 'residing', 'resist', 'resonates', 'resort', 'respect', 'respected', 'respectful', 'respective', 'response', 'responsibility', 'responsibilitya', 'resrtaurant', 'rest', 'restaurant', 'restaurantall', 'restaurantscafes', 'restaurantshopping', 'restaurent', 'resthouse', 'restless', 'restrict', 'restricted', 'restriction', 'restroom', 'restructuring', 'restuarant', 'restuarantdistribution', 'restuarnt', 'resturant', 'result', 'resulted', 'resulting', 'retail', 'retains', 'rethink', 'retreat', 'retrieve', 'return', 'returned', 'returning', 'revanth', 'revealing', 'revenue', 'reverberance', 'reverberates', 'reverberating', 'reverberation', 'revered', 'reverence', 'reverent', 'reversing', 'review', 'reviewer', 'reviewing', 'revisit', 'rewarding', 'rhythm', 'rice', 'ricebased', 'ricenindian', 'rich', 'richest', 'richness', 'richsooooo', 'rickshaw', 'rid', 'ridden', 'ride', 'ridiculous', 'riding', 'rightful', 'rightly', 'rikshaw', 'ring', 'rip', 'rise', 'rishis', 'rising', 'risk', 'risna', 'ritual', 'road', 'roadrail', 'roadthe', 'roadthere', 'roam', 'roaming', 'rob', 'robe', 'robs', 'rock', 'role', 'roll', 'roman', 'roof', 'room', 'root', 'ropey', 'rosary', 'rosogulla', 'rossogullas', 'rotating', 'rotting', 'round', 'rounded', 'roundrobin', 'roundup', 'rout', 'route', 'routed', 'routine', 'routing', 'row', 'rowdy', 'rowsand', 'royal', 'royale', 'royally', 'royechhe', 'rp', 'rpc', 'rs70', 'rude', 'rudely', 'rudra', 'rudraksh', 'ruin', 'ruined', 'rukmini', 'rule', 'run', 'runned', 'running', 'rupa', 'rupee', 'rupeesa', 'rupeespair', 'rupies', 'rural', 'rush', 'rushed', 'rushing', 'rushlord', 'rythm', 'saarinen', 'saatvic', 'saatwik', 'sabhagruha', 'sabji', 'sacred', 'sacredness', 'sacrifice', 'sad', 'sadly', 'sadness', 'sadnessspecially', 'sadvik', 'safe', 'safely', 'safer', 'safety', 'saffron', 'sag', 'sai', 'sail', 'saint', 'saintly', 'sairam', 'saja', 'sake', 'sale', 'salem', 'salesgirl', 'salesman', 'salesperson', 'salt', 'salute', 'salvation', 'salwar', 'sam', 'samabr', 'samaghri', 'sambar', 'samber', 'sambhar', 'samemay', 'samethe', 'samosa', 'samosha', 'samoza', 'sample', 'san', 'sanatorium', 'sanctity', 'sanctora', 'sanctoriam', 'sanctorium', 'sanctoriums', 'sanctorum', 'sanctuary', 'sanctum', 'sanctumsanctorum', 'sandal', 'sandalsyou', 'sandalwood', 'sandhya', 'sandls', 'sandwich', 'sandwiched', 'sangeet', 'sanidhi', 'sankalp', 'sankeerthanaalso', 'sankey', 'sankirtans', 'sannadhis', 'sannidhi', 'sannidhis', 'santanera', 'sanyasi', 'sarbohara', 'saree', 'sareeswhileall', 'sarine', 'sarong', 'sarthok', 'sastra', 'sastras', 'sat', 'sathe', 'sathvik', 'satiate', 'satisfaction', 'satisfactiondeep', 'satisfation', 'satisfcation', 'satisfically', 'satisfied', 'satisfies', 'satisfying', 'satisfyingthe', 'sattivicvegetariannon', 'sattvic', 'sattvik', 'saturday', 'satvic', 'satvick', 'satvik', 'satwa', 'satwik', 'satyayuga', 'save', 'saved', 'savory', 'savoury', 'savvy', 'sawarg', 'sayhare', 'sbc', 'scale', 'scanner', 'scape', 'scared', 'scarf', 'scatter', 'scattered', 'scenario', 'scene', 'sceneriesthe', 'scenery', 'scenic', 'scent', 'scented', 'scerene', 'schedule', 'scheduleone', 'scheme', 'scholar', 'scholarly', 'school', 'schoolchildren', 'science', 'scientific', 'sclience', 'sclupture', 'scolded', 'scope', 'scorching', 'score', 'scotch', 'scottish', 'scramble', 'scrambled', 'screen', 'screened', 'scripture', 'scripturestructure', 'scroll', 'scrumptuous', 'scrutiny', 'sculpted', 'sculpture', 'sculptured', 'sculptureenvironment', 'sd', 'seabird', 'seamlessly', 'search', 'searching', 'season', 'seat', 'seated', 'seating', 'secessionthey', 'secinic', 'secnery', 'section', 'sectioni', 'sector', 'secure', 'secured', 'securing', 'securitiessevaks', 'security', 'see', 'seed', 'seeingmust', 'seeingvery', 'seek', 'seeker', 'seeking', 'seenhare', 'seer', 'segregation', 'sei', 'select', 'selected', 'selection', 'selfguided', 'selfies', 'selfless', 'selfreflect', 'sell', 'seller', 'selling', 'semi', 'sen', 'send', 'senior', 'sens', 'sense', 'sensitive', 'sentence', 'sentiment', 'senzaltro', 'separate', 'separately', 'separation', 'separted', 'seprate', 'sept', 'september', 'serene', 'serenethe', 'serenity', 'serf', 'serial', 'series', 'serine', 'serinity', 'servant', 'serve', 'served', 'servedwhich', 'server', 'service', 'serviceaarti', 'serviceall', 'servicesfoodprasad', 'serving', 'servitor', 'session', 'set', 'setting', 'setup', 'seva', 'sevaks', 'sevakssecurity', 'sevas', 'severe', 'sewa', 'sex', 'sh', 'sha', 'shadow', 'shaila', 'shakespakodarice', 'shame', 'shankar', 'shanti', 'shape', 'share', 'shared', 'sharing', 'sharma', 'sharp', 'shason', 'shattered', 'shaved', 'shawl', 'shayana', 'shayanarati', 'shayanna', 'shed', 'sheer', 'sheet', 'shelter', 'sheraton', 'shi', 'shikara', 'shin', 'shine', 'shining', 'shiny', 'ship', 'shirt', 'shiv', 'shiva', 'shivajinagar', 'shld', 'shlok', 'shocked', 'shocking', 'shodasha', 'shoe', 'shoechappal', 'shoekeeper', 'shoekeeping', 'shoes', 'shoescameras', 'shoessharp', 'shold', 'shooping', 'shoos', 'shoot', 'shop', 'shopaholic', 'shopnot', 'shopper', 'shoppes', 'shopping', 'shoppingeating', 'shoppingfoodside', 'shoppingpreying', 'shoppingthey', 'shopscafeteria', 'short', 'shortcoming', 'shortcut', 'shortsthreefourths', 'shot', 'shoulder', 'shouting', 'shoving', 'show', 'showbiz', 'showcase', 'showcased', 'showcasing', 'showed', 'shower', 'showered', 'showern', 'showing', 'shown', 'showpiece', 'showy', 'shravana', 'shree', 'shreekrishna', 'shreera', 'shri', 'shrieking', 'shrikrishna', 'shrila', 'shrine', 'shrinepleasant', 'shrinesthere', 'shringar', 'shringara', 'shringardecoration', 'shud', 'shudh', 'shuffling', 'shunning', 'shut', 'shuttle', 'shy', 'sick', 'sickly', 'side', 'sigh', 'sighseeing', 'sight', 'sightseeing', 'sightseeingthe', 'sightseer', 'sign', 'signage', 'signature', 'signboard', 'significance', 'significant', 'sikh', 'silence', 'silent', 'silentbest', 'silently', 'silicon', 'silk', 'similar', 'similarity', 'similarly', 'simple', 'simplicity', 'simplistic', 'simply', 'sin', 'sincere', 'sindiannoodlesa', 'sing', 'singe', 'singing', 'single', 'singlefile', 'sings', 'sink', 'siprit', 'sirmadamfamous', 'sister', 'sit', 'sita', 'site', 'sited', 'siteseeing', 'siting', 'sitouts', 'sitrelaxchant', 'sits', 'sitting', 'situated', 'situatedthere', 'situates', 'situation', 'siutated', 'size', 'skcon', 'skeptical', 'skill', 'skip', 'skipping', 'skirt', 'sky', 'skyline', 'slab', 'slate', 'slave', 'sleep', 'sleeved', 'sleeveless', 'slice', 'slight', 'slightest', 'slightly', 'slip', 'slipped', 'slipper', 'slippershoes', 'slippersshoes', 'slippery', 'slogan', 'sloka', 'slokas', 'slokhas', 'slope', 'slot', 'slothful', 'slow', 'slowing', 'slowly', 'slso', 'sm', 'smackingand', 'small', 'smaller', 'smalltime', 'smaran', 'smart', 'smell', 'smelly', 'smile', 'smiling', 'smoke', 'smooth', 'smoothjust', 'smoothly', 'snack', 'snackslunchget', 'snacksprasadams', 'snake', 'snakebinding', 'snap', 'sneak', 'snick', 'soak', 'soaked', 'soaking', 'soap', 'sob', 'sobar', 'sober', 'soboi', 'socalled', 'social', 'socialpolitical', 'society', 'sock', 'sofa', 'soft', 'softly', 'sojourn', 'sol', 'solace', 'solar', 'sold', 'soldfree', 'soldhandicraftscds', 'sole', 'solemn', 'soliciting', 'solid', 'soliticiation', 'solitude', 'solo', 'solution', 'solve', 'solved', 'somagom', 'somethingalso', 'somethingthe', 'somethingyou', 'somnath', 'somoye', 'somwhere', 'son', 'sonfood', 'song', 'songkha', 'songsare', 'soo', 'soomuch', 'sooo', 'soooooooo', 'sooth', 'soothes', 'soothing', 'sophistication', 'sorrow', 'sorry', 'sort', 'sou', 'sought', 'soul', 'soulful', 'soulhare', 'soulvisit', 'sound', 'sounding', 'soup', 'source', 'sourrouded', 'south', 'southern', 'southindian', 'souveneir', 'souveniers', 'souveniors', 'souvenir', 'sovenier', 'soveniers', 'soveniors', 'sovereign', 'soverniours', 'sow', 'space', 'spaceous', 'spacious', 'spaciously', 'span', 'spare', 'spared', 'sparklingly', 'spcl', 'speak', 'speaker', 'speaking', 'speaks', 'spearheading', 'special', 'specialfestival', 'speciality', 'specialized', 'specializes', 'specially', 'specialsometimes', 'specialty', 'specific', 'specifically', 'specified', 'specious', 'spectacle', 'spectacular', 'speech', 'speechless', 'speecial', 'speed', 'speeden', 'speedy', 'spellbound', 'spend', 'spendid', 'spending', 'spent', 'sphere', 'spic', 'spice', 'spiced', 'spicy', 'spilled', 'spilling', 'spilt', 'spinups', 'spirit', 'spiritual', 'spiritualhare', 'spiritualism', 'spirituality', 'spiritualityone', 'spiritualitythe', 'spiritually', 'spiritualsimmerse', 'spirtuality', 'spite', 'splendid', 'splendidly', 'splendidthe', 'splendor', 'splendour', 'split', 'spoil', 'sponsor', 'sponsored', 'spoon', 'spot', 'spotlessly', 'spotmall', 'spouse', 'sprawl', 'sprawling', 'spread', 'spreading', 'spree', 'sprit', 'sprite', 'spritual', 'spur', 'square', 'squeaky', 'squeamish', 'sr', 'sree', 'sri', 'srikrishna', 'srikrishnam', 'srikrishnavisited', 'srila', 'srimad', 'srimadbhagavatam', 'srimati', 'sringar', 'srinitai', 'srinivas', 'srinivasa', 'sriparbhupada', 'sriradhakrishna', 'srivas', 'srrvizio', 'sse', 'st', 'stacked', 'staff', 'stage', 'staggered', 'stained', 'stair', 'staircase', 'stairsstatues', 'stais', 'stale', 'stall', 'stambha', 'stamp', 'stamped', 'stampede', 'stampeding', 'stand', 'standard', 'standardsdo', 'standing', 'standtemple', 'standthere', 'staphana', 'star', 'starbucks', 'stare', 'stark', 'starred', 'start', 'started', 'starter', 'starting', 'startssleeping', 'state', 'statement', 'static', 'stating', 'station', 'stationary', 'stationbus', 'stationery', 'stationits', 'stationone', 'stationvery', 'statue', 'statueits', 'statuette', 'status', 'statute', 'stautes', 'stay', 'stayed', 'staying', 'stead', 'steadfast', 'steal', 'stealing', 'steaming', 'steamlines', 'steep', 'step', 'stepped', 'stepping', 'stepsall', 'stepseven', 'sthan', 'stich', 'stick', 'sticker', 'stil', 'stir', 'stirring', 'stock', 'stocked', 'stole', 'stolen', 'stomach', 'stomachbecause', 'stone', 'stonesvery', 'stood', 'stop', 'stopped', 'stopping', 'storage', 'store', 'stored', 'storing', 'story', 'storylife', 'straight', 'strain', 'strange', 'strategy', 'stream', 'streamed', 'streamlined', 'street', 'strength', 'strengthens', 'stress', 'stressed', 'stressful', 'stretch', 'strict', 'strictest', 'strictly', 'strike', 'striking', 'strogly', 'stroke', 'strong', 'stronger', 'strongly', 'strting', 'struck', 'structural', 'structure', 'structured', 'struggle', 'stub', 'stucked', 'studded', 'student', 'studiesno', 'studio', 'study', 'studying', 'stuff', 'stuffsweets', 'stules', 'stunned', 'stunning', 'stunningly', 'sturdiness', 'sty', 'style', 'styled', 'stylesit', 'stylish', 'subadra', 'subequently', 'suberb', 'subhadra', 'subject', 'sublime', 'submission', 'submit', 'submitted', 'subsequently', 'substandard', 'subtle', 'suburb', 'succesful', 'success', 'successful', 'succour', 'sudden', 'suddenly', 'suffer', 'suffered', 'suffering', 'sufficient', 'suffixed', 'suffocated', 'suffocating', 'suffocation', 'suggest', 'suggested', 'suggesting', 'suggestion', 'suit', 'suitable', 'suited', 'sujog', 'sukhe', 'sum', 'summary', 'summer', 'sumptous', 'sumptuous', 'sumthing', 'sumting', 'sun', 'sundar', 'sunday', 'sundaynice', 'sune', 'sung', 'sunil', 'sunlight', 'sunny', 'sunrise', 'sunset', 'super', 'superb', 'superbbbbbhare', 'superbfeel', 'superblastly', 'superbonly', 'superbthe', 'supercrowded', 'superfelt', 'supermarket', 'supermarketexhibition', 'superpure', 'superr', 'supper', 'suppikled', 'supplied', 'supply', 'support', 'supported', 'supporting', 'supportive', 'supposed', 'supposedly', 'suppresses', 'suprabhata', 'suprabhatha', 'supreme', 'surelord', 'surely', 'surface', 'surging', 'surpassed', 'surpreme', 'surprise', 'surprised', 'surprising', 'surprisingly', 'surreal', 'surrender', 'surrendered', 'surrendering', 'surround', 'surrounded', 'surrounding', 'surroundingmust', 'surroundings', 'surroundingsbut', 'surroundingsreally', 'survey', 'surveying', 'surya', 'suspect', 'sustainable', 'sutorang', 'suvinior', 'swababhik', 'swami', 'swamiji', 'swamijis', 'swamy', 'swamyand', 'swamynarayan', 'swarming', 'swastic', 'swatch', 'swati', 'sway', 'swayed', 'swear', 'sweet', 'sweetened', 'sweetsabji', 'sweetsall', 'sweetsnack', 'sweetsnamkeensspiritual', 'sweetsprasadetc', 'sweetsrolls', 'sweetssamosaspuiiyogare', 'sweetssnacks', 'swing', 'swipe', 'swiping', 'syas', 'syllable', 'symbol', 'synergy', 'synthesis', 'system', 'systematic', 'systematically', 'systemetic', 'systemic', 'systemically', 'systemised', 'szeremonien', 'table', 'tablesshopping', 'taboo', 'tackle', 'tactic', 'tad', 'tader', 'tag', 'tagged', 'tai', 'tail', 'tailor', 'tailored', 'tainted', 'taj', 'take', 'taking', 'talisman', 'talk', 'talking', 'tall', 'tallest', 'tamasic', 'tamil', 'tampal', 'tample', 'tanjore', 'tank', 'taped', 'tapioca', 'tapped', 'tar', 'tara', 'target', 'targeted', 'targetted', 'tarvelling', 'task', 'taste', 'tasted', 'tastemadhurashtakam', 'tastey', 'tastier', 'tastiest', 'tasting', 'tastry', 'tasty', 'tastyhot', 'tastynear', 'tastythere', 'tat', 'tattva', 'tatva', 'taughts', 'taxi', 'tbh', 'te', 'tea', 'teach', 'teacher', 'teaching', 'team', 'teamkeep', 'tear', 'tearsi', 'teat', 'tech', 'technique', 'technologhy', 'technology', 'technologyyou', 'tedious', 'teen', 'teeshirts', 'teh', 'telephone', 'tell', 'telling', 'telugu', 'tem', 'tempal', 'tempel', 'temper', 'temperature', 'template', 'temple', 'templea', 'templeaarti', 'templeactually', 'templeafter', 'templeall', 'templearound', 'templebeautiful', 'templebut', 'templecanteen', 'templeeei', 'templeenjoy', 'templeevery', 'templefor', 'templegood', 'templegrate', 'templehave', 'templei', 'templein', 'templeinside', 'templeis', 'templeit', 'templeits', 'templekudos', 'templelike', 'templemay', 'templemeditation', 'templemust', 'templeneat', 'templenice', 'templenow', 'templeone', 'templeorio', 'templepeaceful', 'templepersonally', 'templesa', 'templesimply', 'templesmain', 'templesmosques', 'templeso', 'templesoi', 'templesome', 'templestill', 'templesunique', 'templetemple', 'templethe', 'templetheir', 'templethere', 'templethey', 'templeu', 'templeunlike', 'templev', 'templevery', 'templevisited', 'templewala', 'templewalk', 'templewe', 'templeweekends', 'templewell', 'templewith', 'templeworth', 'templeyou', 'tempt', 'temptation', 'tempted', 'tempting', 'tend', 'tendering', 'tension', 'term', 'termed', 'terminal', 'terrace', 'terrible', 'terribly', 'test', 'testy', 'text', 'tge', 'thaali', 'thaken', 'thakur', 'thali', 'thankfully', 'thatthis', 'thay', 'theater', 'theaterlot', 'theatre', 'theatresattvic', 'thee', 'theertha', 'thefoot', 'thekei', 'themale', 'theme', 'themed', 'themits', 'themlooks', 'themself', 'ther', 'therea', 'thereat', 'therebad', 'therecoz', 'thered', 'thereee', 'thereexcept', 'thereits', 'therejust', 'therend', 'therepeacefull', 'theresnacks', 'therethe', 'therethis', 'thereu', 'therewe', 'thereyou', 'theyll', 'theyre', 'thier', 'thing', 'thir', 'thirst', 'thirsty', 'thirumanchanam', 'thirupathi', 'thiruvananthapuram', 'thiscoming', 'thisif', 'thng', 'thomas', 'thorouglly', 'thou', 'thoughmany', 'thoughpure', 'thought', 'thoughtful', 'thoughtfulall', 'thoughthe', 'thoughwant', 'thousand', 'thr', 'threefourth', 'thrill', 'thrilling', 'thriugh', 'thrives', 'throne', 'throng', 'thronging', 'throuout', 'throw', 'thrown', 'thrust', 'tht', 'thts', 'thualsi', 'thumb', 'ti', 'tick', 'ticked', 'ticket', 'tidbit', 'tidy', 'tie', 'tiem', 'tier', 'tiffin', 'tight', 'tikka', 'til', 'tilak', 'tile', 'tilesyou', 'till', 'time', 'timebut', 'timeconsuming', 'timed', 'timego', 'timegreat', 'timehad', 'timeif', 'timeless', 'timepass', 'timepassers', 'timer', 'timesevery', 'timesnot', 'timesstay', 'timetake', 'timethe', 'timevery', 'timeyou', 'timing', 'timinings', 'tini', 'tiny', 'tip', 'tired', 'tiredness', 'tiresome', 'tiring', 'tirupathi', 'tirupati', 'title', 'tkt', 'tmoverall', 'tmw', 'toagather', 'toalthough', 'toavoid', 'tobe', 'tobei', 'today', 'todo', 'todya', 'togethermy', 'toilet', 'token', 'tokhon', 'told', 'toll', 'tomain', 'ton', 'toned', 'tooaround', 'tooin', 'toomust', 'tooo', 'tooparking', 'tooso', 'tooth', 'toowe', 'top', 'topgood', 'topic', 'toppest', 'torn', 'toss', 'total', 'totally', 'totaly', 'tou', 'touch', 'touched', 'touching', 'tough', 'tour', 'touring', 'tourism', 'tourist', 'touristas', 'touristic', 'touristy', 'tourthe', 'tout', 'tow', 'towed', 'towel', 'tower', 'town', 'towncountry', 'township', 'toy', 'traceexperience', 'track', 'trade', 'trademarked', 'trader', 'tradition', 'traditional', 'traditionalist', 'traditionally', 'traffic', 'trafficroutes', 'trafic', 'traiditionmorning', 'trail', 'train', 'trained', 'trance', 'tranlocated', 'tranquil', 'tranquilits', 'tranquility', 'tranquilizing', 'tranquillity', 'transaction', 'transcend', 'transcendental', 'transfer', 'transfered', 'transform', 'transformation', 'transformed', 'transforming', 'transforms', 'transition', 'translated', 'translation', 'transparency', 'transport', 'transportation', 'transported', 'travel', 'traveled', 'traveler', 'traveling', 'traveller', 'travelling', 'trawling', 'treasure', 'treasured', 'treat', 'treated', 'treating', 'treatment', 'treatmentso', 'tree', 'trek', 'tremendous', 'tremendously', 'trendsetters', 'trendy', 'tribute', 'tricky', 'trinket', 'trip', 'tripadvisor', 'tripand', 'triply', 'tritiya', 'trouble', 'troubled', 'troublesome', 'trough', 'trouser', 'truck', 'trudge', 'trudging', 'truely', 'trust', 'trustee', 'trustworthycrystal', 'truth', 'truthtemples', 'tshirts', 'tuckshop', 'tuesday', 'tulasi', 'tumkur', 'tummy', 'tumult', 'tune', 'tunedfor', 'turbulence', 'turn', 'turned', 'turning', 'tv', 'twenty', 'twilight', 'twisting', 'twitter', 'twoinone', 'ty', 'tym', 'type', 'typical', 'typically', 'uber', 'ubiquitous', 'ucan', 'ud', 'uddharaka', 'uf', 'ugadi', 'uk', 'ull', 'ulsoor', 'ultimate', 'ultimately', 'ultra', 'umbrella', 'unable', 'unassuming', 'unattached', 'unaware', 'unbelievable', 'unbelive', 'uncalled', 'unclean', 'uncomfortable', 'uncomfortablelike', 'uncommon', 'uncomparable', 'unconditional', 'unconsciously', 'undergo', 'underground', 'underline', 'underneath', 'understand', 'understandable', 'understanding', 'understood', 'undertake', 'undertaking', 'underway', 'undue', 'uneccesarily', 'uneven', 'unexpected', 'unexpectedly', 'unexplainable', 'unforgettable', 'unfortunately', 'unfriendly', 'unheard', 'unhygienic', 'unimaginable', 'unintentional', 'unintentionally', 'union', 'unique', 'uniquely', 'uniqueness', 'united', 'universal', 'universe', 'university', 'unlike', 'unlimited', 'unlucky', 'unmanaged', 'unmatchable', 'unnecessary', 'uno', 'unobtrusive', 'unpleasant', 'unpredicable', 'unprepared', 'unsubtle', 'unsure', 'untemple', 'untensils', 'untill', 'unusual', 'unviable', 'unwanted', 'unwind', 'unwinding', 'upachara', 'upafter', 'upcoming', 'update', 'updated', 'uphill', 'upkeep', 'uplifted', 'uplifting', 'upmarket', 'upper', 'uppermost', 'upscale', 'upto', 'upwards', 'ur', 'urban', 'urge', 'urgent', 'urging', 'urself', 'urselfduring', 'usa', 'usable', 'usher', 'ushered', 'usual', 'uthbe', 'utilising', 'utilize', 'utilized', 'utmost', 'utsav', 'utsava', 'utssvs', 'utter', 'vaas', 'vacate', 'vacation', 'vacationsthe', 'vada', 'vaguely', 'vaikunda', 'vaikunta', 'vaikuntas', 'vaikuntha', 'vairgya', 'vaishnav', 'vaishnava', 'vaishnavasbut', 'vaishnavera', 'vaishnavi', 'vaishnavism', 'valet', 'valid', 'valley', 'valuable', 'value', 'van', 'vande', 'vandhe', 'vanish', 'vanity', 'varaaha', 'variable', 'variant', 'variation', 'varied', 'variety', 'vary', 'varying', 'vast', 'vastness', 'vastthe', 'vastu', 'vasudevaya', 'vatican', 'vault', 'vcds', 'veda', 'vedic', 'veey', 'veg', 'vegan', 'vegetable', 'vegetarian', 'vegetarianism', 'vegetarious', 'vegetation', 'vegeterian', 'vegetetarian', 'veggie', 'vegitarian', 'vehicle', 'veiw', 'ven', 'vendingseeming', 'vendor', 'veneration', 'venkatesh', 'venkatesha', 'venkateshwara', 'venkateswara', 'venkateswaraprahallada', 'venketeshwara', 'venture', 'venue', 'ver', 'verdict', 'veriety', 'verity', 'verry', 'verse', 'version', 'verywell', 'veryyy', 'vi', 'viakunta', 'vibe', 'vibethen', 'vibrance', 'vibrant', 'vibration', 'vicinity', 'video', 'videography', 'view', 'viewable', 'viewdo', 'viewing', 'viewnear', 'viewpoint', 'viewthe', 'vigour', 'vigraha', 'vigrahas', 'vihari', 'viisit', 'vija', 'vikunta', 'vikuntekadershi', 'village', 'vinod', 'violence', 'vip', 'virginia', 'virtually', 'virtue', 'vishnu', 'vishnulot', 'vishnur', 'vishnuthe', 'visible', 'vising', 'vision', 'visist', 'visisting', 'visit', 'visita', 'visitable', 'visitbcz', 'visitbeing', 'visitbesides', 'visited', 'visitedafter', 'visitednice', 'visitevery', 'visitfacilities', 'visiti', 'visiting', 'visitits', 'visitjai', 'visitmagical', 'visitnicely', 'visitno', 'visitone', 'visitor', 'visitorspilgrims', 'visitserene', 'visitso', 'visitspecially', 'visitthe', 'visitu', 'visitvisited', 'visitwe', 'visityou', 'visivisit', 'visot', 'vist', 'vista', 'visted', 'visting', 'vistor', 'visual', 'visualise', 'visually', 'viswesharayya', 'vitran', 'vittal', 'vivanta', 'vives', 'vizag', 'voice', 'voluntarily', 'volunteer', 'volunteersenjoy', 'vouch', 'voucher', 'vrindaban', 'vrindavan', 'vrindavana', 'vrindavanam', 'vrindavandecoration', 'vrindhavan', 'vrindvan', 'vrndavan', 'vry', 'vsiit', 'vu', 'vulgar', 'vv', 'vykunta', 'wa', 'waist', 'wait', 'waited', 'waiter', 'waiting', 'wake', 'waking', 'walk', 'walkable', 'walkaround', 'walked', 'walking', 'walkingnot', 'walkold', 'walkway', 'wall', 'walm', 'walmart', 'wander', 'wandering', 'wanna', 'wanted', 'wanting', 'war', 'ward', 'ware', 'warm', 'warmed', 'warmer', 'warming', 'warmth', 'warned', 'warning', 'wash', 'washed', 'washing', 'washroom', 'waste', 'wasted', 'wasudeva', 'watch', 'watching', 'watchingand', 'water', 'watering', 'watta', 'wave', 'way', 'wb', 'weak', 'wear', 'wearing', 'weather', 'weave', 'website', 'wedding', 'wednesday', 'wee', 'weedays', 'week', 'weekday', 'weekdaysits', 'weekend', 'weekendevening', 'weekendonce', 'weekly', 'weekpublic', 'weel', 'welcome', 'welcomed', 'welcomi', 'welcoming', 'welfare', 'wella', 'wellbuilt', 'wellcrafted', 'welldone', 'welli', 'wellknown', 'wellmaintained', 'wellmanaged', 'wellorganised', 'wellspacious', 'welltrained', 'wellversed', 'wellvisited', 'wellwell', 'wellwishers', 'wen', 'wer', 'wery', 'west', 'western', 'westerner', 'westofcord', 'westoff', 'wet', 'wh', 'whats', 'whatsoever', 'whatvever', 'wheat', 'wheel', 'wheelchair', 'wheeler', 'whelm', 'whem', 'wherefrom', 'wherei', 'whiff', 'whike', 'whilst', 'whish', 'whisked', 'whispering', 'white', 'whitefield', 'whizz', 'whod', 'wholesale', 'wholesome', 'whomever', 'whomsoever', 'whosoever', 'wht', 'wich', 'wid', 'wide', 'wife', 'wil', 'wildly', 'willl', 'wilth', 'wind', 'winded', 'winding', 'window', 'windy', 'wing', 'winter', 'wipe', 'wiping', 'wisdom', 'wise', 'wisely', 'wish', 'wished', 'wisher', 'wishers', 'wishing', 'wit', 'withe', 'withing', 'witht', 'witness', 'witnessed', 'witnessing', 'wiyou', 'wld', 'wlk', 'wll', 'wmeasurements', 'wndrful', 'woc', 'woe', 'wohlfahrtskueche', 'wok', 'woken', 'woman', 'wonder', 'wonderful', 'wonderfull', 'wonderfully', 'wonderfulthere', 'wondering', 'wonderla', 'wonderment', 'wood', 'wooden', 'word', 'wore', 'worh', 'worhiping', 'work', 'worked', 'worker', 'working', 'workinggood', 'workmanship', 'workship', 'workshop', 'world', 'worldclass', 'worldgood', 'worldhere', 'worldjust', 'worldly', 'worldso', 'worldthe', 'worldwide', 'worldyou', 'worn', 'worriesyou', 'worry', 'worse', 'worship', 'worshipbut', 'worshipclean', 'worshiped', 'worshiper', 'worshiphave', 'worshiping', 'worshipingto', 'worshipit', 'worshipkrishna', 'worshipone', 'worshipped', 'worshipper', 'worshipperrs', 'worshipping', 'worst', 'worth', 'worthwhile', 'worthy', 'wow', 'wowwat', 'wowwww', 'wrap', 'wrapped', 'wright', 'write', 'writing', 'written', 'wrong', 'wrongsuch', 'wth', 'xiwala', 'yard', 'yashavanthapura', 'yashwanthapur', 'yashwanthpur', 'yashwantpur', 'yaswanthpur', 'yaswantpur', 'yata', 'yatra', 'yatracar', 'yatri', 'year', 'yearning', 'yearson', 'yearthe', 'yeashwanthpur', 'yelahanka', 'yelling', 'yellow', 'yeshvantpur', 'yeshvantpurbengaluru', 'yeshvatapurachord', 'yeshwant', 'yeshwanthapur', 'yeshwanthpur', 'yeshwanthpura', 'yeshwantpur', 'yeshwantpurthis', 'yeshwantpurwest', 'yespuntpur', 'yesterday', 'yesvantpur', 'yeswantapur', 'yeswanthpur', 'yeswantpur', 'yeswantpurtoo', 'yfl', 'ymmv', 'yo', 'yoga', 'yoganarasimha', 'youand', 'youd', 'youll', 'young', 'youre', 'yourselfand', 'yourselfthe', 'youth', 'youve', 'youyou', 'yr', 'ystems', 'yudhishtira', 'yuga', 'yum', 'yummy', 'yunny', 'zag', 'zara', 'zig', 'zigzag', 'zone', 'zoner', 'zoom']\n"
     ]
    },
    {
     "name": "stderr",
     "output_type": "stream",
     "text": [
      "/Users/sonali/Library/Python/3.9/lib/python/site-packages/sklearn/utils/deprecation.py:87: FutureWarning: Function get_feature_names is deprecated; get_feature_names is deprecated in 1.0 and will be removed in 1.2. Please use get_feature_names_out instead.\n",
      "  warnings.warn(msg, category=FutureWarning)\n"
     ]
    },
    {
     "data": {
      "text/plain": [
       "temple     4715\n",
       "place      2695\n",
       "krishna    1797\n",
       "visit      1700\n",
       "hare       1305\n",
       "dtype: int64"
      ]
     },
     "execution_count": 297,
     "metadata": {},
     "output_type": "execute_result"
    }
   ],
   "source": [
    "trans_token = pd.DataFrame(vectorizer_trans.fit_transform(translated['text_translated']).toarray(), columns=vectorizer_trans.get_feature_names())\n",
    "print(trans_token.columns.tolist())\n",
    "sort_text_trans = trans_token.sum()\n",
    "sort_text_trans.sort_values(ascending = False).head()\n"
   ]
  },
  {
   "cell_type": "code",
   "execution_count": null,
   "metadata": {},
   "outputs": [],
   "source": [
    "\n",
    "\n",
    "tokens_data = pd.DataFrame(vectorizer.fit_transform(iskcon['text']).toarray(), columns=vectorizer.get_feature_names())\n",
    "print(tokens_data.columns.tolist())\n",
    "sort_text = tokens_data.sum()\n",
    "sort_text.sort_values(ascending = False).head(50)\n"
   ]
  },
  {
   "cell_type": "code",
   "execution_count": 253,
   "metadata": {},
   "outputs": [],
   "source": [
    "plot_size = plt.rcParams[\"figure.figsize\"] \n",
    "plot_size[0] = 4\n",
    "plot_size[1] = 3\n",
    "plt.rcParams[\"figure.figsize\"] = plot_size"
   ]
  },
  {
   "cell_type": "code",
   "execution_count": null,
   "metadata": {},
   "outputs": [],
   "source": [
    "translated['REVIEW YEAR'].value_counts().plot(kind='bar', title='Comments by Review Year')"
   ]
  },
  {
   "cell_type": "code",
   "execution_count": null,
   "metadata": {},
   "outputs": [],
   "source": [
    "translated['REVIEW RATING'].value_counts().plot(kind='bar', title='Comments by Reviewer Rating ')\n"
   ]
  },
  {
   "cell_type": "code",
   "execution_count": null,
   "metadata": {},
   "outputs": [],
   "source": [
    "translated['REVIEW TYPE'].value_counts().plot(kind='bar', title='Comments by Review Type')\n"
   ]
  },
  {
   "cell_type": "code",
   "execution_count": null,
   "metadata": {},
   "outputs": [],
   "source": [
    "rating = translated.groupby(['REVIEW YEAR', 'REVIEW RATING'])['REVIEW RATING'].count().unstack()\n",
    "\n",
    "rating.plot(kind='bar',title='Comments by Year and Review Rating',xlabel=\"\")"
   ]
  },
  {
   "cell_type": "code",
   "execution_count": null,
   "metadata": {},
   "outputs": [],
   "source": [
    "translated.SOURCE.value_counts().plot(kind='bar', title='Comments by Source')\n"
   ]
  },
  {
   "cell_type": "code",
   "execution_count": 214,
   "metadata": {},
   "outputs": [],
   "source": [
    "from sklearn.feature_extraction.text import CountVectorizer\n",
    "from sklearn.decomposition import LatentDirichletAllocation\n",
    "from sklearn.feature_extraction.text import TfidfVectorizer\n",
    "from sklearn.decomposition import NMF"
   ]
  },
  {
   "cell_type": "code",
   "execution_count": 215,
   "metadata": {},
   "outputs": [
    {
     "data": {
      "text/plain": [
       "(4644, 978)"
      ]
     },
     "execution_count": 215,
     "metadata": {},
     "output_type": "execute_result"
    }
   ],
   "source": [
    "vectorizer_trans = CountVectorizer(max_df=0.8, min_df=10, stop_words='english')\n",
    "doc_term_matrix_trans = vectorizer_trans.fit_transform(translated['text_translated'].values.astype('U'))\n",
    "doc_term_matrix_trans.shape"
   ]
  },
  {
   "cell_type": "code",
   "execution_count": 216,
   "metadata": {},
   "outputs": [
    {
     "data": {
      "text/html": [
       "<style>#sk-container-id-19 {color: black;background-color: white;}#sk-container-id-19 pre{padding: 0;}#sk-container-id-19 div.sk-toggleable {background-color: white;}#sk-container-id-19 label.sk-toggleable__label {cursor: pointer;display: block;width: 100%;margin-bottom: 0;padding: 0.3em;box-sizing: border-box;text-align: center;}#sk-container-id-19 label.sk-toggleable__label-arrow:before {content: \"▸\";float: left;margin-right: 0.25em;color: #696969;}#sk-container-id-19 label.sk-toggleable__label-arrow:hover:before {color: black;}#sk-container-id-19 div.sk-estimator:hover label.sk-toggleable__label-arrow:before {color: black;}#sk-container-id-19 div.sk-toggleable__content {max-height: 0;max-width: 0;overflow: hidden;text-align: left;background-color: #f0f8ff;}#sk-container-id-19 div.sk-toggleable__content pre {margin: 0.2em;color: black;border-radius: 0.25em;background-color: #f0f8ff;}#sk-container-id-19 input.sk-toggleable__control:checked~div.sk-toggleable__content {max-height: 200px;max-width: 100%;overflow: auto;}#sk-container-id-19 input.sk-toggleable__control:checked~label.sk-toggleable__label-arrow:before {content: \"▾\";}#sk-container-id-19 div.sk-estimator input.sk-toggleable__control:checked~label.sk-toggleable__label {background-color: #d4ebff;}#sk-container-id-19 div.sk-label input.sk-toggleable__control:checked~label.sk-toggleable__label {background-color: #d4ebff;}#sk-container-id-19 input.sk-hidden--visually {border: 0;clip: rect(1px 1px 1px 1px);clip: rect(1px, 1px, 1px, 1px);height: 1px;margin: -1px;overflow: hidden;padding: 0;position: absolute;width: 1px;}#sk-container-id-19 div.sk-estimator {font-family: monospace;background-color: #f0f8ff;border: 1px dotted black;border-radius: 0.25em;box-sizing: border-box;margin-bottom: 0.5em;}#sk-container-id-19 div.sk-estimator:hover {background-color: #d4ebff;}#sk-container-id-19 div.sk-parallel-item::after {content: \"\";width: 100%;border-bottom: 1px solid gray;flex-grow: 1;}#sk-container-id-19 div.sk-label:hover label.sk-toggleable__label {background-color: #d4ebff;}#sk-container-id-19 div.sk-serial::before {content: \"\";position: absolute;border-left: 1px solid gray;box-sizing: border-box;top: 0;bottom: 0;left: 50%;z-index: 0;}#sk-container-id-19 div.sk-serial {display: flex;flex-direction: column;align-items: center;background-color: white;padding-right: 0.2em;padding-left: 0.2em;position: relative;}#sk-container-id-19 div.sk-item {position: relative;z-index: 1;}#sk-container-id-19 div.sk-parallel {display: flex;align-items: stretch;justify-content: center;background-color: white;position: relative;}#sk-container-id-19 div.sk-item::before, #sk-container-id-19 div.sk-parallel-item::before {content: \"\";position: absolute;border-left: 1px solid gray;box-sizing: border-box;top: 0;bottom: 0;left: 50%;z-index: -1;}#sk-container-id-19 div.sk-parallel-item {display: flex;flex-direction: column;z-index: 1;position: relative;background-color: white;}#sk-container-id-19 div.sk-parallel-item:first-child::after {align-self: flex-end;width: 50%;}#sk-container-id-19 div.sk-parallel-item:last-child::after {align-self: flex-start;width: 50%;}#sk-container-id-19 div.sk-parallel-item:only-child::after {width: 0;}#sk-container-id-19 div.sk-dashed-wrapped {border: 1px dashed gray;margin: 0 0.4em 0.5em 0.4em;box-sizing: border-box;padding-bottom: 0.4em;background-color: white;}#sk-container-id-19 div.sk-label label {font-family: monospace;font-weight: bold;display: inline-block;line-height: 1.2em;}#sk-container-id-19 div.sk-label-container {text-align: center;}#sk-container-id-19 div.sk-container {/* jupyter's `normalize.less` sets `[hidden] { display: none; }` but bootstrap.min.css set `[hidden] { display: none !important; }` so we also need the `!important` here to be able to override the default hidden behavior on the sphinx rendered scikit-learn.org. See: https://github.com/scikit-learn/scikit-learn/issues/21755 */display: inline-block !important;position: relative;}#sk-container-id-19 div.sk-text-repr-fallback {display: none;}</style><div id=\"sk-container-id-19\" class=\"sk-top-container\"><div class=\"sk-text-repr-fallback\"><pre>LatentDirichletAllocation(n_components=5, random_state=35)</pre><b>In a Jupyter environment, please rerun this cell to show the HTML representation or trust the notebook. <br />On GitHub, the HTML representation is unable to render, please try loading this page with nbviewer.org.</b></div><div class=\"sk-container\" hidden><div class=\"sk-item\"><div class=\"sk-estimator sk-toggleable\"><input class=\"sk-toggleable__control sk-hidden--visually\" id=\"sk-estimator-id-19\" type=\"checkbox\" checked><label for=\"sk-estimator-id-19\" class=\"sk-toggleable__label sk-toggleable__label-arrow\">LatentDirichletAllocation</label><div class=\"sk-toggleable__content\"><pre>LatentDirichletAllocation(n_components=5, random_state=35)</pre></div></div></div></div></div>"
      ],
      "text/plain": [
       "LatentDirichletAllocation(n_components=5, random_state=35)"
      ]
     },
     "execution_count": 216,
     "metadata": {},
     "output_type": "execute_result"
    }
   ],
   "source": [
    "LDA_trans = LatentDirichletAllocation(n_components=5, random_state=35)\n",
    "LDA_trans.fit(doc_term_matrix_trans)"
   ]
  },
  {
   "cell_type": "code",
   "execution_count": 217,
   "metadata": {},
   "outputs": [
    {
     "name": "stdout",
     "output_type": "stream",
     "text": [
      "Top 10 words for topic #0:\n",
      "['shopping', 'time', 'inside', 'clean', 'bangalore', 'nice', 'food', 'visit', 'place', 'temple']\n",
      "\n",
      "\n",
      "Top 10 words for topic #1:\n",
      "['queue', 'lot', 'parking', 'book', 'inside', 'visit', 'time', 'darshan', 'food', 'temple']\n",
      "\n",
      "\n",
      "Top 10 words for topic #2:\n",
      "['mind', 'feel', 'lord', 'peaceful', 'krishna', 'nice', 'temple', 'peace', 'visit', 'place']\n",
      "\n",
      "\n",
      "Top 10 words for topic #3:\n",
      "['visited', 'city', 'sri', 'lord', 'beautiful', 'visit', 'krishna', 'bangalore', 'iskcon', 'temple']\n",
      "\n",
      "\n",
      "Top 10 words for topic #4:\n",
      "['radhe', 'mantra', 'lord', 'temple', 'chant', 'ram', 'chanting', 'rama', 'krishna', 'hare']\n",
      "\n",
      "\n"
     ]
    },
    {
     "name": "stderr",
     "output_type": "stream",
     "text": [
      "/Users/sonali/Library/Python/3.9/lib/python/site-packages/sklearn/utils/deprecation.py:87: FutureWarning: Function get_feature_names is deprecated; get_feature_names is deprecated in 1.0 and will be removed in 1.2. Please use get_feature_names_out instead.\n",
      "  warnings.warn(msg, category=FutureWarning)\n"
     ]
    }
   ],
   "source": [
    "for i,topic in enumerate(LDA_trans.components_):\n",
    "    print(f'Top 10 words for topic #{i}:')\n",
    "    print([vectorizer_trans.get_feature_names()[i] for i in topic.argsort()[-10:]])\n",
    "    print('\\n')"
   ]
  },
  {
   "cell_type": "code",
   "execution_count": 198,
   "metadata": {},
   "outputs": [
    {
     "data": {
      "text/html": [
       "<div>\n",
       "<style scoped>\n",
       "    .dataframe tbody tr th:only-of-type {\n",
       "        vertical-align: middle;\n",
       "    }\n",
       "\n",
       "    .dataframe tbody tr th {\n",
       "        vertical-align: top;\n",
       "    }\n",
       "\n",
       "    .dataframe thead th {\n",
       "        text-align: right;\n",
       "    }\n",
       "</style>\n",
       "<table border=\"1\" class=\"dataframe\">\n",
       "  <thead>\n",
       "    <tr style=\"text-align: right;\">\n",
       "      <th></th>\n",
       "      <th>Unnamed: 0</th>\n",
       "      <th>REVIEW ID</th>\n",
       "      <th>SOURCE</th>\n",
       "      <th>REVIEW BY</th>\n",
       "      <th>REVIEW DATE</th>\n",
       "      <th>REVIEW MONTH</th>\n",
       "      <th>REVIEW YEAR</th>\n",
       "      <th>REVIEW SUBJECT</th>\n",
       "      <th>text</th>\n",
       "      <th>REVIEW RATING</th>\n",
       "      <th>REVIEW TYPE</th>\n",
       "      <th>text_translated</th>\n",
       "      <th>topic_LDA</th>\n",
       "    </tr>\n",
       "  </thead>\n",
       "  <tbody>\n",
       "    <tr>\n",
       "      <th>0</th>\n",
       "      <td>0</td>\n",
       "      <td>2846</td>\n",
       "      <td>Facebook</td>\n",
       "      <td>Mathi Maddy</td>\n",
       "      <td>7/12/2015</td>\n",
       "      <td>July</td>\n",
       "      <td>2015</td>\n",
       "      <td>NaN</td>\n",
       "      <td>!!!!!!!!!!!!!!!Awesome! !!!!!!!!!!!!!! I ever ...</td>\n",
       "      <td>5</td>\n",
       "      <td>POSITIVE</td>\n",
       "      <td>awesome krishna temple lik</td>\n",
       "      <td>2</td>\n",
       "    </tr>\n",
       "    <tr>\n",
       "      <th>1</th>\n",
       "      <td>1</td>\n",
       "      <td>3806</td>\n",
       "      <td>Google + HK HILL</td>\n",
       "      <td>Vinayak H.p</td>\n",
       "      <td>12/8/2016</td>\n",
       "      <td>December</td>\n",
       "      <td>2016</td>\n",
       "      <td>NaN</td>\n",
       "      <td>\" Wow ! What a beautiful place \" Iscon temple ...</td>\n",
       "      <td>5</td>\n",
       "      <td>POSITIVE</td>\n",
       "      <td>wow beautiful place iscon temple ambiance temp...</td>\n",
       "      <td>3</td>\n",
       "    </tr>\n",
       "    <tr>\n",
       "      <th>2</th>\n",
       "      <td>2</td>\n",
       "      <td>3881</td>\n",
       "      <td>Trip Advisor</td>\n",
       "      <td>ganeshkamath</td>\n",
       "      <td>12/19/2016</td>\n",
       "      <td>December</td>\n",
       "      <td>2016</td>\n",
       "      <td>Visit to Abode of Almighty</td>\n",
       "      <td>\"A must visit\" place for all those who live in...</td>\n",
       "      <td>5</td>\n",
       "      <td>POSITIVE</td>\n",
       "      <td>visit place live bangalore visit city abode al...</td>\n",
       "      <td>2</td>\n",
       "    </tr>\n",
       "    <tr>\n",
       "      <th>3</th>\n",
       "      <td>3</td>\n",
       "      <td>4043</td>\n",
       "      <td>Facebook</td>\n",
       "      <td>Vishwa Rastapur</td>\n",
       "      <td>1/10/2017</td>\n",
       "      <td>January</td>\n",
       "      <td>2017</td>\n",
       "      <td>NaN</td>\n",
       "      <td>\"Hare Rama Hare Rama Rama Rama Hare Hare, Hare...</td>\n",
       "      <td>5</td>\n",
       "      <td>POSITIVE</td>\n",
       "      <td>hare rama hare rama rama rama hare hare hare k...</td>\n",
       "      <td>4</td>\n",
       "    </tr>\n",
       "    <tr>\n",
       "      <th>4</th>\n",
       "      <td>4</td>\n",
       "      <td>3954</td>\n",
       "      <td>Facebook</td>\n",
       "      <td>Shruthi Sukruti</td>\n",
       "      <td>1/2/2017</td>\n",
       "      <td>January</td>\n",
       "      <td>2017</td>\n",
       "      <td>NaN</td>\n",
       "      <td>\"Management system is nice.., each time we vis...</td>\n",
       "      <td>5</td>\n",
       "      <td>POSITIVE</td>\n",
       "      <td>management system nice time visit temple enjoy...</td>\n",
       "      <td>0</td>\n",
       "    </tr>\n",
       "  </tbody>\n",
       "</table>\n",
       "</div>"
      ],
      "text/plain": [
       "   Unnamed: 0  REVIEW ID            SOURCE        REVIEW BY REVIEW DATE  \\\n",
       "0           0       2846          Facebook      Mathi Maddy   7/12/2015   \n",
       "1           1       3806  Google + HK HILL      Vinayak H.p   12/8/2016   \n",
       "2           2       3881      Trip Advisor     ganeshkamath  12/19/2016   \n",
       "3           3       4043          Facebook  Vishwa Rastapur   1/10/2017   \n",
       "4           4       3954          Facebook  Shruthi Sukruti    1/2/2017   \n",
       "\n",
       "  REVIEW MONTH  REVIEW YEAR              REVIEW SUBJECT  \\\n",
       "0         July         2015                         NaN   \n",
       "1     December         2016                         NaN   \n",
       "2     December         2016  Visit to Abode of Almighty   \n",
       "3      January         2017                         NaN   \n",
       "4      January         2017                         NaN   \n",
       "\n",
       "                                                text  REVIEW RATING  \\\n",
       "0  !!!!!!!!!!!!!!!Awesome! !!!!!!!!!!!!!! I ever ...              5   \n",
       "1  \" Wow ! What a beautiful place \" Iscon temple ...              5   \n",
       "2  \"A must visit\" place for all those who live in...              5   \n",
       "3  \"Hare Rama Hare Rama Rama Rama Hare Hare, Hare...              5   \n",
       "4  \"Management system is nice.., each time we vis...              5   \n",
       "\n",
       "  REVIEW TYPE                                    text_translated  topic_LDA  \n",
       "0    POSITIVE                         awesome krishna temple lik          2  \n",
       "1    POSITIVE  wow beautiful place iscon temple ambiance temp...          3  \n",
       "2    POSITIVE  visit place live bangalore visit city abode al...          2  \n",
       "3    POSITIVE  hare rama hare rama rama rama hare hare hare k...          4  \n",
       "4    POSITIVE  management system nice time visit temple enjoy...          0  "
      ]
     },
     "execution_count": 198,
     "metadata": {},
     "output_type": "execute_result"
    }
   ],
   "source": [
    "topic_values_trans = LDA_trans.transform(doc_term_matrix_trans)\n",
    "topic_values_trans.shape\n",
    "translated['topic_LDA'] = topic_values_trans.argmax(axis=1)\n",
    "translated.head()\n"
   ]
  },
  {
   "cell_type": "code",
   "execution_count": 218,
   "metadata": {},
   "outputs": [
    {
     "data": {
      "text/plain": [
       "(4645, 974)"
      ]
     },
     "execution_count": 218,
     "metadata": {},
     "output_type": "execute_result"
    }
   ],
   "source": [
    "vectorizer = CountVectorizer(max_df=0.8, min_df=10, stop_words='english')\n",
    "doc_term_matrix = vectorizer.fit_transform(iskcon['text'].values.astype('U'))\n",
    "doc_term_matrix.shape"
   ]
  },
  {
   "cell_type": "code",
   "execution_count": 219,
   "metadata": {},
   "outputs": [
    {
     "data": {
      "text/html": [
       "<style>#sk-container-id-20 {color: black;background-color: white;}#sk-container-id-20 pre{padding: 0;}#sk-container-id-20 div.sk-toggleable {background-color: white;}#sk-container-id-20 label.sk-toggleable__label {cursor: pointer;display: block;width: 100%;margin-bottom: 0;padding: 0.3em;box-sizing: border-box;text-align: center;}#sk-container-id-20 label.sk-toggleable__label-arrow:before {content: \"▸\";float: left;margin-right: 0.25em;color: #696969;}#sk-container-id-20 label.sk-toggleable__label-arrow:hover:before {color: black;}#sk-container-id-20 div.sk-estimator:hover label.sk-toggleable__label-arrow:before {color: black;}#sk-container-id-20 div.sk-toggleable__content {max-height: 0;max-width: 0;overflow: hidden;text-align: left;background-color: #f0f8ff;}#sk-container-id-20 div.sk-toggleable__content pre {margin: 0.2em;color: black;border-radius: 0.25em;background-color: #f0f8ff;}#sk-container-id-20 input.sk-toggleable__control:checked~div.sk-toggleable__content {max-height: 200px;max-width: 100%;overflow: auto;}#sk-container-id-20 input.sk-toggleable__control:checked~label.sk-toggleable__label-arrow:before {content: \"▾\";}#sk-container-id-20 div.sk-estimator input.sk-toggleable__control:checked~label.sk-toggleable__label {background-color: #d4ebff;}#sk-container-id-20 div.sk-label input.sk-toggleable__control:checked~label.sk-toggleable__label {background-color: #d4ebff;}#sk-container-id-20 input.sk-hidden--visually {border: 0;clip: rect(1px 1px 1px 1px);clip: rect(1px, 1px, 1px, 1px);height: 1px;margin: -1px;overflow: hidden;padding: 0;position: absolute;width: 1px;}#sk-container-id-20 div.sk-estimator {font-family: monospace;background-color: #f0f8ff;border: 1px dotted black;border-radius: 0.25em;box-sizing: border-box;margin-bottom: 0.5em;}#sk-container-id-20 div.sk-estimator:hover {background-color: #d4ebff;}#sk-container-id-20 div.sk-parallel-item::after {content: \"\";width: 100%;border-bottom: 1px solid gray;flex-grow: 1;}#sk-container-id-20 div.sk-label:hover label.sk-toggleable__label {background-color: #d4ebff;}#sk-container-id-20 div.sk-serial::before {content: \"\";position: absolute;border-left: 1px solid gray;box-sizing: border-box;top: 0;bottom: 0;left: 50%;z-index: 0;}#sk-container-id-20 div.sk-serial {display: flex;flex-direction: column;align-items: center;background-color: white;padding-right: 0.2em;padding-left: 0.2em;position: relative;}#sk-container-id-20 div.sk-item {position: relative;z-index: 1;}#sk-container-id-20 div.sk-parallel {display: flex;align-items: stretch;justify-content: center;background-color: white;position: relative;}#sk-container-id-20 div.sk-item::before, #sk-container-id-20 div.sk-parallel-item::before {content: \"\";position: absolute;border-left: 1px solid gray;box-sizing: border-box;top: 0;bottom: 0;left: 50%;z-index: -1;}#sk-container-id-20 div.sk-parallel-item {display: flex;flex-direction: column;z-index: 1;position: relative;background-color: white;}#sk-container-id-20 div.sk-parallel-item:first-child::after {align-self: flex-end;width: 50%;}#sk-container-id-20 div.sk-parallel-item:last-child::after {align-self: flex-start;width: 50%;}#sk-container-id-20 div.sk-parallel-item:only-child::after {width: 0;}#sk-container-id-20 div.sk-dashed-wrapped {border: 1px dashed gray;margin: 0 0.4em 0.5em 0.4em;box-sizing: border-box;padding-bottom: 0.4em;background-color: white;}#sk-container-id-20 div.sk-label label {font-family: monospace;font-weight: bold;display: inline-block;line-height: 1.2em;}#sk-container-id-20 div.sk-label-container {text-align: center;}#sk-container-id-20 div.sk-container {/* jupyter's `normalize.less` sets `[hidden] { display: none; }` but bootstrap.min.css set `[hidden] { display: none !important; }` so we also need the `!important` here to be able to override the default hidden behavior on the sphinx rendered scikit-learn.org. See: https://github.com/scikit-learn/scikit-learn/issues/21755 */display: inline-block !important;position: relative;}#sk-container-id-20 div.sk-text-repr-fallback {display: none;}</style><div id=\"sk-container-id-20\" class=\"sk-top-container\"><div class=\"sk-text-repr-fallback\"><pre>LatentDirichletAllocation(n_components=5, random_state=35)</pre><b>In a Jupyter environment, please rerun this cell to show the HTML representation or trust the notebook. <br />On GitHub, the HTML representation is unable to render, please try loading this page with nbviewer.org.</b></div><div class=\"sk-container\" hidden><div class=\"sk-item\"><div class=\"sk-estimator sk-toggleable\"><input class=\"sk-toggleable__control sk-hidden--visually\" id=\"sk-estimator-id-20\" type=\"checkbox\" checked><label for=\"sk-estimator-id-20\" class=\"sk-toggleable__label sk-toggleable__label-arrow\">LatentDirichletAllocation</label><div class=\"sk-toggleable__content\"><pre>LatentDirichletAllocation(n_components=5, random_state=35)</pre></div></div></div></div></div>"
      ],
      "text/plain": [
       "LatentDirichletAllocation(n_components=5, random_state=35)"
      ]
     },
     "execution_count": 219,
     "metadata": {},
     "output_type": "execute_result"
    }
   ],
   "source": [
    "LDA = LatentDirichletAllocation(n_components=5, random_state=35)\n",
    "LDA.fit(doc_term_matrix)"
   ]
  },
  {
   "cell_type": "code",
   "execution_count": 220,
   "metadata": {},
   "outputs": [
    {
     "name": "stdout",
     "output_type": "stream",
     "text": [
      "Top 10 words for topic #0:\n",
      "['clean', 'maintained', 'time', 'peaceful', 'beautiful', 'bangalore', 'nice', 'visit', 'place', 'temple']\n",
      "\n",
      "\n",
      "Top 10 words for topic #1:\n",
      "['visited', 'lord', 'bangalore', 'sri', 'time', 'visit', 'inside', 'krishna', 'iskcon', 'temple']\n",
      "\n",
      "\n",
      "Top 10 words for topic #2:\n",
      "['great', 'mind', 'god', 'spiritual', 'experience', 'temple', 'peace', 'feel', 'visit', 'place']\n",
      "\n",
      "\n",
      "Top 10 words for topic #3:\n",
      "['day', 'book', 'restaurant', 'darshan', 'lot', 'available', 'visit', 'place', 'food', 'temple']\n",
      "\n",
      "\n",
      "Top 10 words for topic #4:\n",
      "['radha', 'ram', 'chant', 'chanting', 'temple', 'place', 'lord', 'rama', 'hare', 'krishna']\n",
      "\n",
      "\n"
     ]
    }
   ],
   "source": [
    "for i,topic in enumerate(LDA.components_):\n",
    "    print(f'Top 10 words for topic #{i}:')\n",
    "    print([vectorizer.get_feature_names()[i] for i in topic.argsort()[-10:]])\n",
    "    print('\\n')"
   ]
  },
  {
   "cell_type": "code",
   "execution_count": 118,
   "metadata": {},
   "outputs": [
    {
     "data": {
      "text/html": [
       "<div>\n",
       "<style scoped>\n",
       "    .dataframe tbody tr th:only-of-type {\n",
       "        vertical-align: middle;\n",
       "    }\n",
       "\n",
       "    .dataframe tbody tr th {\n",
       "        vertical-align: top;\n",
       "    }\n",
       "\n",
       "    .dataframe thead th {\n",
       "        text-align: right;\n",
       "    }\n",
       "</style>\n",
       "<table border=\"1\" class=\"dataframe\">\n",
       "  <thead>\n",
       "    <tr style=\"text-align: right;\">\n",
       "      <th></th>\n",
       "      <th>REVIEW ID</th>\n",
       "      <th>SOURCE</th>\n",
       "      <th>REVIEW BY</th>\n",
       "      <th>REVIEW DATE</th>\n",
       "      <th>REVIEW MONTH</th>\n",
       "      <th>REVIEW YEAR</th>\n",
       "      <th>REVIEW SUBJECT</th>\n",
       "      <th>text</th>\n",
       "      <th>REVIEW RATING</th>\n",
       "      <th>REVIEW TYPE</th>\n",
       "      <th>topic_LDA</th>\n",
       "    </tr>\n",
       "  </thead>\n",
       "  <tbody>\n",
       "    <tr>\n",
       "      <th>0</th>\n",
       "      <td>2846</td>\n",
       "      <td>Facebook</td>\n",
       "      <td>Mathi Maddy</td>\n",
       "      <td>7/12/2015</td>\n",
       "      <td>July</td>\n",
       "      <td>2015</td>\n",
       "      <td>NaN</td>\n",
       "      <td>!!!!!!!!!!!!!!!Awesome! !!!!!!!!!!!!!! I ever ...</td>\n",
       "      <td>5</td>\n",
       "      <td>POSITIVE</td>\n",
       "      <td>3</td>\n",
       "    </tr>\n",
       "    <tr>\n",
       "      <th>1</th>\n",
       "      <td>3806</td>\n",
       "      <td>Google + HK HILL</td>\n",
       "      <td>Vinayak H.p</td>\n",
       "      <td>12/8/2016</td>\n",
       "      <td>December</td>\n",
       "      <td>2016</td>\n",
       "      <td>NaN</td>\n",
       "      <td>\" Wow ! What a beautiful place \" Iscon temple ...</td>\n",
       "      <td>5</td>\n",
       "      <td>POSITIVE</td>\n",
       "      <td>0</td>\n",
       "    </tr>\n",
       "    <tr>\n",
       "      <th>2</th>\n",
       "      <td>3881</td>\n",
       "      <td>Trip Advisor</td>\n",
       "      <td>ganeshkamath</td>\n",
       "      <td>12/19/2016</td>\n",
       "      <td>December</td>\n",
       "      <td>2016</td>\n",
       "      <td>Visit to Abode of Almighty</td>\n",
       "      <td>\"A must visit\" place for all those who live in...</td>\n",
       "      <td>5</td>\n",
       "      <td>POSITIVE</td>\n",
       "      <td>0</td>\n",
       "    </tr>\n",
       "    <tr>\n",
       "      <th>3</th>\n",
       "      <td>4043</td>\n",
       "      <td>Facebook</td>\n",
       "      <td>Vishwa Rastapur</td>\n",
       "      <td>1/10/2017</td>\n",
       "      <td>January</td>\n",
       "      <td>2017</td>\n",
       "      <td>NaN</td>\n",
       "      <td>\"Hare Rama Hare Rama Rama Rama Hare Hare, Hare...</td>\n",
       "      <td>5</td>\n",
       "      <td>POSITIVE</td>\n",
       "      <td>3</td>\n",
       "    </tr>\n",
       "    <tr>\n",
       "      <th>4</th>\n",
       "      <td>3954</td>\n",
       "      <td>Facebook</td>\n",
       "      <td>Shruthi Sukruti</td>\n",
       "      <td>1/2/2017</td>\n",
       "      <td>January</td>\n",
       "      <td>2017</td>\n",
       "      <td>NaN</td>\n",
       "      <td>\"Management system is nice.., each time we vis...</td>\n",
       "      <td>5</td>\n",
       "      <td>POSITIVE</td>\n",
       "      <td>2</td>\n",
       "    </tr>\n",
       "  </tbody>\n",
       "</table>\n",
       "</div>"
      ],
      "text/plain": [
       "   REVIEW ID            SOURCE        REVIEW BY REVIEW DATE REVIEW MONTH  \\\n",
       "0       2846          Facebook      Mathi Maddy   7/12/2015         July   \n",
       "1       3806  Google + HK HILL      Vinayak H.p   12/8/2016     December   \n",
       "2       3881      Trip Advisor     ganeshkamath  12/19/2016     December   \n",
       "3       4043          Facebook  Vishwa Rastapur   1/10/2017      January   \n",
       "4       3954          Facebook  Shruthi Sukruti    1/2/2017      January   \n",
       "\n",
       "   REVIEW YEAR              REVIEW SUBJECT  \\\n",
       "0         2015                         NaN   \n",
       "1         2016                         NaN   \n",
       "2         2016  Visit to Abode of Almighty   \n",
       "3         2017                         NaN   \n",
       "4         2017                         NaN   \n",
       "\n",
       "                                                text  REVIEW RATING  \\\n",
       "0  !!!!!!!!!!!!!!!Awesome! !!!!!!!!!!!!!! I ever ...              5   \n",
       "1  \" Wow ! What a beautiful place \" Iscon temple ...              5   \n",
       "2  \"A must visit\" place for all those who live in...              5   \n",
       "3  \"Hare Rama Hare Rama Rama Rama Hare Hare, Hare...              5   \n",
       "4  \"Management system is nice.., each time we vis...              5   \n",
       "\n",
       "  REVIEW TYPE  topic_LDA  \n",
       "0    POSITIVE          3  \n",
       "1    POSITIVE          0  \n",
       "2    POSITIVE          0  \n",
       "3    POSITIVE          3  \n",
       "4    POSITIVE          2  "
      ]
     },
     "execution_count": 118,
     "metadata": {},
     "output_type": "execute_result"
    }
   ],
   "source": [
    "topic_values = LDA.transform(doc_term_matrix)\n",
    "topic_values.shape\n",
    "iskcon['topic_LDA'] = topic_values.argmax(axis=1)\n",
    "iskcon.head()\n",
    "\n"
   ]
  },
  {
   "cell_type": "code",
   "execution_count": 185,
   "metadata": {},
   "outputs": [
    {
     "data": {
      "text/plain": [
       "(4644, 978)"
      ]
     },
     "execution_count": 185,
     "metadata": {},
     "output_type": "execute_result"
    }
   ],
   "source": [
    "tfidf_vect_trans = TfidfVectorizer(max_df=0.8, min_df=10, stop_words='english')\n",
    "\n",
    "doc_term_matrix2_trans = tfidf_vect_trans.fit_transform(translated['text_translated'].values.astype('U'))\n",
    "doc_term_matrix2_trans.shape"
   ]
  },
  {
   "cell_type": "code",
   "execution_count": 187,
   "metadata": {},
   "outputs": [
    {
     "data": {
      "text/html": [
       "<style>#sk-container-id-17 {color: black;background-color: white;}#sk-container-id-17 pre{padding: 0;}#sk-container-id-17 div.sk-toggleable {background-color: white;}#sk-container-id-17 label.sk-toggleable__label {cursor: pointer;display: block;width: 100%;margin-bottom: 0;padding: 0.3em;box-sizing: border-box;text-align: center;}#sk-container-id-17 label.sk-toggleable__label-arrow:before {content: \"▸\";float: left;margin-right: 0.25em;color: #696969;}#sk-container-id-17 label.sk-toggleable__label-arrow:hover:before {color: black;}#sk-container-id-17 div.sk-estimator:hover label.sk-toggleable__label-arrow:before {color: black;}#sk-container-id-17 div.sk-toggleable__content {max-height: 0;max-width: 0;overflow: hidden;text-align: left;background-color: #f0f8ff;}#sk-container-id-17 div.sk-toggleable__content pre {margin: 0.2em;color: black;border-radius: 0.25em;background-color: #f0f8ff;}#sk-container-id-17 input.sk-toggleable__control:checked~div.sk-toggleable__content {max-height: 200px;max-width: 100%;overflow: auto;}#sk-container-id-17 input.sk-toggleable__control:checked~label.sk-toggleable__label-arrow:before {content: \"▾\";}#sk-container-id-17 div.sk-estimator input.sk-toggleable__control:checked~label.sk-toggleable__label {background-color: #d4ebff;}#sk-container-id-17 div.sk-label input.sk-toggleable__control:checked~label.sk-toggleable__label {background-color: #d4ebff;}#sk-container-id-17 input.sk-hidden--visually {border: 0;clip: rect(1px 1px 1px 1px);clip: rect(1px, 1px, 1px, 1px);height: 1px;margin: -1px;overflow: hidden;padding: 0;position: absolute;width: 1px;}#sk-container-id-17 div.sk-estimator {font-family: monospace;background-color: #f0f8ff;border: 1px dotted black;border-radius: 0.25em;box-sizing: border-box;margin-bottom: 0.5em;}#sk-container-id-17 div.sk-estimator:hover {background-color: #d4ebff;}#sk-container-id-17 div.sk-parallel-item::after {content: \"\";width: 100%;border-bottom: 1px solid gray;flex-grow: 1;}#sk-container-id-17 div.sk-label:hover label.sk-toggleable__label {background-color: #d4ebff;}#sk-container-id-17 div.sk-serial::before {content: \"\";position: absolute;border-left: 1px solid gray;box-sizing: border-box;top: 0;bottom: 0;left: 50%;z-index: 0;}#sk-container-id-17 div.sk-serial {display: flex;flex-direction: column;align-items: center;background-color: white;padding-right: 0.2em;padding-left: 0.2em;position: relative;}#sk-container-id-17 div.sk-item {position: relative;z-index: 1;}#sk-container-id-17 div.sk-parallel {display: flex;align-items: stretch;justify-content: center;background-color: white;position: relative;}#sk-container-id-17 div.sk-item::before, #sk-container-id-17 div.sk-parallel-item::before {content: \"\";position: absolute;border-left: 1px solid gray;box-sizing: border-box;top: 0;bottom: 0;left: 50%;z-index: -1;}#sk-container-id-17 div.sk-parallel-item {display: flex;flex-direction: column;z-index: 1;position: relative;background-color: white;}#sk-container-id-17 div.sk-parallel-item:first-child::after {align-self: flex-end;width: 50%;}#sk-container-id-17 div.sk-parallel-item:last-child::after {align-self: flex-start;width: 50%;}#sk-container-id-17 div.sk-parallel-item:only-child::after {width: 0;}#sk-container-id-17 div.sk-dashed-wrapped {border: 1px dashed gray;margin: 0 0.4em 0.5em 0.4em;box-sizing: border-box;padding-bottom: 0.4em;background-color: white;}#sk-container-id-17 div.sk-label label {font-family: monospace;font-weight: bold;display: inline-block;line-height: 1.2em;}#sk-container-id-17 div.sk-label-container {text-align: center;}#sk-container-id-17 div.sk-container {/* jupyter's `normalize.less` sets `[hidden] { display: none; }` but bootstrap.min.css set `[hidden] { display: none !important; }` so we also need the `!important` here to be able to override the default hidden behavior on the sphinx rendered scikit-learn.org. See: https://github.com/scikit-learn/scikit-learn/issues/21755 */display: inline-block !important;position: relative;}#sk-container-id-17 div.sk-text-repr-fallback {display: none;}</style><div id=\"sk-container-id-17\" class=\"sk-top-container\"><div class=\"sk-text-repr-fallback\"><pre>NMF(n_components=5, random_state=35)</pre><b>In a Jupyter environment, please rerun this cell to show the HTML representation or trust the notebook. <br />On GitHub, the HTML representation is unable to render, please try loading this page with nbviewer.org.</b></div><div class=\"sk-container\" hidden><div class=\"sk-item\"><div class=\"sk-estimator sk-toggleable\"><input class=\"sk-toggleable__control sk-hidden--visually\" id=\"sk-estimator-id-17\" type=\"checkbox\" checked><label for=\"sk-estimator-id-17\" class=\"sk-toggleable__label sk-toggleable__label-arrow\">NMF</label><div class=\"sk-toggleable__content\"><pre>NMF(n_components=5, random_state=35)</pre></div></div></div></div></div>"
      ],
      "text/plain": [
       "NMF(n_components=5, random_state=35)"
      ]
     },
     "execution_count": 187,
     "metadata": {},
     "output_type": "execute_result"
    }
   ],
   "source": [
    "nmf_trans = NMF(n_components=5, random_state=35)\n",
    "nmf_trans.fit(doc_term_matrix2_trans)"
   ]
  },
  {
   "cell_type": "code",
   "execution_count": 188,
   "metadata": {},
   "outputs": [
    {
     "name": "stdout",
     "output_type": "stream",
     "text": [
      "Top 10 words for topic #0:\n",
      "['visited', 'maintained', 'clean', 'lord', 'inside', 'krishna', 'food', 'iskcon', 'beautiful', 'temple']\n",
      "\n",
      "\n",
      "Top 10 words for topic #1:\n",
      "['sri', 'radha', 'feel', 'chant', 'chanting', 'ram', 'lord', 'rama', 'krishna', 'hare']\n",
      "\n",
      "\n",
      "Top 10 words for topic #2:\n",
      "['beautiful', 'calm', 'love', 'mind', 'spiritual', 'great', 'awesome', 'peace', 'peaceful', 'place']\n",
      "\n",
      "\n",
      "Top 10 words for topic #3:\n",
      "['devotional', 'enjoyed', 'visit', 'location', 'family', 'food', 'view', 'place', 'temple', 'nice']\n",
      "\n",
      "\n",
      "Top 10 words for topic #4:\n",
      "['architecture', 'tourist', 'evening', 'worth', 'family', 'city', 'iskcon', 'time', 'bangalore', 'visit']\n",
      "\n",
      "\n"
     ]
    },
    {
     "name": "stderr",
     "output_type": "stream",
     "text": [
      "/Users/sonali/Library/Python/3.9/lib/python/site-packages/sklearn/utils/deprecation.py:87: FutureWarning: Function get_feature_names is deprecated; get_feature_names is deprecated in 1.0 and will be removed in 1.2. Please use get_feature_names_out instead.\n",
      "  warnings.warn(msg, category=FutureWarning)\n"
     ]
    }
   ],
   "source": [
    "for i,topic in enumerate(nmf_trans.components_):\n",
    "    print(f'Top 10 words for topic #{i}:')\n",
    "    print([tfidf_vect_trans.get_feature_names()[i] for i in topic.argsort()[-10:]])\n",
    "    print('\\n')"
   ]
  },
  {
   "cell_type": "code",
   "execution_count": 199,
   "metadata": {},
   "outputs": [
    {
     "name": "stdout",
     "output_type": "stream",
     "text": [
      "<class 'pandas.core.frame.DataFrame'>\n",
      "Int64Index: 4644 entries, 0 to 4644\n",
      "Data columns (total 14 columns):\n",
      " #   Column           Non-Null Count  Dtype \n",
      "---  ------           --------------  ----- \n",
      " 0   Unnamed: 0       4644 non-null   int64 \n",
      " 1   REVIEW ID        4644 non-null   int64 \n",
      " 2   SOURCE           4644 non-null   object\n",
      " 3   REVIEW BY        4642 non-null   object\n",
      " 4   REVIEW DATE      4644 non-null   object\n",
      " 5   REVIEW MONTH     4644 non-null   object\n",
      " 6   REVIEW YEAR      4644 non-null   int64 \n",
      " 7   REVIEW SUBJECT   2771 non-null   object\n",
      " 8   text             4644 non-null   object\n",
      " 9   REVIEW RATING    4644 non-null   int64 \n",
      " 10  REVIEW TYPE      4644 non-null   object\n",
      " 11  text_translated  4644 non-null   object\n",
      " 12  topic_LDA        4644 non-null   int64 \n",
      " 13  topic_NMF        4644 non-null   int64 \n",
      "dtypes: int64(6), object(8)\n",
      "memory usage: 673.3+ KB\n"
     ]
    }
   ],
   "source": [
    "topic_values2_trans = nmf_trans.transform(doc_term_matrix2_trans)\n",
    "translated['topic_NMF'] = topic_values2_trans.argmax(axis=1)\n",
    "translated.info()"
   ]
  },
  {
   "cell_type": "code",
   "execution_count": 186,
   "metadata": {},
   "outputs": [
    {
     "data": {
      "text/plain": [
       "(4645, 974)"
      ]
     },
     "execution_count": 186,
     "metadata": {},
     "output_type": "execute_result"
    }
   ],
   "source": [
    "tfidf_vect = TfidfVectorizer(max_df=0.8, min_df=10, stop_words='english')\n",
    "\n",
    "doc_term_matrix2 = tfidf_vect.fit_transform(iskcon['text'].values.astype('U'))\n",
    "doc_term_matrix2.shape"
   ]
  },
  {
   "cell_type": "code",
   "execution_count": 120,
   "metadata": {},
   "outputs": [
    {
     "data": {
      "text/html": [
       "<style>#sk-container-id-10 {color: black;background-color: white;}#sk-container-id-10 pre{padding: 0;}#sk-container-id-10 div.sk-toggleable {background-color: white;}#sk-container-id-10 label.sk-toggleable__label {cursor: pointer;display: block;width: 100%;margin-bottom: 0;padding: 0.3em;box-sizing: border-box;text-align: center;}#sk-container-id-10 label.sk-toggleable__label-arrow:before {content: \"▸\";float: left;margin-right: 0.25em;color: #696969;}#sk-container-id-10 label.sk-toggleable__label-arrow:hover:before {color: black;}#sk-container-id-10 div.sk-estimator:hover label.sk-toggleable__label-arrow:before {color: black;}#sk-container-id-10 div.sk-toggleable__content {max-height: 0;max-width: 0;overflow: hidden;text-align: left;background-color: #f0f8ff;}#sk-container-id-10 div.sk-toggleable__content pre {margin: 0.2em;color: black;border-radius: 0.25em;background-color: #f0f8ff;}#sk-container-id-10 input.sk-toggleable__control:checked~div.sk-toggleable__content {max-height: 200px;max-width: 100%;overflow: auto;}#sk-container-id-10 input.sk-toggleable__control:checked~label.sk-toggleable__label-arrow:before {content: \"▾\";}#sk-container-id-10 div.sk-estimator input.sk-toggleable__control:checked~label.sk-toggleable__label {background-color: #d4ebff;}#sk-container-id-10 div.sk-label input.sk-toggleable__control:checked~label.sk-toggleable__label {background-color: #d4ebff;}#sk-container-id-10 input.sk-hidden--visually {border: 0;clip: rect(1px 1px 1px 1px);clip: rect(1px, 1px, 1px, 1px);height: 1px;margin: -1px;overflow: hidden;padding: 0;position: absolute;width: 1px;}#sk-container-id-10 div.sk-estimator {font-family: monospace;background-color: #f0f8ff;border: 1px dotted black;border-radius: 0.25em;box-sizing: border-box;margin-bottom: 0.5em;}#sk-container-id-10 div.sk-estimator:hover {background-color: #d4ebff;}#sk-container-id-10 div.sk-parallel-item::after {content: \"\";width: 100%;border-bottom: 1px solid gray;flex-grow: 1;}#sk-container-id-10 div.sk-label:hover label.sk-toggleable__label {background-color: #d4ebff;}#sk-container-id-10 div.sk-serial::before {content: \"\";position: absolute;border-left: 1px solid gray;box-sizing: border-box;top: 0;bottom: 0;left: 50%;z-index: 0;}#sk-container-id-10 div.sk-serial {display: flex;flex-direction: column;align-items: center;background-color: white;padding-right: 0.2em;padding-left: 0.2em;position: relative;}#sk-container-id-10 div.sk-item {position: relative;z-index: 1;}#sk-container-id-10 div.sk-parallel {display: flex;align-items: stretch;justify-content: center;background-color: white;position: relative;}#sk-container-id-10 div.sk-item::before, #sk-container-id-10 div.sk-parallel-item::before {content: \"\";position: absolute;border-left: 1px solid gray;box-sizing: border-box;top: 0;bottom: 0;left: 50%;z-index: -1;}#sk-container-id-10 div.sk-parallel-item {display: flex;flex-direction: column;z-index: 1;position: relative;background-color: white;}#sk-container-id-10 div.sk-parallel-item:first-child::after {align-self: flex-end;width: 50%;}#sk-container-id-10 div.sk-parallel-item:last-child::after {align-self: flex-start;width: 50%;}#sk-container-id-10 div.sk-parallel-item:only-child::after {width: 0;}#sk-container-id-10 div.sk-dashed-wrapped {border: 1px dashed gray;margin: 0 0.4em 0.5em 0.4em;box-sizing: border-box;padding-bottom: 0.4em;background-color: white;}#sk-container-id-10 div.sk-label label {font-family: monospace;font-weight: bold;display: inline-block;line-height: 1.2em;}#sk-container-id-10 div.sk-label-container {text-align: center;}#sk-container-id-10 div.sk-container {/* jupyter's `normalize.less` sets `[hidden] { display: none; }` but bootstrap.min.css set `[hidden] { display: none !important; }` so we also need the `!important` here to be able to override the default hidden behavior on the sphinx rendered scikit-learn.org. See: https://github.com/scikit-learn/scikit-learn/issues/21755 */display: inline-block !important;position: relative;}#sk-container-id-10 div.sk-text-repr-fallback {display: none;}</style><div id=\"sk-container-id-10\" class=\"sk-top-container\"><div class=\"sk-text-repr-fallback\"><pre>NMF(n_components=5, random_state=35)</pre><b>In a Jupyter environment, please rerun this cell to show the HTML representation or trust the notebook. <br />On GitHub, the HTML representation is unable to render, please try loading this page with nbviewer.org.</b></div><div class=\"sk-container\" hidden><div class=\"sk-item\"><div class=\"sk-estimator sk-toggleable\"><input class=\"sk-toggleable__control sk-hidden--visually\" id=\"sk-estimator-id-10\" type=\"checkbox\" checked><label for=\"sk-estimator-id-10\" class=\"sk-toggleable__label sk-toggleable__label-arrow\">NMF</label><div class=\"sk-toggleable__content\"><pre>NMF(n_components=5, random_state=35)</pre></div></div></div></div></div>"
      ],
      "text/plain": [
       "NMF(n_components=5, random_state=35)"
      ]
     },
     "execution_count": 120,
     "metadata": {},
     "output_type": "execute_result"
    }
   ],
   "source": [
    "nmf = NMF(n_components=5, random_state=35)\n",
    "nmf.fit(doc_term_matrix2)"
   ]
  },
  {
   "cell_type": "code",
   "execution_count": 121,
   "metadata": {},
   "outputs": [
    {
     "name": "stdout",
     "output_type": "stream",
     "text": [
      "Top 10 words for topic #0:\n",
      "['inside', 'lord', 'like', 'food', 'krishna', 'visit', 'iskcon', 'bangalore', 'beautiful', 'temple']\n",
      "\n",
      "\n",
      "Top 10 words for topic #1:\n",
      "['sri', 'radha', 'feel', 'chant', 'chanting', 'lord', 'ram', 'rama', 'krishna', 'hare']\n",
      "\n",
      "\n",
      "Top 10 words for topic #2:\n",
      "['neat', 'location', 'enjoyed', 'environment', 'really', 'food', 'view', 'temple', 'place', 'nice']\n",
      "\n",
      "\n",
      "Top 10 words for topic #3:\n",
      "['mind', 'spiritual', 'love', 'great', 'bangalore', 'awesome', 'peace', 'peaceful', 'visit', 'place']\n",
      "\n",
      "\n",
      "Top 10 words for topic #4:\n",
      "['architecture', 'location', 'really', 'clean', 'temple', 'atmosphere', 'maintenance', 'environment', 'food', 'good']\n",
      "\n",
      "\n"
     ]
    },
    {
     "name": "stderr",
     "output_type": "stream",
     "text": [
      "/Users/sonali/Library/Python/3.9/lib/python/site-packages/sklearn/utils/deprecation.py:87: FutureWarning: Function get_feature_names is deprecated; get_feature_names is deprecated in 1.0 and will be removed in 1.2. Please use get_feature_names_out instead.\n",
      "  warnings.warn(msg, category=FutureWarning)\n"
     ]
    }
   ],
   "source": [
    "for i,topic in enumerate(nmf.components_):\n",
    "    print(f'Top 10 words for topic #{i}:')\n",
    "    print([tfidf_vect.get_feature_names()[i] for i in topic.argsort()[-10:]])\n",
    "    print('\\n')"
   ]
  },
  {
   "cell_type": "code",
   "execution_count": 136,
   "metadata": {},
   "outputs": [
    {
     "name": "stdout",
     "output_type": "stream",
     "text": [
      "<class 'pandas.core.frame.DataFrame'>\n",
      "RangeIndex: 4645 entries, 0 to 4644\n",
      "Data columns (total 12 columns):\n",
      " #   Column          Non-Null Count  Dtype \n",
      "---  ------          --------------  ----- \n",
      " 0   REVIEW ID       4645 non-null   int64 \n",
      " 1   SOURCE          4645 non-null   object\n",
      " 2   REVIEW BY       4643 non-null   object\n",
      " 3   REVIEW DATE     4645 non-null   object\n",
      " 4   REVIEW MONTH    4645 non-null   object\n",
      " 5   REVIEW YEAR     4645 non-null   int64 \n",
      " 6   REVIEW SUBJECT  2771 non-null   object\n",
      " 7   text            4645 non-null   object\n",
      " 8   REVIEW RATING   4645 non-null   int64 \n",
      " 9   REVIEW TYPE     4645 non-null   object\n",
      " 10  topic_LDA       4645 non-null   int64 \n",
      " 11  topic_NMF       4645 non-null   int64 \n",
      "dtypes: int64(5), object(7)\n",
      "memory usage: 435.6+ KB\n"
     ]
    }
   ],
   "source": [
    "topic_values2 = nmf.transform(doc_term_matrix2)\n",
    "iskcon['topic_NMF'] = topic_values2.argmax(axis=1)\n",
    "iskcon.info()"
   ]
  },
  {
   "cell_type": "code",
   "execution_count": 137,
   "metadata": {},
   "outputs": [],
   "source": [
    "iskcon.to_csv('/Users/sonali/Desktop/Okstate/BAN 5743/Week11/iskcon_topics')"
   ]
  },
  {
   "cell_type": "code",
   "execution_count": 200,
   "metadata": {},
   "outputs": [],
   "source": [
    "translated.to_csv('/Users/sonali/Desktop/Okstate/BAN 5743/Week11/translated_topics.csv')"
   ]
  },
  {
   "cell_type": "code",
   "execution_count": null,
   "metadata": {},
   "outputs": [],
   "source": [
    "translated_topics = pd.read_csv('/Users/sonali/Desktop/Okstate/BAN 5743/Week11/translated_topics.csv')\n",
    "translated_topics.info()"
   ]
  },
  {
   "cell_type": "code",
   "execution_count": 280,
   "metadata": {},
   "outputs": [
    {
     "data": {
      "text/plain": [
       "<AxesSubplot: title={'center': 'Comments by Topic'}>"
      ]
     },
     "execution_count": 280,
     "metadata": {},
     "output_type": "execute_result"
    },
    {
     "data": {
      "image/png": "[encoded data removed]",
      "text/plain": [
       "<Figure size 400x300 with 1 Axes>"
      ]
     },
     "metadata": {},
     "output_type": "display_data"
    }
   ],
   "source": [
    "translated_topics['topic_NMF'].value_counts().sort_index().plot(kind='bar',title='Comments by Topic')\n"
   ]
  },
  {
   "cell_type": "code",
   "execution_count": 281,
   "metadata": {},
   "outputs": [
    {
     "data": {
      "text/plain": [
       "<AxesSubplot: title={'center': 'Comments by Year and Topic'}>"
      ]
     },
     "execution_count": 281,
     "metadata": {},
     "output_type": "execute_result"
    },
    {
     "data": {
      "image/png": "[encoded data removed]",
      "text/plain": [
       "<Figure size 400x300 with 1 Axes>"
      ]
     },
     "metadata": {},
     "output_type": "display_data"
    }
   ],
   "source": [
    "trend = translated_topics.groupby(['REVIEW YEAR', 'topic_NMF'])['topic_NMF'].count().unstack()\n",
    "\n",
    "trend.plot(kind='bar',title='Comments by Year and Topic',xlabel=\"\")"
   ]
  }
 ],
 "metadata": {
  "kernelspec": {
   "display_name": "Python 3",
   "language": "python",
   "name": "python3"
  },
  "language_info": {
   "codemirror_mode": {
    "name": "ipython",
    "version": 3
   },
   "file_extension": ".py",
   "mimetype": "text/x-python",
   "name": "python",
   "nbconvert_exporter": "python",
   "pygments_lexer": "ipython3",
   "version": "3.9.16"
  },
  "orig_nbformat": 4
 },
 "nbformat": 4,
 "nbformat_minor": 2
}
